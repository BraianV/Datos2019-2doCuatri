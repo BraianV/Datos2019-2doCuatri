{
 "cells": [
  {
   "cell_type": "code",
   "execution_count": 69,
   "metadata": {},
   "outputs": [],
   "source": [
    "import pandas as pd\n",
    "import numpy as np\n",
    "\n",
    "import matplotlib.pyplot as plt\n",
    "import seaborn as sns\n",
    "%matplotlib inline"
   ]
  },
  {
   "cell_type": "code",
   "execution_count": 70,
   "metadata": {},
   "outputs": [],
   "source": [
    "df = pd.read_csv(\"data/train.csv\")"
   ]
  },
  {
   "cell_type": "code",
   "execution_count": 71,
   "metadata": {},
   "outputs": [
    {
     "data": {
      "text/plain": [
       "Index(['id', 'titulo', 'descripcion', 'tipodepropiedad', 'direccion', 'ciudad',\n",
       "       'provincia', 'antiguedad', 'habitaciones', 'garages', 'banos',\n",
       "       'metroscubiertos', 'metrostotales', 'idzona', 'lat', 'lng', 'fecha',\n",
       "       'gimnasio', 'usosmultiples', 'piscina', 'escuelascercanas',\n",
       "       'centroscomercialescercanos', 'precio'],\n",
       "      dtype='object')"
      ]
     },
     "execution_count": 71,
     "metadata": {},
     "output_type": "execute_result"
    }
   ],
   "source": [
    "df.columns"
   ]
  },
  {
   "cell_type": "code",
   "execution_count": 72,
   "metadata": {},
   "outputs": [
    {
     "data": {
      "text/plain": [
       "<matplotlib.axes._subplots.AxesSubplot at 0x7f76c8bb5e48>"
      ]
     },
     "execution_count": 72,
     "metadata": {},
     "output_type": "execute_result"
    },
    {
     "data": {
      "image/png": "[encoded data removed]",
      "text/plain": [
       "<Figure size 432x288 with 1 Axes>"
      ]
     },
     "metadata": {
      "needs_background": "light"
     },
     "output_type": "display_data"
    }
   ],
   "source": [
    "df.metroscubiertos.plot(kind = 'box')"
   ]
  },
  {
   "cell_type": "code",
   "execution_count": 73,
   "metadata": {},
   "outputs": [
    {
     "data": {
      "text/plain": [
       "<matplotlib.axes._subplots.AxesSubplot at 0x7f76c84eb390>"
      ]
     },
     "execution_count": 73,
     "metadata": {},
     "output_type": "execute_result"
    },
    {
     "data": {
      "image/png": "[encoded data removed]",
      "text/plain": [
       "<Figure size 432x288 with 1 Axes>"
      ]
     },
     "metadata": {
      "needs_background": "light"
     },
     "output_type": "display_data"
    }
   ],
   "source": [
    "df.metrostotales.plot(kind = 'box')"
   ]
  },
  {
   "cell_type": "code",
   "execution_count": 74,
   "metadata": {},
   "outputs": [],
   "source": [
    "df['precio_del_metro_cuadrado'] = df.precio / df.metrostotales"
   ]
  },
  {
   "cell_type": "code",
   "execution_count": 75,
   "metadata": {},
   "outputs": [
    {
     "data": {
      "text/plain": [
       "Distrito Federal         58790\n",
       "Edo. de México           41607\n",
       "Jalisco                  21238\n",
       "Querétaro                16988\n",
       "Nuevo León               15324\n",
       "Puebla                   10421\n",
       "San luis Potosí           8447\n",
       "Yucatán                   7928\n",
       "Morelos                   7337\n",
       "Veracruz                  5762\n",
       "Quintana Roo              4756\n",
       "Chihuahua                 4590\n",
       "Coahuila                  3695\n",
       "Baja California Norte     3220\n",
       "Sonora                    2988\n",
       "Guanajuato                2860\n",
       "Guerrero                  2678\n",
       "Hidalgo                   2521\n",
       "Michoacán                 2471\n",
       "Tamaulipas                2303\n",
       "Durango                   2275\n",
       "Sinaloa                   1806\n",
       "Aguascalientes            1753\n",
       "Baja California Sur       1700\n",
       "Nayarit                   1352\n",
       "Chiapas                   1126\n",
       "Colima                    1008\n",
       "Tabasco                    994\n",
       "Tlaxcala                   839\n",
       "Oaxaca                     711\n",
       "Campeche                   263\n",
       "Zacatecas                   94\n",
       "Name: provincia, dtype: int64"
      ]
     },
     "execution_count": 75,
     "metadata": {},
     "output_type": "execute_result"
    }
   ],
   "source": [
    "df.provincia.value_counts()"
   ]
  },
  {
   "cell_type": "code",
   "execution_count": 79,
   "metadata": {},
   "outputs": [
    {
     "data": {
      "text/plain": [
       "Edo. de México           100397\n",
       "Jalisco                   21238\n",
       "Querétaro                 16988\n",
       "Nuevo León                15324\n",
       "Puebla                    10421\n",
       "San luis Potosí            8447\n",
       "Yucatán                    7928\n",
       "Morelos                    7337\n",
       "Veracruz                   5762\n",
       "Quintana Roo               4756\n",
       "Chihuahua                  4590\n",
       "Coahuila                   3695\n",
       "Baja California Norte      3220\n",
       "Sonora                     2988\n",
       "Guanajuato                 2860\n",
       "Guerrero                   2678\n",
       "Hidalgo                    2521\n",
       "Michoacán                  2471\n",
       "Tamaulipas                 2303\n",
       "Durango                    2275\n",
       "Sinaloa                    1806\n",
       "Aguascalientes             1753\n",
       "Baja California Sur        1700\n",
       "Nayarit                    1352\n",
       "Chiapas                    1126\n",
       "Colima                     1008\n",
       "Tabasco                     994\n",
       "Tlaxcala                    839\n",
       "Oaxaca                      711\n",
       "Campeche                    263\n",
       "Zacatecas                    94\n",
       "Name: provincia, dtype: int64"
      ]
     },
     "execution_count": 79,
     "metadata": {},
     "output_type": "execute_result"
    }
   ],
   "source": [
    "df.provincia = df.provincia.map(lambda x :  'Edo. de México'if x == 'Distrito Federal' else x)\n",
    "df.provincia.value_counts()"
   ]
  },
  {
   "cell_type": "code",
   "execution_count": 82,
   "metadata": {},
   "outputs": [
    {
     "data": {
      "text/html": [
       "<div>\n",
       "<style scoped>\n",
       "    .dataframe tbody tr th:only-of-type {\n",
       "        vertical-align: middle;\n",
       "    }\n",
       "\n",
       "    .dataframe tbody tr th {\n",
       "        vertical-align: top;\n",
       "    }\n",
       "\n",
       "    .dataframe thead th {\n",
       "        text-align: right;\n",
       "    }\n",
       "</style>\n",
       "<table border=\"1\" class=\"dataframe\">\n",
       "  <thead>\n",
       "    <tr style=\"text-align: right;\">\n",
       "      <th></th>\n",
       "      <th>precio_del_metro_cuadrado</th>\n",
       "    </tr>\n",
       "    <tr>\n",
       "      <th>provincia</th>\n",
       "      <th></th>\n",
       "    </tr>\n",
       "  </thead>\n",
       "  <tbody>\n",
       "    <tr>\n",
       "      <th>Edo. de México</th>\n",
       "      <td>19413.001051</td>\n",
       "    </tr>\n",
       "    <tr>\n",
       "      <th>Guerrero</th>\n",
       "      <td>14678.291470</td>\n",
       "    </tr>\n",
       "    <tr>\n",
       "      <th>Jalisco</th>\n",
       "      <td>13570.913738</td>\n",
       "    </tr>\n",
       "    <tr>\n",
       "      <th>Tabasco</th>\n",
       "      <td>13366.246230</td>\n",
       "    </tr>\n",
       "    <tr>\n",
       "      <th>Nuevo León</th>\n",
       "      <td>13197.894574</td>\n",
       "    </tr>\n",
       "    <tr>\n",
       "      <th>Puebla</th>\n",
       "      <td>12935.559997</td>\n",
       "    </tr>\n",
       "    <tr>\n",
       "      <th>Quintana Roo</th>\n",
       "      <td>12673.585135</td>\n",
       "    </tr>\n",
       "    <tr>\n",
       "      <th>Chiapas</th>\n",
       "      <td>11020.039292</td>\n",
       "    </tr>\n",
       "    <tr>\n",
       "      <th>Veracruz</th>\n",
       "      <td>10858.965150</td>\n",
       "    </tr>\n",
       "    <tr>\n",
       "      <th>Guanajuato</th>\n",
       "      <td>10582.114212</td>\n",
       "    </tr>\n",
       "    <tr>\n",
       "      <th>Querétaro</th>\n",
       "      <td>10542.430314</td>\n",
       "    </tr>\n",
       "    <tr>\n",
       "      <th>San luis Potosí</th>\n",
       "      <td>10459.465715</td>\n",
       "    </tr>\n",
       "    <tr>\n",
       "      <th>Morelos</th>\n",
       "      <td>10017.064217</td>\n",
       "    </tr>\n",
       "    <tr>\n",
       "      <th>Zacatecas</th>\n",
       "      <td>9923.806834</td>\n",
       "    </tr>\n",
       "    <tr>\n",
       "      <th>Oaxaca</th>\n",
       "      <td>9647.169256</td>\n",
       "    </tr>\n",
       "    <tr>\n",
       "      <th>Nayarit</th>\n",
       "      <td>9511.649444</td>\n",
       "    </tr>\n",
       "    <tr>\n",
       "      <th>Michoacán</th>\n",
       "      <td>9414.540506</td>\n",
       "    </tr>\n",
       "    <tr>\n",
       "      <th>Sinaloa</th>\n",
       "      <td>9168.727438</td>\n",
       "    </tr>\n",
       "    <tr>\n",
       "      <th>Campeche</th>\n",
       "      <td>8697.074357</td>\n",
       "    </tr>\n",
       "    <tr>\n",
       "      <th>Tamaulipas</th>\n",
       "      <td>8399.849454</td>\n",
       "    </tr>\n",
       "    <tr>\n",
       "      <th>Yucatán</th>\n",
       "      <td>8358.432465</td>\n",
       "    </tr>\n",
       "    <tr>\n",
       "      <th>Hidalgo</th>\n",
       "      <td>8276.294305</td>\n",
       "    </tr>\n",
       "    <tr>\n",
       "      <th>Aguascalientes</th>\n",
       "      <td>8191.787234</td>\n",
       "    </tr>\n",
       "    <tr>\n",
       "      <th>Chihuahua</th>\n",
       "      <td>7651.501242</td>\n",
       "    </tr>\n",
       "    <tr>\n",
       "      <th>Tlaxcala</th>\n",
       "      <td>7495.538034</td>\n",
       "    </tr>\n",
       "    <tr>\n",
       "      <th>Colima</th>\n",
       "      <td>7313.212268</td>\n",
       "    </tr>\n",
       "    <tr>\n",
       "      <th>Coahuila</th>\n",
       "      <td>7042.142596</td>\n",
       "    </tr>\n",
       "    <tr>\n",
       "      <th>Sonora</th>\n",
       "      <td>6657.331157</td>\n",
       "    </tr>\n",
       "    <tr>\n",
       "      <th>Baja California Sur</th>\n",
       "      <td>6485.002327</td>\n",
       "    </tr>\n",
       "    <tr>\n",
       "      <th>Durango</th>\n",
       "      <td>6367.351148</td>\n",
       "    </tr>\n",
       "    <tr>\n",
       "      <th>Baja California Norte</th>\n",
       "      <td>5968.995969</td>\n",
       "    </tr>\n",
       "  </tbody>\n",
       "</table>\n",
       "</div>"
      ],
      "text/plain": [
       "                       precio_del_metro_cuadrado\n",
       "provincia                                       \n",
       "Edo. de México                      19413.001051\n",
       "Guerrero                            14678.291470\n",
       "Jalisco                             13570.913738\n",
       "Tabasco                             13366.246230\n",
       "Nuevo León                          13197.894574\n",
       "Puebla                              12935.559997\n",
       "Quintana Roo                        12673.585135\n",
       "Chiapas                             11020.039292\n",
       "Veracruz                            10858.965150\n",
       "Guanajuato                          10582.114212\n",
       "Querétaro                           10542.430314\n",
       "San luis Potosí                     10459.465715\n",
       "Morelos                             10017.064217\n",
       "Zacatecas                            9923.806834\n",
       "Oaxaca                               9647.169256\n",
       "Nayarit                              9511.649444\n",
       "Michoacán                            9414.540506\n",
       "Sinaloa                              9168.727438\n",
       "Campeche                             8697.074357\n",
       "Tamaulipas                           8399.849454\n",
       "Yucatán                              8358.432465\n",
       "Hidalgo                              8276.294305\n",
       "Aguascalientes                       8191.787234\n",
       "Chihuahua                            7651.501242\n",
       "Tlaxcala                             7495.538034\n",
       "Colima                               7313.212268\n",
       "Coahuila                             7042.142596\n",
       "Sonora                               6657.331157\n",
       "Baja California Sur                  6485.002327\n",
       "Durango                              6367.351148\n",
       "Baja California Norte                5968.995969"
      ]
     },
     "execution_count": 82,
     "metadata": {},
     "output_type": "execute_result"
    }
   ],
   "source": [
    "df\\\n",
    ".loc[:,['provincia','precio_del_metro_cuadrado']]\\\n",
    ".groupby('provincia')\\\n",
    ".mean()\\\n",
    ".sort_values('precio_del_metro_cuadrado',ascending = False)"
   ]
  },
  {
   "cell_type": "code",
   "execution_count": null,
   "metadata": {},
   "outputs": [],
   "source": []
  },
  {
   "cell_type": "code",
   "execution_count": 83,
   "metadata": {},
   "outputs": [],
   "source": [
    "### analisis aparte... por distrito y año para ver la inflacion promedio de estos."
   ]
  },
  {
   "cell_type": "code",
   "execution_count": 85,
   "metadata": {},
   "outputs": [],
   "source": [
    "df['fecha'] = pd.to_datetime(df['fecha'])"
   ]
  },
  {
   "cell_type": "code",
   "execution_count": 91,
   "metadata": {},
   "outputs": [],
   "source": [
    "df['anio'] = df.fecha.dt.year"
   ]
  },
  {
   "cell_type": "code",
   "execution_count": 93,
   "metadata": {},
   "outputs": [
    {
     "data": {
      "text/plain": [
       "anio  provincia            \n",
       "2012  Aguascalientes             177\n",
       "      Baja California Norte      301\n",
       "      Baja California Sur        239\n",
       "      Campeche                    48\n",
       "      Chiapas                    162\n",
       "      Chihuahua                  254\n",
       "      Coahuila                   483\n",
       "      Colima                     183\n",
       "      Durango                    192\n",
       "      Edo. de México           10504\n",
       "      Guanajuato                 674\n",
       "      Guerrero                   376\n",
       "      Hidalgo                    322\n",
       "      Jalisco                    991\n",
       "      Michoacán                  322\n",
       "      Morelos                   1124\n",
       "      Nayarit                    102\n",
       "      Nuevo León                 840\n",
       "      Oaxaca                     123\n",
       "      Puebla                     870\n",
       "      Querétaro                 1412\n",
       "      Quintana Roo               569\n",
       "      San luis Potosí            587\n",
       "      Sinaloa                    142\n",
       "      Sonora                     295\n",
       "      Tabasco                    160\n",
       "      Tamaulipas                 332\n",
       "      Tlaxcala                    65\n",
       "      Veracruz                   591\n",
       "      Yucatán                   1077\n",
       "                               ...  \n",
       "2016  Baja California Norte      850\n",
       "      Baja California Sur        200\n",
       "      Campeche                    74\n",
       "      Chiapas                    413\n",
       "      Chihuahua                 1605\n",
       "      Coahuila                  1137\n",
       "      Colima                     342\n",
       "      Durango                    884\n",
       "      Edo. de México           36306\n",
       "      Guanajuato                 905\n",
       "      Guerrero                   950\n",
       "      Hidalgo                   1101\n",
       "      Jalisco                  10783\n",
       "      Michoacán                  908\n",
       "      Morelos                   2638\n",
       "      Nayarit                    523\n",
       "      Nuevo León                7744\n",
       "      Oaxaca                     219\n",
       "      Puebla                    4908\n",
       "      Querétaro                 7556\n",
       "      Quintana Roo              2089\n",
       "      San luis Potosí           2576\n",
       "      Sinaloa                    665\n",
       "      Sonora                    1212\n",
       "      Tabasco                    295\n",
       "      Tamaulipas                 818\n",
       "      Tlaxcala                   397\n",
       "      Veracruz                  2156\n",
       "      Yucatán                   3153\n",
       "      Zacatecas                   23\n",
       "Length: 155, dtype: int64"
      ]
     },
     "execution_count": 93,
     "metadata": {},
     "output_type": "execute_result"
    }
   ],
   "source": [
    "df.groupby(['anio','provincia']).size()"
   ]
  },
  {
   "cell_type": "code",
   "execution_count": null,
   "metadata": {},
   "outputs": [],
   "source": []
  }
 ],
 "metadata": {
  "kernelspec": {
   "display_name": "Python 3",
   "language": "python",
   "name": "python3"
  },
  "language_info": {
   "codemirror_mode": {
    "name": "ipython",
    "version": 3
   },
   "file_extension": ".py",
   "mimetype": "text/x-python",
   "name": "python",
   "nbconvert_exporter": "python",
   "pygments_lexer": "ipython3",
   "version": "3.7.1"
  }
 },
 "nbformat": 4,
 "nbformat_minor": 2
}
