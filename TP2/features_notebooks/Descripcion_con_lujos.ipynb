{
 "cells": [
  {
   "cell_type": "markdown",
   "metadata": {},
   "source": [
    "#### Se busca palabras que relacionen a la propiedad con algun tipo de plaza o derivados que modifique su precio"
   ]
  },
  {
   "cell_type": "code",
   "execution_count": 31,
   "metadata": {},
   "outputs": [
    {
     "name": "stdout",
     "output_type": "stream",
     "text": [
      "The autoreload extension is already loaded. To reload it, use:\n",
      "  %reload_ext autoreload\n"
     ]
    }
   ],
   "source": [
    "%matplotlib inline\n",
    "%load_ext autoreload\n",
    "%autoreload 2\n",
    "\n",
    "import pandas as pd\n",
    "import numpy as np\n",
    "import filter_feature_string as clean\n",
    "import getTopicos as getTopicos"
   ]
  },
  {
   "cell_type": "code",
   "execution_count": 32,
   "metadata": {},
   "outputs": [],
   "source": [
    "path_features_train = \"features_csvs/train_descripcion_con_lujos.csv\"\n",
    "path_features_test = \"features_csvs/test_descripcion_con_lujos.csv\""
   ]
  },
  {
   "cell_type": "code",
   "execution_count": 33,
   "metadata": {},
   "outputs": [],
   "source": [
    "train = pd.read_csv(\"../data/train.csv\")\n",
    "test = pd.read_csv(\"../data/test.csv\")"
   ]
  },
  {
   "cell_type": "code",
   "execution_count": 34,
   "metadata": {},
   "outputs": [],
   "source": [
    "#palabras relacionadas con cuestiones acuaticas\n",
    "topicos = ['lujosa','lujoso','lujo','gamma','gama','acabados','jacuzzi','mansiones','spa','masion','mancion','tenis','tennis','tenis','cascada','chalet','acuario','exclusivo','standing','chalet','ciudadela cerrada','ciudadela privada', 'barrio cerrado' ,'barrio privado', 'country', 'colonia privada','urbanizacion cerrada']"
   ]
  },
  {
   "cell_type": "code",
   "execution_count": 35,
   "metadata": {},
   "outputs": [
    {
     "data": {
      "text/plain": [
       "Index(['id', 'titulo', 'descripcion', 'tipodepropiedad', 'direccion', 'ciudad',\n",
       "       'provincia', 'antiguedad', 'habitaciones', 'garages', 'banos',\n",
       "       'metroscubiertos', 'metrostotales', 'idzona', 'lat', 'lng', 'fecha',\n",
       "       'gimnasio', 'usosmultiples', 'piscina', 'escuelascercanas',\n",
       "       'centroscomercialescercanos', 'precio'],\n",
       "      dtype='object')"
      ]
     },
     "execution_count": 35,
     "metadata": {},
     "output_type": "execute_result"
    }
   ],
   "source": [
    "train.columns"
   ]
  },
  {
   "cell_type": "code",
   "execution_count": 36,
   "metadata": {},
   "outputs": [
    {
     "name": "stdout",
     "output_type": "stream",
     "text": [
      "Distribucion del feature : es_de_lujo\n",
      "0    0.662212\n",
      "1    0.337788\n",
      "Name: es_de_lujo, dtype: float64\n"
     ]
    }
   ],
   "source": [
    "df_con_gamma_alta_train = getTopicos.get_topicos_in_column(train,topicos,'descripcion',\"es_de_lujo\")"
   ]
  },
  {
   "cell_type": "code",
   "execution_count": 37,
   "metadata": {},
   "outputs": [
    {
     "name": "stdout",
     "output_type": "stream",
     "text": [
      "Distribucion del feature : es_de_lujo\n",
      "0    0.659317\n",
      "1    0.340683\n",
      "Name: es_de_lujo, dtype: float64\n"
     ]
    }
   ],
   "source": [
    "df_con_gamma_alta_test = getTopicos.get_topicos_in_column(test,topicos,'descripcion',\"es_de_lujo\")"
   ]
  },
  {
   "cell_type": "code",
   "execution_count": 38,
   "metadata": {},
   "outputs": [],
   "source": [
    "df_con_gamma_alta_train.to_csv(path_features_train, index=False)\n",
    "df_con_gamma_alta_test.to_csv(path_features_test, index=False)"
   ]
  },
  {
   "cell_type": "code",
   "execution_count": null,
   "metadata": {},
   "outputs": [],
   "source": []
  }
 ],
 "metadata": {
  "kernelspec": {
   "display_name": "Python 3",
   "language": "python",
   "name": "python3"
  },
  "language_info": {
   "codemirror_mode": {
    "name": "ipython",
    "version": 3
   },
   "file_extension": ".py",
   "mimetype": "text/x-python",
   "name": "python",
   "nbconvert_exporter": "python",
   "pygments_lexer": "ipython3",
   "version": "3.7.1"
  }
 },
 "nbformat": 4,
 "nbformat_minor": 2
}
