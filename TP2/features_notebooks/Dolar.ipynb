{
 "cells": [
  {
   "cell_type": "markdown",
   "metadata": {},
   "source": [
    "#### Agrego una feature con datos extraidos de una página (https://es.investing.com/currencies/usd-mxn-historical-data) para recopilar informacion sobre la divisa norteamericana, agregando la devaluacion misma junto con el dolar del día."
   ]
  },
  {
   "cell_type": "code",
   "execution_count": 267,
   "metadata": {},
   "outputs": [],
   "source": [
    "import pandas as pd\n",
    "import numpy as np"
   ]
  },
  {
   "cell_type": "code",
   "execution_count": 268,
   "metadata": {},
   "outputs": [],
   "source": [
    "train = pd.read_csv(\"../data/train.csv\")\n",
    "test = pd.read_csv(\"../data/test.csv\")"
   ]
  },
  {
   "cell_type": "code",
   "execution_count": 269,
   "metadata": {},
   "outputs": [],
   "source": [
    "path_features_train = \"features_csvs/train_con_dolar_y_devaluacion.csv\"\n",
    "path_features_test = \"features_csvs/test_con_dolar_y_devaluacion.csv\""
   ]
  },
  {
   "cell_type": "code",
   "execution_count": 270,
   "metadata": {},
   "outputs": [],
   "source": [
    "datos_historicos_dolar = pd.read_csv(\"../utils/DatoshistoricosUSD_MXN.csv\")\n",
    "\n",
    "datos_historicos_dolar.Fecha = pd.to_datetime(datos_historicos_dolar.Fecha)\n",
    "datos_historicos_dolar = datos_historicos_dolar.drop(['Apertura','Máximo','Mínimo'] ,axis = 1)\n",
    "datos_historicos_dolar = datos_historicos_dolar.rename(columns = {'Fecha':'fecha','Último':'dolar','% var.':'varianza_dolar'})\n",
    "\n",
    "datos_historicos_dolar.dolar = datos_historicos_dolar.dolar.str.replace(\",\",\".\").astype(float)\n",
    "\n",
    "datos_historicos_dolar.varianza_dolar = datos_historicos_dolar.varianza_dolar.str.replace(\",\",\".\")\n",
    "datos_historicos_dolar.varianza_dolar = datos_historicos_dolar.varianza_dolar.str.replace(\"%\",\"\").astype(float)\n",
    "\n",
    "datos_historicos_dolar = datos_historicos_dolar.loc[:,['fecha','dolar','varianza_dolar']]\n",
    "datos_historicos_dolar = datos_historicos_dolar.sort_values('fecha')"
   ]
  },
  {
   "cell_type": "code",
   "execution_count": 271,
   "metadata": {},
   "outputs": [],
   "source": [
    "train.fecha = pd.to_datetime(train.fecha)\n",
    "train_with_dolar_info = pd.merge(train,datos_historicos_dolar,on = 'fecha',how='left')\n",
    "train_with_dolar_info = train_with_dolar_info.loc[:,['id','fecha','dolar','varianza_dolar']].sort_values(by='fecha')\n",
    "train_with_dolar_info = train_with_dolar_info[np.isfinite(train_with_dolar_info['id'])]\n",
    "train_with_dolar_info = train_with_dolar_info.sort_values(by = 'fecha')\n",
    "train_with_dolar_info.varianza_dolar.fillna(0, inplace=True)\n",
    "train_with_dolar_info.dolar.fillna(method = 'ffill',inplace = True)\n",
    "train_with_dolar_info.dolar.fillna(method = 'bfill',inplace = True)\n",
    "train_with_dolar_info['devaluacion_acumulada'] = train_with_dolar_info.varianza_dolar.cumsum()\n",
    "train_with_dolar_info = train_with_dolar_info.loc[:,['id','dolar','devaluacion_acumulada']]"
   ]
  },
  {
   "cell_type": "code",
   "execution_count": 272,
   "metadata": {},
   "outputs": [
    {
     "name": "stderr",
     "output_type": "stream",
     "text": [
      "/home/braianvillalba/anaconda3/lib/python3.7/site-packages/ipykernel_launcher.py:4: UserWarning: Boolean Series key will be reindexed to match DataFrame index.\n",
      "  after removing the cwd from sys.path.\n"
     ]
    }
   ],
   "source": [
    "test.fecha = pd.to_datetime(test.fecha)\n",
    "test_with_dolar_info = pd.merge(test,datos_historicos_dolar,on = 'fecha',how='left')\n",
    "test_with_dolar_info = test_with_dolar_info.loc[:,['id','fecha','dolar','varianza_dolar']].sort_values(by='fecha')\n",
    "test_with_dolar_info = test_with_dolar_info[np.isfinite(train_with_dolar_info['id'])]\n",
    "test_with_dolar_info = test_with_dolar_info.sort_values(by = 'fecha')\n",
    "test_with_dolar_info.varianza_dolar.fillna(0, inplace=True)\n",
    "test_with_dolar_info.dolar.fillna(method = 'ffill',inplace = True)\n",
    "test_with_dolar_info.dolar.fillna(method = 'bfill',inplace = True)\n",
    "test_with_dolar_info['devaluacion_acumulada'] = test_with_dolar_info.varianza_dolar.cumsum()\n",
    "test_with_dolar_info = test_with_dolar_info.loc[:,['id','dolar','devaluacion_acumulada']]"
   ]
  },
  {
   "cell_type": "code",
   "execution_count": 273,
   "metadata": {},
   "outputs": [],
   "source": [
    "train_with_dolar_info.to_csv(path_features_train, index=False)\n",
    "test_with_dolar_info.to_csv(path_features_test, index=False)"
   ]
  },
  {
   "cell_type": "code",
   "execution_count": null,
   "metadata": {},
   "outputs": [],
   "source": []
  },
  {
   "cell_type": "code",
   "execution_count": null,
   "metadata": {},
   "outputs": [],
   "source": []
  }
 ],
 "metadata": {
  "kernelspec": {
   "display_name": "Python 3",
   "language": "python",
   "name": "python3"
  },
  "language_info": {
   "codemirror_mode": {
    "name": "ipython",
    "version": 3
   },
   "file_extension": ".py",
   "mimetype": "text/x-python",
   "name": "python",
   "nbconvert_exporter": "python",
   "pygments_lexer": "ipython3",
   "version": "3.7.1"
  }
 },
 "nbformat": 4,
 "nbformat_minor": 2
}
