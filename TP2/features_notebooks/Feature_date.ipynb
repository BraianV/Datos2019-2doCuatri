{
 "cells": [
  {
   "cell_type": "markdown",
   "metadata": {},
   "source": [
    "#### Desgloso un poco las fechas para poder segmentar las epocas "
   ]
  },
  {
   "cell_type": "code",
   "execution_count": null,
   "metadata": {},
   "outputs": [],
   "source": [
    "import pandas as pd\n",
    "import numpy as np"
   ]
  },
  {
   "cell_type": "code",
   "execution_count": null,
   "metadata": {},
   "outputs": [],
   "source": [
    "train = pd.read_csv(\"../data/train.csv\")\n",
    "test = pd.read_csv(\"../data/test.csv\")"
   ]
  },
  {
   "cell_type": "code",
   "execution_count": null,
   "metadata": {},
   "outputs": [],
   "source": [
    "path_features_train = \"features_csvs/train_con_fechas_features.csv\"\n",
    "path_features_test = \"features_csvs/test_con_fechas_features.csv\""
   ]
  },
  {
   "cell_type": "code",
   "execution_count": null,
   "metadata": {},
   "outputs": [],
   "source": [
    "train.fecha = pd.to_datetime(train.fecha)\n",
    "test.fecha = pd.to_datetime(test.fecha)"
   ]
  },
  {
   "cell_type": "code",
   "execution_count": null,
   "metadata": {},
   "outputs": [],
   "source": [
    "train_date = train.loc[:,['id','fecha']]\n",
    "test_date = test.loc[:,['id','fecha']]"
   ]
  },
  {
   "cell_type": "code",
   "execution_count": null,
   "metadata": {},
   "outputs": [],
   "source": [
    "train_date['year'] = train_date.fecha.dt.year\n",
    "train_date['mes'] = train_date.fecha.dt.month\n",
    "train_date['dia_del_mes'] = train_date.fecha.dt.day\n",
    "train_date['dia_del_anio'] = train_date.fecha.dt.dayofyear\n",
    "train_date['quarter'] = train_date.fecha.dt.quarter\n",
    "train_date['dia_de_semana'] = train_date.fecha.apply(lambda x: x.date().weekday())\n",
    "train_date['es_finde'] = train_date.fecha.apply(lambda x: 1 if x.date().weekday() in (5, 6) else 0)\n"
   ]
  },
  {
   "cell_type": "code",
   "execution_count": 7,
   "metadata": {},
   "outputs": [],
   "source": [
    "test_date['year'] = test_date.fecha.dt.year\n",
    "test_date['mes'] = test_date.fecha.dt.month\n",
    "test_date['dia_del_mes'] = test_date.fecha.dt.day\n",
    "test_date['dia_del_anio'] = test_date.fecha.dt.dayofyear\n",
    "test_date['quarter'] = test_date.fecha.dt.quarter\n",
    "test_date['dia_de_semana'] = test_date.fecha.apply(lambda x: x.date().weekday())\n",
    "test_date['es_finde'] = test_date.fecha.apply(lambda x: 1 if x.date().weekday() in (5, 6) else 0)\n"
   ]
  },
  {
   "cell_type": "code",
   "execution_count": 8,
   "metadata": {},
   "outputs": [],
   "source": [
    "train_date = train_date.drop(['fecha'],axis =1)\n",
    "test_date = test_date.drop(['fecha'],axis =1)"
   ]
  },
  {
   "cell_type": "code",
   "execution_count": 9,
   "metadata": {},
   "outputs": [],
   "source": [
    "train_date.to_csv(path_features_train, index=False)\n",
    "test_date.to_csv(path_features_test, index=False)"
   ]
  },
  {
   "cell_type": "code",
   "execution_count": null,
   "metadata": {},
   "outputs": [],
   "source": []
  }
 ],
 "metadata": {
  "kernelspec": {
   "display_name": "Python 3",
   "language": "python",
   "name": "python3"
  },
  "language_info": {
   "codemirror_mode": {
    "name": "ipython",
    "version": 3
   },
   "file_extension": ".py",
   "mimetype": "text/x-python",
   "name": "python",
   "nbconvert_exporter": "python",
   "pygments_lexer": "ipython3",
   "version": "3.7.1"
  }
 },
 "nbformat": 4,
 "nbformat_minor": 2
}
