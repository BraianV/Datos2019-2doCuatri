{
 "cells": [
  {
   "cell_type": "markdown",
   "metadata": {},
   "source": [
    "##### Agrego el promedio de las variables numericas en todo el set de datos como una feature."
   ]
  },
  {
   "cell_type": "code",
   "execution_count": 17,
   "metadata": {},
   "outputs": [],
   "source": [
    "import pandas as pd \n",
    "import numpy as np"
   ]
  },
  {
   "cell_type": "markdown",
   "metadata": {},
   "source": [
    "##### Agrupo por tipo de propiedad"
   ]
  },
  {
   "cell_type": "code",
   "execution_count": null,
   "metadata": {},
   "outputs": [],
   "source": [
    "train = pd.read_csv(\"../data/train.csv\")\n",
    "test = pd.read_csv(\"../data/test.csv\")"
   ]
  },
  {
   "cell_type": "code",
   "execution_count": 39,
   "metadata": {},
   "outputs": [],
   "source": [
    "path_features_train_por_tipo_de_propiedad = \"features_csvs/train_promedios_de_variables_numericas_iniciales_por_tipo_de_propiedad.csv\"\n",
    "path_features_test_por_tipo_de_propiedad = \"features_csvs/test_promedios_de_variables_numericas_iniciales_por_tipo_de_propiedad.csv\""
   ]
  },
  {
   "cell_type": "code",
   "execution_count": 40,
   "metadata": {},
   "outputs": [],
   "source": [
    "mean_met_tipo_de_propiedad_train = train.groupby(train.tipodepropiedad).agg({'metroscubiertos': 'mean','metrostotales': 'mean','gimnasio':'mean','usosmultiples':'mean','piscina':'mean','escuelascercanas':'mean','centroscomercialescercanos':'mean','garages':'mean', 'banos':'mean'})\n",
    "mean_met_tipo_de_propiedad_train = mean_met_tipo_de_propiedad_train.rename(columns = {\"metroscubiertos\": \"mean_metroscubiertos_tipodepropiedad\", \"metrostotales\": \"mean_metrostotales_tipodepropiedad\",\"gimnasio\":\"mean_gimnasio_tipodepropiedad\", \"usosmultiples\":\"mean_usosmultiples_tipodepropiedad\",\"piscina\":\"mean_piscina_tipodepropiedad\",\"escuelascercanas\":\"mean_escuelascercanas_tipodepropiedad\",\"centroscomercialescercanos\":\"mean_centroscomercialescercanos_tipodepropiedad\",\"garages\":\"mean_garages_tipodepropiedad\",\"banos\":\"mean_banos_tipodepropiedad\"})\n",
    "\n",
    "\n",
    "mean_met_tipo_de_propiedad_test = test.groupby(test.tipodepropiedad).agg({'metroscubiertos': 'mean','metrostotales': 'mean','gimnasio':'mean','usosmultiples':'mean','piscina':'mean','escuelascercanas':'mean','centroscomercialescercanos':'mean','garages':'mean', 'banos':'mean'})\n",
    "mean_met_tipo_de_propiedad_test = mean_met_tipo_de_propiedad_test.rename(columns = {\"metroscubiertos\": \"mean_metroscubiertos_tipodepropiedad\", \"metrostotales\": \"mean_metrostotales_tipodepropiedad\",\"gimnasio\":\"mean_gimnasio_tipodepropiedad\", \"usosmultiples\":\"mean_usosmultiples_tipodepropiedad\",\"piscina\":\"mean_piscina_tipodepropiedad\",\"escuelascercanas\":\"mean_escuelascercanas_tipodepropiedad\",\"centroscomercialescercanos\":\"mean_centroscomercialescercanos_tipodepropiedad\",\"garages\":\"mean_garages_tipodepropiedad\",\"banos\":\"mean_banos_tipodepropiedad\"})\n",
    "\n",
    "mean_met_tipo_de_propiedad_train.to_csv(path_features_train_por_tipo_de_propiedad)\n",
    "mean_met_tipo_de_propiedad_test.to_csv(path_features_test_por_tipo_de_propiedad)"
   ]
  },
  {
   "cell_type": "markdown",
   "metadata": {},
   "source": [
    "#### Agrupo por provincia"
   ]
  },
  {
   "cell_type": "code",
   "execution_count": 41,
   "metadata": {},
   "outputs": [],
   "source": [
    "train = pd.read_csv(\"../data/train.csv\")\n",
    "test = pd.read_csv(\"../data/test.csv\")"
   ]
  },
  {
   "cell_type": "code",
   "execution_count": 42,
   "metadata": {},
   "outputs": [],
   "source": [
    "path_features_train_por_provincia = \"features_csvs/train_promedios_de_variables_numericas_iniciales_por_provincia.csv\"\n",
    "path_features_test_por_provincia = \"features_csvs/test_promedios_de_variables_numericas_iniciales_por_provincia.csv\""
   ]
  },
  {
   "cell_type": "code",
   "execution_count": 43,
   "metadata": {},
   "outputs": [],
   "source": [
    "mean_met_provincia_train = train.groupby(train.provincia).agg({'metroscubiertos': 'mean','metrostotales': 'mean','gimnasio':'mean','usosmultiples':'mean','piscina':'mean','escuelascercanas':'mean','centroscomercialescercanos':'mean','garages':'mean', 'banos':'mean'})\n",
    "mean_met_provincia_train = mean_met_provincia_train.rename(columns = {\"metroscubiertos\": \"mean_metroscubiertos_provincia\", \"metrostotales\": \"mean_metrostotales_provincia\",\"gimnasio\":\"mean_gimnasio_provincia\", \"usosmultiples\":\"mean_usosmultiples_provincia\",\"piscina\":\"mean_piscina_provincia\",\"escuelascercanas\":\"mean_escuelascercanas_provincia\",\"centroscomercialescercanos\":\"mean_centroscomercialescercanos_provincia\",\"garages\":\"mean_garages_provincia\",\"banos\":\"mean_banos_provincia\"})\n",
    "\n",
    "mean_met_provincia_test = test.groupby(test.provincia).agg({'metroscubiertos': 'mean','metrostotales': 'mean','gimnasio':'mean','usosmultiples':'mean','piscina':'mean','escuelascercanas':'mean','centroscomercialescercanos':'mean','garages':'mean', 'banos':'mean'})\n",
    "mean_met_provincia_test = mean_met_provincia_test.rename(columns = {\"metroscubiertos\": \"mean_metroscubiertos_provincia\", \"metrostotales\": \"mean_metrostotales_provincia\",\"gimnasio\":\"mean_gimnasio_provincia\", \"usosmultiples\":\"mean_usosmultiples_provincia\",\"piscina\":\"mean_piscina_provincia\",\"escuelascercanas\":\"mean_escuelascercanas_provincia\",\"centroscomercialescercanos\":\"mean_centroscomercialescercanos_provincia\",\"garages\":\"mean_garages_provincia\",\"banos\":\"mean_banos_provincia\"})\n",
    "\n",
    "\n",
    "mean_met_provincia_train.to_csv(path_features_train_por_provincia)\n",
    "mean_met_provincia_test.to_csv(path_features_test_por_provincia)\n"
   ]
  },
  {
   "cell_type": "markdown",
   "metadata": {},
   "source": [
    "#### Agrupo por ciudad"
   ]
  },
  {
   "cell_type": "code",
   "execution_count": 49,
   "metadata": {},
   "outputs": [],
   "source": [
    "train = pd.read_csv(\"../data/train.csv\")\n",
    "test = pd.read_csv(\"../data/test.csv\")"
   ]
  },
  {
   "cell_type": "code",
   "execution_count": 50,
   "metadata": {},
   "outputs": [],
   "source": [
    "path_features_train_por_ciudad = \"features_csvs/train_promedios_de_variables_numericas_iniciales_por_ciudad.csv\"\n",
    "path_features_test_por_ciudad = \"features_csvs/test_promedios_de_variables_numericas_iniciales_por_ciudad.csv\""
   ]
  },
  {
   "cell_type": "code",
   "execution_count": 51,
   "metadata": {},
   "outputs": [],
   "source": [
    "mean_met_ciudad_train = train.groupby(train.ciudad).agg({'metroscubiertos': 'mean','metrostotales': 'mean','gimnasio':'mean','usosmultiples':'mean','piscina':'mean','escuelascercanas':'mean','centroscomercialescercanos':'mean','garages':'mean', 'banos':'mean'})\n",
    "mean_met_ciudad_train = mean_met_ciudad_train.rename(columns = {\"metroscubiertos\": \"mean_metroscubiertos_ciudad\", \"metrostotales\": \"mean_metrostotales_ciudad\",\"gimnasio\":\"mean_gimnasio_ciudad\", \"usosmultiples\":\"mean_usosmultiples_ciudad\",\"piscina\":\"mean_piscina_ciudad\",\"escuelascercanas\":\"mean_escuelascercanas_ciudad\",\"centroscomercialescercanos\":\"mean_centroscomercialescercanos_ciudad\",\"garages\":\"mean_garages_ciudad\",\"banos\":\"mean_banos_ciudad\"})\n",
    "\n",
    "mean_met_ciudad_test = test.groupby(test.ciudad).agg({'metroscubiertos': 'mean','metrostotales': 'mean','gimnasio':'mean','usosmultiples':'mean','piscina':'mean','escuelascercanas':'mean','centroscomercialescercanos':'mean','garages':'mean', 'banos':'mean'})\n",
    "mean_met_ciudad_test = mean_met_ciudad_test.rename(columns = {\"metroscubiertos\": \"mean_metroscubiertos_ciudad\", \"metrostotales\": \"mean_metrostotales_ciudad\",\"gimnasio\":\"mean_gimnasio_ciudad\", \"usosmultiples\":\"mean_usosmultiples_ciudad\",\"piscina\":\"mean_piscina_ciudad\",\"escuelascercanas\":\"mean_escuelascercanas_ciudad\",\"centroscomercialescercanos\":\"mean_centroscomercialescercanos_ciudad\",\"garages\":\"mean_garages_ciudad\",\"banos\":\"mean_banos_ciudad\"})\n",
    "\n",
    "mean_met_ciudad_train.to_csv(path_features_train_por_ciudad)\n",
    "mean_met_ciudad_test.to_csv(path_features_test_por_ciudad)"
   ]
  },
  {
   "cell_type": "raw",
   "metadata": {},
   "source": []
  },
  {
   "cell_type": "code",
   "execution_count": 80,
   "metadata": {},
   "outputs": [
    {
     "data": {
      "text/plain": [
       "Index(['id', 'titulo', 'descripcion', 'tipodepropiedad', 'direccion', 'ciudad',\n",
       "       'provincia', 'antiguedad', 'habitaciones', 'garages', 'banos',\n",
       "       'metroscubiertos', 'metrostotales', 'idzona', 'lat', 'lng', 'fecha',\n",
       "       'gimnasio', 'usosmultiples', 'piscina', 'escuelascercanas',\n",
       "       'centroscomercialescercanos', 'precio',\n",
       "       'mean_metroscubiertos_tipodepropiedad',\n",
       "       'mean_metrostotales_tipodepropiedad', 'mean_gimnasio_tipodepropiedad',\n",
       "       'mean_usosmultiples_tipodepropiedad', 'mean_piscina_tipodepropiedad',\n",
       "       'mean_escuelascercanas_tipodepropiedad',\n",
       "       'mean_centroscomercialescercanos_tipodepropiedad',\n",
       "       'mean_garages_tipodepropiedad', 'mean_banos_tipodepropiedad',\n",
       "       'mean_metroscubiertos_provincia', 'mean_metrostotales_provincia',\n",
       "       'mean_gimnasio_provincia', 'mean_usosmultiples_provincia',\n",
       "       'mean_piscina_provincia', 'mean_escuelascercanas_provincia',\n",
       "       'mean_centroscomercialescercanos_provincia', 'mean_garages_provincia',\n",
       "       'mean_banos_provincia', 'mean_metroscubiertos_ciudad',\n",
       "       'mean_metrostotales_ciudad', 'mean_gimnasio_ciudad',\n",
       "       'mean_usosmultiples_ciudad', 'mean_piscina_ciudad',\n",
       "       'mean_escuelascercanas_ciudad',\n",
       "       'mean_centroscomercialescercanos_ciudad', 'mean_garages_ciudad',\n",
       "       'mean_banos_ciudad'],\n",
       "      dtype='object')"
      ]
     },
     "execution_count": 80,
     "metadata": {},
     "output_type": "execute_result"
    }
   ],
   "source": [
    "train.columnsx"
   ]
  }
 ],
 "metadata": {
  "kernelspec": {
   "display_name": "Python 3",
   "language": "python",
   "name": "python3"
  },
  "language_info": {
   "codemirror_mode": {
    "name": "ipython",
    "version": 3
   },
   "file_extension": ".py",
   "mimetype": "text/x-python",
   "name": "python",
   "nbconvert_exporter": "python",
   "pygments_lexer": "ipython3",
   "version": "3.7.1"
  }
 },
 "nbformat": 4,
 "nbformat_minor": 2
}
