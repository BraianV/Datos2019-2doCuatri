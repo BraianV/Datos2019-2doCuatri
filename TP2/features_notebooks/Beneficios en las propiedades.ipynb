{
 "cells": [
  {
   "cell_type": "code",
   "execution_count": 1,
   "metadata": {},
   "outputs": [],
   "source": [
    "import pandas as pd\n",
    "import numpy as np"
   ]
  },
  {
   "cell_type": "code",
   "execution_count": 2,
   "metadata": {},
   "outputs": [],
   "source": [
    "path_features_train = \"features_csvs/train_con_beneficios.csv\"\n",
    "path_features_test = \"features_csvs/test_con_beneficios.csv\""
   ]
  },
  {
   "cell_type": "code",
   "execution_count": 3,
   "metadata": {},
   "outputs": [],
   "source": [
    "train = pd.read_csv(\"../data/train.csv\")\n",
    "test = pd.read_csv(\"../data/test.csv\")"
   ]
  },
  {
   "cell_type": "code",
   "execution_count": 4,
   "metadata": {},
   "outputs": [
    {
     "data": {
      "text/plain": [
       "Index(['id', 'titulo', 'descripcion', 'tipodepropiedad', 'direccion', 'ciudad',\n",
       "       'provincia', 'antiguedad', 'habitaciones', 'garages', 'banos',\n",
       "       'metroscubiertos', 'metrostotales', 'idzona', 'lat', 'lng', 'fecha',\n",
       "       'gimnasio', 'usosmultiples', 'piscina', 'escuelascercanas',\n",
       "       'centroscomercialescercanos', 'precio'],\n",
       "      dtype='object')"
      ]
     },
     "execution_count": 4,
     "metadata": {},
     "output_type": "execute_result"
    }
   ],
   "source": [
    "train.columns"
   ]
  },
  {
   "cell_type": "code",
   "execution_count": 5,
   "metadata": {},
   "outputs": [],
   "source": [
    "train.gimnasio.fillna(0,inplace = True)\n",
    "train.usosmultiples.fillna(0,inplace = True)\n",
    "train.piscina.fillna(0,inplace = True)\n",
    "train.escuelascercanas.fillna(0,inplace = True)\n",
    "train.centroscomercialescercanos.fillna(0,inplace = True)\n",
    "\n",
    "test.gimnasio.fillna(0,inplace = True)\n",
    "test.usosmultiples.fillna(0,inplace = True)\n",
    "test.piscina.fillna(0,inplace = True)\n",
    "test.escuelascercanas.fillna(0,inplace = True)\n",
    "test.centroscomercialescercanos.fillna(0,inplace = True)"
   ]
  },
  {
   "cell_type": "code",
   "execution_count": 6,
   "metadata": {},
   "outputs": [],
   "source": [
    "train['cantidad_de_beneficios'] = train.gimnasio + train.usosmultiples + train.piscina + train.escuelascercanas + train.centroscomercialescercanos\n",
    "test['cantidad_de_beneficios'] = test.gimnasio + test.usosmultiples + test.piscina + test.escuelascercanas + test.centroscomercialescercanos"
   ]
  },
  {
   "cell_type": "code",
   "execution_count": 7,
   "metadata": {},
   "outputs": [
    {
     "data": {
      "text/plain": [
       "0.0    0.502717\n",
       "2.0    0.308196\n",
       "1.0    0.094742\n",
       "3.0    0.057621\n",
       "4.0    0.021996\n",
       "5.0    0.014729\n",
       "Name: cantidad_de_beneficios, dtype: float64"
      ]
     },
     "execution_count": 7,
     "metadata": {},
     "output_type": "execute_result"
    }
   ],
   "source": [
    "train.cantidad_de_beneficios.value_counts(normalize = True)"
   ]
  },
  {
   "cell_type": "code",
   "execution_count": 8,
   "metadata": {},
   "outputs": [
    {
     "data": {
      "text/plain": [
       "0.0    0.501483\n",
       "2.0    0.310300\n",
       "1.0    0.092733\n",
       "3.0    0.057683\n",
       "4.0    0.023200\n",
       "5.0    0.014600\n",
       "Name: cantidad_de_beneficios, dtype: float64"
      ]
     },
     "execution_count": 8,
     "metadata": {},
     "output_type": "execute_result"
    }
   ],
   "source": [
    "test.cantidad_de_beneficios.value_counts(normalize = True)"
   ]
  },
  {
   "cell_type": "code",
   "execution_count": 9,
   "metadata": {},
   "outputs": [],
   "source": [
    "train_with_beneficios = train.loc[:,['id','cantidad_de_beneficios']]\n",
    "test_with_beneficios = test.loc[:,['id','cantidad_de_beneficios']]"
   ]
  },
  {
   "cell_type": "code",
   "execution_count": 10,
   "metadata": {},
   "outputs": [],
   "source": [
    "train_with_beneficios.to_csv(path_features_train, index=False)\n",
    "test_with_beneficios.to_csv(path_features_test, index=False)"
   ]
  },
  {
   "cell_type": "code",
   "execution_count": null,
   "metadata": {},
   "outputs": [],
   "source": []
  }
 ],
 "metadata": {
  "kernelspec": {
   "display_name": "Python 3",
   "language": "python",
   "name": "python3"
  },
  "language_info": {
   "codemirror_mode": {
    "name": "ipython",
    "version": 3
   },
   "file_extension": ".py",
   "mimetype": "text/x-python",
   "name": "python",
   "nbconvert_exporter": "python",
   "pygments_lexer": "ipython3",
   "version": "3.7.1"
  }
 },
 "nbformat": 4,
 "nbformat_minor": 2
}
