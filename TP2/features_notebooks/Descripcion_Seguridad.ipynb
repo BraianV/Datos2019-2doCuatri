{
 "cells": [
  {
   "cell_type": "markdown",
   "metadata": {},
   "source": [
    "#### Se busca palabras que relacionen a la propiedad con algun tipo de seguridad que modifique su precio"
   ]
  },
  {
   "cell_type": "code",
   "execution_count": 10,
   "metadata": {},
   "outputs": [
    {
     "name": "stdout",
     "output_type": "stream",
     "text": [
      "The autoreload extension is already loaded. To reload it, use:\n",
      "  %reload_ext autoreload\n"
     ]
    }
   ],
   "source": [
    "%matplotlib inline\n",
    "%load_ext autoreload\n",
    "%autoreload 2\n",
    "\n",
    "import pandas as pd\n",
    "import numpy as np\n",
    "import filter_feature_string as clean\n",
    "import getTopicos as getTopicos"
   ]
  },
  {
   "cell_type": "code",
   "execution_count": 11,
   "metadata": {},
   "outputs": [],
   "source": [
    "path_features_train = \"features_csvs/train_descripcion_con_seguridad.csv\"\n",
    "path_features_test = \"features_csvs/test_descripcion_con_seguridad.csv\""
   ]
  },
  {
   "cell_type": "code",
   "execution_count": 12,
   "metadata": {},
   "outputs": [],
   "source": [
    "train = pd.read_csv(\"../data/train.csv\")\n",
    "test = pd.read_csv(\"../data/test.csv\")"
   ]
  },
  {
   "cell_type": "code",
   "execution_count": 13,
   "metadata": {},
   "outputs": [],
   "source": [
    "#tira y tombo son formas de decir policias en mexico\n",
    "topicos = ['seguridad','seguro','vigilancia','policia','policial','patrullero','tira','tombo',\n",
    "           'seguridad','ceguro','bigilancia','polisia','polisial','vigilado','barrio cerrado',\n",
    "          'bigilado','guardias','guardia','policias','militar','militarizada','militares','guardia']"
   ]
  },
  {
   "cell_type": "code",
   "execution_count": 14,
   "metadata": {},
   "outputs": [
    {
     "data": {
      "text/plain": [
       "Index(['id', 'titulo', 'descripcion', 'tipodepropiedad', 'direccion', 'ciudad',\n",
       "       'provincia', 'antiguedad', 'habitaciones', 'garages', 'banos',\n",
       "       'metroscubiertos', 'metrostotales', 'idzona', 'lat', 'lng', 'fecha',\n",
       "       'gimnasio', 'usosmultiples', 'piscina', 'escuelascercanas',\n",
       "       'centroscomercialescercanos', 'precio'],\n",
       "      dtype='object')"
      ]
     },
     "execution_count": 14,
     "metadata": {},
     "output_type": "execute_result"
    }
   ],
   "source": [
    "train.columns"
   ]
  },
  {
   "cell_type": "code",
   "execution_count": 15,
   "metadata": {},
   "outputs": [
    {
     "name": "stdout",
     "output_type": "stream",
     "text": [
      "Distribucion del feature : seguridad\n",
      "0    0.7718\n",
      "1    0.2282\n",
      "Name: seguridad, dtype: float64\n"
     ]
    }
   ],
   "source": [
    "df_con_seg_train = getTopicos.get_topicos_in_column(train,topicos,'descripcion',\"seguridad\")"
   ]
  },
  {
   "cell_type": "code",
   "execution_count": 16,
   "metadata": {},
   "outputs": [
    {
     "name": "stdout",
     "output_type": "stream",
     "text": [
      "Distribucion del feature : seguridad\n",
      "0    0.770067\n",
      "1    0.229933\n",
      "Name: seguridad, dtype: float64\n"
     ]
    }
   ],
   "source": [
    "df_con_seg_test = getTopicos.get_topicos_in_column(test,topicos,'descripcion',\"seguridad\")"
   ]
  },
  {
   "cell_type": "code",
   "execution_count": 17,
   "metadata": {},
   "outputs": [],
   "source": [
    "df_con_seg_train.to_csv(path_features_train, index=False)\n",
    "df_con_seg_test.to_csv(path_features_test, index=False)"
   ]
  }
 ],
 "metadata": {
  "kernelspec": {
   "display_name": "Python 3",
   "language": "python",
   "name": "python3"
  },
  "language_info": {
   "codemirror_mode": {
    "name": "ipython",
    "version": 3
   },
   "file_extension": ".py",
   "mimetype": "text/x-python",
   "name": "python",
   "nbconvert_exporter": "python",
   "pygments_lexer": "ipython3",
   "version": "3.7.1"
  }
 },
 "nbformat": 4,
 "nbformat_minor": 2
}
