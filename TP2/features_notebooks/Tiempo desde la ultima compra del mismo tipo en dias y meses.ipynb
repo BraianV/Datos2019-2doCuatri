{
 "cells": [
  {
   "cell_type": "code",
   "execution_count": 53,
   "metadata": {},
   "outputs": [],
   "source": [
    "import pandas as pd\n",
    "import numpy as np"
   ]
  },
  {
   "cell_type": "code",
   "execution_count": 54,
   "metadata": {},
   "outputs": [],
   "source": [
    "path_features_train = \"features_csvs/train_con_tiempo_en_dias_de_la_ultima_compra_del_mismo_tipo.csv\"\n",
    "path_features_test = \"features_csvs/test_con_tiempo_en_dias_de_la_ultima_compra_del_mismo_tipo.csv\""
   ]
  },
  {
   "cell_type": "code",
   "execution_count": 55,
   "metadata": {},
   "outputs": [],
   "source": [
    "train = pd.read_csv(\"../data/train.csv\")\n",
    "test = pd.read_csv(\"../data/test.csv\")"
   ]
  },
  {
   "cell_type": "code",
   "execution_count": 56,
   "metadata": {},
   "outputs": [],
   "source": [
    "train.fecha = pd.to_datetime(train.fecha)\n",
    "test.fecha = pd.to_datetime(test.fecha)"
   ]
  },
  {
   "cell_type": "code",
   "execution_count": 57,
   "metadata": {},
   "outputs": [],
   "source": [
    "train = train.sort_values(by = 'fecha',ascending = True)\n",
    "test = test.sort_values(by = 'fecha',ascending = True)"
   ]
  },
  {
   "cell_type": "code",
   "execution_count": 58,
   "metadata": {},
   "outputs": [],
   "source": [
    "train_date = train.loc[:,['tipodepropiedad','fecha']]\n",
    "test_date = test.loc[:,['tipodepropiedad','fecha']]"
   ]
  },
  {
   "cell_type": "code",
   "execution_count": 59,
   "metadata": {},
   "outputs": [],
   "source": [
    "train_date_last_sell_for_type = train_date.groupby(['tipodepropiedad']).max()\n",
    "train_date_last_sell_for_type = train_date_last_sell_for_type.rename(columns = {'fecha':'ultima_venta_del_tipo_de_propiedad'})\n",
    "\n",
    "test_date_last_sell_for_type = test_date.groupby(['tipodepropiedad']).max()\n",
    "test_date_last_sell_for_type = test_date_last_sell_for_type.rename(columns = {'fecha':'ultima_venta_del_tipo_de_propiedad'})"
   ]
  },
  {
   "cell_type": "code",
   "execution_count": 60,
   "metadata": {},
   "outputs": [],
   "source": [
    "train_to_join = pd.read_csv(\"../data/train.csv\")\n",
    "test_to_join = pd.read_csv(\"../data/test.csv\")"
   ]
  },
  {
   "cell_type": "code",
   "execution_count": 61,
   "metadata": {},
   "outputs": [],
   "source": [
    "train = pd.merge(train_to_join,train_date_last_sell_for_type,on=\"tipodepropiedad\",how=\"left\")\n",
    "test = pd.merge(test_to_join,test_date_last_sell_for_type,on=\"tipodepropiedad\",how=\"left\")\n"
   ]
  },
  {
   "cell_type": "code",
   "execution_count": 62,
   "metadata": {},
   "outputs": [],
   "source": [
    "train.fecha = pd.to_datetime(train.fecha)\n",
    "test.fecha = pd.to_datetime(test.fecha)"
   ]
  },
  {
   "cell_type": "code",
   "execution_count": 63,
   "metadata": {},
   "outputs": [],
   "source": [
    "train['diff_dias_a_la_ultima_compra_del_mismo_tipo'] = (train.ultima_venta_del_tipo_de_propiedad - train.fecha).dt.days\n",
    "test['diff_dias_a_la_ultima_compra_del_mismo_tipo'] = (test.ultima_venta_del_tipo_de_propiedad - test.fecha).dt.days"
   ]
  },
  {
   "cell_type": "code",
   "execution_count": 64,
   "metadata": {},
   "outputs": [],
   "source": [
    "train = train.loc[:,['id','diff_dias_a_la_ultima_compra_del_mismo_tipo']]\n",
    "test = test.loc[:,['id','diff_dias_a_la_ultima_compra_del_mismo_tipo']]\n"
   ]
  },
  {
   "cell_type": "code",
   "execution_count": 65,
   "metadata": {},
   "outputs": [],
   "source": [
    "train.to_csv(path_features_train, index = False)\n",
    "test.to_csv(path_features_test, index = False)"
   ]
  },
  {
   "cell_type": "code",
   "execution_count": null,
   "metadata": {},
   "outputs": [],
   "source": []
  },
  {
   "cell_type": "code",
   "execution_count": null,
   "metadata": {},
   "outputs": [],
   "source": []
  }
 ],
 "metadata": {
  "kernelspec": {
   "display_name": "Python 3",
   "language": "python",
   "name": "python3"
  },
  "language_info": {
   "codemirror_mode": {
    "name": "ipython",
    "version": 3
   },
   "file_extension": ".py",
   "mimetype": "text/x-python",
   "name": "python",
   "nbconvert_exporter": "python",
   "pygments_lexer": "ipython3",
   "version": "3.7.1"
  }
 },
 "nbformat": 4,
 "nbformat_minor": 2
}
