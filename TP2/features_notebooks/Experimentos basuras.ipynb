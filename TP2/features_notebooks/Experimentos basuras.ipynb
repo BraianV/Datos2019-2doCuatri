{
 "cells": [
  {
   "cell_type": "code",
   "execution_count": 2,
   "metadata": {},
   "outputs": [],
   "source": [
    "import pandas as pd\n",
    "import numpy as np"
   ]
  },
  {
   "cell_type": "code",
   "execution_count": 3,
   "metadata": {},
   "outputs": [],
   "source": [
    "train = pd.read_csv(\"../data/train.csv\")\n",
    "test = pd.read_csv(\"../data/test.csv\")"
   ]
  },
  {
   "cell_type": "code",
   "execution_count": 4,
   "metadata": {},
   "outputs": [],
   "source": [
    "train.fecha = pd.to_datetime(train.fecha)"
   ]
  },
  {
   "cell_type": "code",
   "execution_count": 5,
   "metadata": {},
   "outputs": [],
   "source": [
    "train_date = train.loc[:,['id','fecha']]"
   ]
  },
  {
   "cell_type": "code",
   "execution_count": 6,
   "metadata": {},
   "outputs": [
    {
     "data": {
      "text/html": [
       "<div>\n",
       "<style scoped>\n",
       "    .dataframe tbody tr th:only-of-type {\n",
       "        vertical-align: middle;\n",
       "    }\n",
       "\n",
       "    .dataframe tbody tr th {\n",
       "        vertical-align: top;\n",
       "    }\n",
       "\n",
       "    .dataframe thead th {\n",
       "        text-align: right;\n",
       "    }\n",
       "</style>\n",
       "<table border=\"1\" class=\"dataframe\">\n",
       "  <thead>\n",
       "    <tr style=\"text-align: right;\">\n",
       "      <th></th>\n",
       "      <th>id</th>\n",
       "      <th>fecha</th>\n",
       "    </tr>\n",
       "  </thead>\n",
       "  <tbody>\n",
       "    <tr>\n",
       "      <th>0</th>\n",
       "      <td>254099</td>\n",
       "      <td>2015-08-23</td>\n",
       "    </tr>\n",
       "    <tr>\n",
       "      <th>1</th>\n",
       "      <td>53461</td>\n",
       "      <td>2013-06-28</td>\n",
       "    </tr>\n",
       "    <tr>\n",
       "      <th>2</th>\n",
       "      <td>247984</td>\n",
       "      <td>2015-10-17</td>\n",
       "    </tr>\n",
       "    <tr>\n",
       "      <th>3</th>\n",
       "      <td>209067</td>\n",
       "      <td>2012-03-09</td>\n",
       "    </tr>\n",
       "    <tr>\n",
       "      <th>4</th>\n",
       "      <td>185997</td>\n",
       "      <td>2016-06-07</td>\n",
       "    </tr>\n",
       "  </tbody>\n",
       "</table>\n",
       "</div>"
      ],
      "text/plain": [
       "       id      fecha\n",
       "0  254099 2015-08-23\n",
       "1   53461 2013-06-28\n",
       "2  247984 2015-10-17\n",
       "3  209067 2012-03-09\n",
       "4  185997 2016-06-07"
      ]
     },
     "execution_count": 6,
     "metadata": {},
     "output_type": "execute_result"
    }
   ],
   "source": [
    "train_date.head()"
   ]
  },
  {
   "cell_type": "code",
   "execution_count": 7,
   "metadata": {},
   "outputs": [],
   "source": [
    "train_date['year'] = train_date.fecha.dt.year\n",
    "train_date['mes'] = train_date.fecha.dt.month\n",
    "train_date['dia_del_mes'] = train_date.fecha.dt.day\n",
    "train_date['dia_del_anio'] = train_date.fecha.dt.dayofyear\n",
    "train_date['quarter'] = train_date.fecha.dt.quarter"
   ]
  },
  {
   "cell_type": "code",
   "execution_count": 12,
   "metadata": {},
   "outputs": [],
   "source": [
    "train_date['dia_de_semana'] = train_date.fecha.apply(lambda x: x.date().weekday())\n",
    "train_date['es_finde'] = train_date.fecha.apply(lambda x: 1 if x.date().weekday() in (5, 6) else 0)"
   ]
  },
  {
   "cell_type": "code",
   "execution_count": 13,
   "metadata": {},
   "outputs": [
    {
     "data": {
      "text/html": [
       "<div>\n",
       "<style scoped>\n",
       "    .dataframe tbody tr th:only-of-type {\n",
       "        vertical-align: middle;\n",
       "    }\n",
       "\n",
       "    .dataframe tbody tr th {\n",
       "        vertical-align: top;\n",
       "    }\n",
       "\n",
       "    .dataframe thead th {\n",
       "        text-align: right;\n",
       "    }\n",
       "</style>\n",
       "<table border=\"1\" class=\"dataframe\">\n",
       "  <thead>\n",
       "    <tr style=\"text-align: right;\">\n",
       "      <th></th>\n",
       "      <th>id</th>\n",
       "      <th>fecha</th>\n",
       "      <th>year</th>\n",
       "      <th>mes</th>\n",
       "      <th>dia_del_mes</th>\n",
       "      <th>dia_del_anio</th>\n",
       "      <th>quarter</th>\n",
       "      <th>dow</th>\n",
       "      <th>dia_de_semana</th>\n",
       "      <th>es_finde</th>\n",
       "    </tr>\n",
       "  </thead>\n",
       "  <tbody>\n",
       "    <tr>\n",
       "      <th>0</th>\n",
       "      <td>254099</td>\n",
       "      <td>2015-08-23</td>\n",
       "      <td>2015</td>\n",
       "      <td>8</td>\n",
       "      <td>23</td>\n",
       "      <td>235</td>\n",
       "      <td>3</td>\n",
       "      <td>6</td>\n",
       "      <td>6</td>\n",
       "      <td>1</td>\n",
       "    </tr>\n",
       "    <tr>\n",
       "      <th>1</th>\n",
       "      <td>53461</td>\n",
       "      <td>2013-06-28</td>\n",
       "      <td>2013</td>\n",
       "      <td>6</td>\n",
       "      <td>28</td>\n",
       "      <td>179</td>\n",
       "      <td>2</td>\n",
       "      <td>4</td>\n",
       "      <td>4</td>\n",
       "      <td>0</td>\n",
       "    </tr>\n",
       "    <tr>\n",
       "      <th>2</th>\n",
       "      <td>247984</td>\n",
       "      <td>2015-10-17</td>\n",
       "      <td>2015</td>\n",
       "      <td>10</td>\n",
       "      <td>17</td>\n",
       "      <td>290</td>\n",
       "      <td>4</td>\n",
       "      <td>5</td>\n",
       "      <td>5</td>\n",
       "      <td>1</td>\n",
       "    </tr>\n",
       "    <tr>\n",
       "      <th>3</th>\n",
       "      <td>209067</td>\n",
       "      <td>2012-03-09</td>\n",
       "      <td>2012</td>\n",
       "      <td>3</td>\n",
       "      <td>9</td>\n",
       "      <td>69</td>\n",
       "      <td>1</td>\n",
       "      <td>4</td>\n",
       "      <td>4</td>\n",
       "      <td>0</td>\n",
       "    </tr>\n",
       "    <tr>\n",
       "      <th>4</th>\n",
       "      <td>185997</td>\n",
       "      <td>2016-06-07</td>\n",
       "      <td>2016</td>\n",
       "      <td>6</td>\n",
       "      <td>7</td>\n",
       "      <td>159</td>\n",
       "      <td>2</td>\n",
       "      <td>1</td>\n",
       "      <td>1</td>\n",
       "      <td>0</td>\n",
       "    </tr>\n",
       "  </tbody>\n",
       "</table>\n",
       "</div>"
      ],
      "text/plain": [
       "       id      fecha  year  mes  dia_del_mes  dia_del_anio  quarter  dow  \\\n",
       "0  254099 2015-08-23  2015    8           23           235        3    6   \n",
       "1   53461 2013-06-28  2013    6           28           179        2    4   \n",
       "2  247984 2015-10-17  2015   10           17           290        4    5   \n",
       "3  209067 2012-03-09  2012    3            9            69        1    4   \n",
       "4  185997 2016-06-07  2016    6            7           159        2    1   \n",
       "\n",
       "   dia_de_semana  es_finde  \n",
       "0              6         1  \n",
       "1              4         0  \n",
       "2              5         1  \n",
       "3              4         0  \n",
       "4              1         0  "
      ]
     },
     "execution_count": 13,
     "metadata": {},
     "output_type": "execute_result"
    }
   ],
   "source": [
    "train_date.head()"
   ]
  },
  {
   "cell_type": "code",
   "execution_count": 14,
   "metadata": {},
   "outputs": [],
   "source": [
    "def make_harmonic_features(value, period):\n",
    "    value *= 2 * np.pi / period \n",
    "    return np.cos(value), np.sin(value)"
   ]
  },
  {
   "cell_type": "code",
   "execution_count": 16,
   "metadata": {},
   "outputs": [],
   "source": [
    "train_date['harmonic_dia_de_semana'] = train_date.dia_de_semana.apply(lambda x: make_harmonic_features(x,7))"
   ]
  },
  {
   "cell_type": "code",
   "execution_count": 17,
   "metadata": {},
   "outputs": [
    {
     "data": {
      "text/plain": [
       "0          (0.6234898018587334, -0.7818314824680299)\n",
       "1          (-0.9009688679024191, -0.433883739117558)\n",
       "2         (-0.2225209339563146, -0.9749279121818236)\n",
       "3          (-0.9009688679024191, -0.433883739117558)\n",
       "4           (0.6234898018587336, 0.7818314824680298)\n",
       "5           (0.6234898018587336, 0.7818314824680298)\n",
       "6           (0.6234898018587336, 0.7818314824680298)\n",
       "7          (-0.900968867902419, 0.43388373911755823)\n",
       "8                                         (1.0, 0.0)\n",
       "9          (-0.900968867902419, 0.43388373911755823)\n",
       "10         (-0.900968867902419, 0.43388373911755823)\n",
       "11                                        (1.0, 0.0)\n",
       "12                                        (1.0, 0.0)\n",
       "13          (0.6234898018587336, 0.7818314824680298)\n",
       "14          (0.6234898018587336, 0.7818314824680298)\n",
       "15          (0.6234898018587336, 0.7818314824680298)\n",
       "16        (-0.22252093395631434, 0.9749279121818236)\n",
       "17         (0.6234898018587334, -0.7818314824680299)\n",
       "18        (-0.2225209339563146, -0.9749279121818236)\n",
       "19         (-0.9009688679024191, -0.433883739117558)\n",
       "20                                        (1.0, 0.0)\n",
       "21                                        (1.0, 0.0)\n",
       "22         (-0.900968867902419, 0.43388373911755823)\n",
       "23          (0.6234898018587336, 0.7818314824680298)\n",
       "24         (-0.900968867902419, 0.43388373911755823)\n",
       "25        (-0.2225209339563146, -0.9749279121818236)\n",
       "26          (0.6234898018587336, 0.7818314824680298)\n",
       "27        (-0.22252093395631434, 0.9749279121818236)\n",
       "28          (0.6234898018587336, 0.7818314824680298)\n",
       "29        (-0.2225209339563146, -0.9749279121818236)\n",
       "                             ...                    \n",
       "239970     (0.6234898018587334, -0.7818314824680299)\n",
       "239971                                    (1.0, 0.0)\n",
       "239972      (0.6234898018587336, 0.7818314824680298)\n",
       "239973      (0.6234898018587336, 0.7818314824680298)\n",
       "239974    (-0.22252093395631434, 0.9749279121818236)\n",
       "239975     (-0.900968867902419, 0.43388373911755823)\n",
       "239976                                    (1.0, 0.0)\n",
       "239977     (0.6234898018587334, -0.7818314824680299)\n",
       "239978                                    (1.0, 0.0)\n",
       "239979     (-0.9009688679024191, -0.433883739117558)\n",
       "239980    (-0.2225209339563146, -0.9749279121818236)\n",
       "239981      (0.6234898018587336, 0.7818314824680298)\n",
       "239982     (-0.9009688679024191, -0.433883739117558)\n",
       "239983      (0.6234898018587336, 0.7818314824680298)\n",
       "239984    (-0.2225209339563146, -0.9749279121818236)\n",
       "239985    (-0.22252093395631434, 0.9749279121818236)\n",
       "239986    (-0.2225209339563146, -0.9749279121818236)\n",
       "239987    (-0.22252093395631434, 0.9749279121818236)\n",
       "239988     (-0.9009688679024191, -0.433883739117558)\n",
       "239989     (-0.900968867902419, 0.43388373911755823)\n",
       "239990    (-0.2225209339563146, -0.9749279121818236)\n",
       "239991    (-0.2225209339563146, -0.9749279121818236)\n",
       "239992                                    (1.0, 0.0)\n",
       "239993     (0.6234898018587334, -0.7818314824680299)\n",
       "239994    (-0.22252093395631434, 0.9749279121818236)\n",
       "239995     (0.6234898018587334, -0.7818314824680299)\n",
       "239996     (-0.900968867902419, 0.43388373911755823)\n",
       "239997      (0.6234898018587336, 0.7818314824680298)\n",
       "239998     (-0.9009688679024191, -0.433883739117558)\n",
       "239999     (-0.9009688679024191, -0.433883739117558)\n",
       "Name: harmonic_dia_de_semana, Length: 240000, dtype: object"
      ]
     },
     "execution_count": 17,
     "metadata": {},
     "output_type": "execute_result"
    }
   ],
   "source": [
    "train_date.harmonic_dia_de_semana"
   ]
  },
  {
   "cell_type": "code",
   "execution_count": null,
   "metadata": {},
   "outputs": [],
   "source": []
  },
  {
   "cell_type": "code",
   "execution_count": null,
   "metadata": {},
   "outputs": [],
   "source": []
  },
  {
   "cell_type": "code",
   "execution_count": null,
   "metadata": {},
   "outputs": [],
   "source": []
  },
  {
   "cell_type": "code",
   "execution_count": 183,
   "metadata": {},
   "outputs": [],
   "source": [
    "from sklearn.model_selection import TimeSeriesSplit"
   ]
  },
  {
   "cell_type": "code",
   "execution_count": 184,
   "metadata": {},
   "outputs": [],
   "source": [
    "train_sample = train.sample(10000)"
   ]
  },
  {
   "cell_type": "code",
   "execution_count": 185,
   "metadata": {},
   "outputs": [
    {
     "data": {
      "text/html": [
       "<div>\n",
       "<style scoped>\n",
       "    .dataframe tbody tr th:only-of-type {\n",
       "        vertical-align: middle;\n",
       "    }\n",
       "\n",
       "    .dataframe tbody tr th {\n",
       "        vertical-align: top;\n",
       "    }\n",
       "\n",
       "    .dataframe thead th {\n",
       "        text-align: right;\n",
       "    }\n",
       "</style>\n",
       "<table border=\"1\" class=\"dataframe\">\n",
       "  <thead>\n",
       "    <tr style=\"text-align: right;\">\n",
       "      <th></th>\n",
       "      <th>id</th>\n",
       "      <th>titulo</th>\n",
       "      <th>descripcion</th>\n",
       "      <th>tipodepropiedad</th>\n",
       "      <th>direccion</th>\n",
       "      <th>ciudad</th>\n",
       "      <th>provincia</th>\n",
       "      <th>antiguedad</th>\n",
       "      <th>habitaciones</th>\n",
       "      <th>garages</th>\n",
       "      <th>...</th>\n",
       "      <th>idzona</th>\n",
       "      <th>lat</th>\n",
       "      <th>lng</th>\n",
       "      <th>fecha</th>\n",
       "      <th>gimnasio</th>\n",
       "      <th>usosmultiples</th>\n",
       "      <th>piscina</th>\n",
       "      <th>escuelascercanas</th>\n",
       "      <th>centroscomercialescercanos</th>\n",
       "      <th>precio</th>\n",
       "    </tr>\n",
       "  </thead>\n",
       "  <tbody>\n",
       "    <tr>\n",
       "      <th>220954</th>\n",
       "      <td>98893</td>\n",
       "      <td>terreno en venta en puebla</td>\n",
       "      <td>&lt;p&gt;terreno bien ubicado en calle galactica no....</td>\n",
       "      <td>Terreno</td>\n",
       "      <td>Galactica 10</td>\n",
       "      <td>Puebla</td>\n",
       "      <td>Puebla</td>\n",
       "      <td>0.0</td>\n",
       "      <td>NaN</td>\n",
       "      <td>0.0</td>\n",
       "      <td>...</td>\n",
       "      <td>NaN</td>\n",
       "      <td>NaN</td>\n",
       "      <td>NaN</td>\n",
       "      <td>2013-11-03</td>\n",
       "      <td>0.0</td>\n",
       "      <td>0.0</td>\n",
       "      <td>0.0</td>\n",
       "      <td>0.0</td>\n",
       "      <td>0.0</td>\n",
       "      <td>964800.0</td>\n",
       "    </tr>\n",
       "    <tr>\n",
       "      <th>91923</th>\n",
       "      <td>107209</td>\n",
       "      <td>preciosa casa en lomas de la herradura</td>\n",
       "      <td>&lt;p&gt;c&amp;oacute;moda casa en excelente estado de c...</td>\n",
       "      <td>Casa</td>\n",
       "      <td>Seminario</td>\n",
       "      <td>Huixquilucan</td>\n",
       "      <td>Edo. de México</td>\n",
       "      <td>30.0</td>\n",
       "      <td>4.0</td>\n",
       "      <td>3.0</td>\n",
       "      <td>...</td>\n",
       "      <td>55576.0</td>\n",
       "      <td>19.411919</td>\n",
       "      <td>-99.265075</td>\n",
       "      <td>2013-11-19</td>\n",
       "      <td>0.0</td>\n",
       "      <td>1.0</td>\n",
       "      <td>0.0</td>\n",
       "      <td>1.0</td>\n",
       "      <td>1.0</td>\n",
       "      <td>5300000.0</td>\n",
       "    </tr>\n",
       "    <tr>\n",
       "      <th>111989</th>\n",
       "      <td>229880</td>\n",
       "      <td>venta casa rincón de las lomas</td>\n",
       "      <td>fraccionamiento cerrado con vigilancia \\nrecié...</td>\n",
       "      <td>Casa</td>\n",
       "      <td>RINCON DE LAS LOMAS</td>\n",
       "      <td>Cuajimalpa de Morelos</td>\n",
       "      <td>Distrito Federal</td>\n",
       "      <td>20.0</td>\n",
       "      <td>3.0</td>\n",
       "      <td>2.0</td>\n",
       "      <td>...</td>\n",
       "      <td>23751.0</td>\n",
       "      <td>NaN</td>\n",
       "      <td>NaN</td>\n",
       "      <td>2014-10-29</td>\n",
       "      <td>0.0</td>\n",
       "      <td>0.0</td>\n",
       "      <td>0.0</td>\n",
       "      <td>1.0</td>\n",
       "      <td>1.0</td>\n",
       "      <td>5800000.0</td>\n",
       "    </tr>\n",
       "    <tr>\n",
       "      <th>179272</th>\n",
       "      <td>86670</td>\n",
       "      <td>somos los unicos en tizayuca con casas solas d...</td>\n",
       "      <td>somos la empresa con la casa con mas beneficio...</td>\n",
       "      <td>Casa</td>\n",
       "      <td>EL CARMEN TIZAYUCA</td>\n",
       "      <td>Tizayuca</td>\n",
       "      <td>Hidalgo</td>\n",
       "      <td>0.0</td>\n",
       "      <td>3.0</td>\n",
       "      <td>1.0</td>\n",
       "      <td>...</td>\n",
       "      <td>46800.0</td>\n",
       "      <td>NaN</td>\n",
       "      <td>NaN</td>\n",
       "      <td>2015-03-17</td>\n",
       "      <td>1.0</td>\n",
       "      <td>0.0</td>\n",
       "      <td>0.0</td>\n",
       "      <td>1.0</td>\n",
       "      <td>1.0</td>\n",
       "      <td>363000.0</td>\n",
       "    </tr>\n",
       "    <tr>\n",
       "      <th>72362</th>\n",
       "      <td>135983</td>\n",
       "      <td>casa en condominio en venta en centro sur</td>\n",
       "      <td>-- rcv141010-fm-27 --    ,bonita casa ubicada ...</td>\n",
       "      <td>Casa en condominio</td>\n",
       "      <td>AV. FRAY LUIS DE LEON, CONDOMINIO 1 1</td>\n",
       "      <td>Querétaro</td>\n",
       "      <td>Querétaro</td>\n",
       "      <td>10.0</td>\n",
       "      <td>3.0</td>\n",
       "      <td>2.0</td>\n",
       "      <td>...</td>\n",
       "      <td>83764.0</td>\n",
       "      <td>NaN</td>\n",
       "      <td>NaN</td>\n",
       "      <td>2015-11-01</td>\n",
       "      <td>0.0</td>\n",
       "      <td>0.0</td>\n",
       "      <td>0.0</td>\n",
       "      <td>0.0</td>\n",
       "      <td>0.0</td>\n",
       "      <td>1760000.0</td>\n",
       "    </tr>\n",
       "  </tbody>\n",
       "</table>\n",
       "<p>5 rows × 23 columns</p>\n",
       "</div>"
      ],
      "text/plain": [
       "            id                                             titulo  \\\n",
       "220954   98893                         terreno en venta en puebla   \n",
       "91923   107209             preciosa casa en lomas de la herradura   \n",
       "111989  229880                     venta casa rincón de las lomas   \n",
       "179272   86670  somos los unicos en tizayuca con casas solas d...   \n",
       "72362   135983          casa en condominio en venta en centro sur   \n",
       "\n",
       "                                              descripcion     tipodepropiedad  \\\n",
       "220954  <p>terreno bien ubicado en calle galactica no....             Terreno   \n",
       "91923   <p>c&oacute;moda casa en excelente estado de c...                Casa   \n",
       "111989  fraccionamiento cerrado con vigilancia \\nrecié...                Casa   \n",
       "179272  somos la empresa con la casa con mas beneficio...                Casa   \n",
       "72362   -- rcv141010-fm-27 --    ,bonita casa ubicada ...  Casa en condominio   \n",
       "\n",
       "                                    direccion                 ciudad  \\\n",
       "220954                           Galactica 10                 Puebla   \n",
       "91923                               Seminario           Huixquilucan   \n",
       "111989                    RINCON DE LAS LOMAS  Cuajimalpa de Morelos   \n",
       "179272                     EL CARMEN TIZAYUCA               Tizayuca   \n",
       "72362   AV. FRAY LUIS DE LEON, CONDOMINIO 1 1              Querétaro   \n",
       "\n",
       "               provincia  antiguedad  habitaciones  garages    ...      \\\n",
       "220954            Puebla         0.0           NaN      0.0    ...       \n",
       "91923     Edo. de México        30.0           4.0      3.0    ...       \n",
       "111989  Distrito Federal        20.0           3.0      2.0    ...       \n",
       "179272           Hidalgo         0.0           3.0      1.0    ...       \n",
       "72362          Querétaro        10.0           3.0      2.0    ...       \n",
       "\n",
       "         idzona        lat        lng      fecha  gimnasio  usosmultiples  \\\n",
       "220954      NaN        NaN        NaN 2013-11-03       0.0            0.0   \n",
       "91923   55576.0  19.411919 -99.265075 2013-11-19       0.0            1.0   \n",
       "111989  23751.0        NaN        NaN 2014-10-29       0.0            0.0   \n",
       "179272  46800.0        NaN        NaN 2015-03-17       1.0            0.0   \n",
       "72362   83764.0        NaN        NaN 2015-11-01       0.0            0.0   \n",
       "\n",
       "       piscina  escuelascercanas  centroscomercialescercanos     precio  \n",
       "220954     0.0               0.0                         0.0   964800.0  \n",
       "91923      0.0               1.0                         1.0  5300000.0  \n",
       "111989     0.0               1.0                         1.0  5800000.0  \n",
       "179272     0.0               1.0                         1.0   363000.0  \n",
       "72362      0.0               0.0                         0.0  1760000.0  \n",
       "\n",
       "[5 rows x 23 columns]"
      ]
     },
     "execution_count": 185,
     "metadata": {},
     "output_type": "execute_result"
    }
   ],
   "source": [
    "train_sample.head()"
   ]
  },
  {
   "cell_type": "code",
   "execution_count": 186,
   "metadata": {},
   "outputs": [],
   "source": [
    "train_sample = train_sample.sort_values(by = 'fecha')"
   ]
  },
  {
   "cell_type": "code",
   "execution_count": 187,
   "metadata": {},
   "outputs": [],
   "source": [
    "X = train_sample.drop(labels=['precio'], axis=1)\n",
    "y = train_sample.precio"
   ]
  },
  {
   "cell_type": "code",
   "execution_count": 188,
   "metadata": {},
   "outputs": [
    {
     "data": {
      "text/plain": [
       "(10000, 22)"
      ]
     },
     "execution_count": 188,
     "metadata": {},
     "output_type": "execute_result"
    }
   ],
   "source": [
    "X.shape"
   ]
  },
  {
   "cell_type": "code",
   "execution_count": 189,
   "metadata": {},
   "outputs": [
    {
     "data": {
      "text/plain": [
       "10000"
      ]
     },
     "execution_count": 189,
     "metadata": {},
     "output_type": "execute_result"
    }
   ],
   "source": [
    "len(y)"
   ]
  },
  {
   "cell_type": "code",
   "execution_count": 201,
   "metadata": {},
   "outputs": [
    {
     "data": {
      "text/plain": [
       "2"
      ]
     },
     "execution_count": 201,
     "metadata": {},
     "output_type": "execute_result"
    }
   ],
   "source": [
    "value = int(2)\n",
    "value"
   ]
  },
  {
   "cell_type": "code",
   "execution_count": 206,
   "metadata": {},
   "outputs": [],
   "source": [
    "tss = TimeSeriesSplit(n_splits = value)"
   ]
  },
  {
   "cell_type": "code",
   "execution_count": 207,
   "metadata": {},
   "outputs": [],
   "source": [
    "# This was the trickiest part as a newbie. Straight from the docs\n",
    "# If you only have experience with CV splits this way\n",
    "# of making the splits might seem foreign. Fret not.\n",
    "for train_index, test_index in tss.split(X):\n",
    "    X_train, X_test = X.iloc[train_index, :], X.iloc[test_index,:]\n",
    "    y_train, y_test = y.iloc[train_index], y.iloc[test_index]"
   ]
  },
  {
   "cell_type": "code",
   "execution_count": 208,
   "metadata": {},
   "outputs": [
    {
     "data": {
      "text/plain": [
       "(6667, 22)"
      ]
     },
     "execution_count": 208,
     "metadata": {},
     "output_type": "execute_result"
    }
   ],
   "source": [
    "X_train.shape"
   ]
  },
  {
   "cell_type": "code",
   "execution_count": 209,
   "metadata": {},
   "outputs": [
    {
     "data": {
      "text/plain": [
       "(6667,)"
      ]
     },
     "execution_count": 209,
     "metadata": {},
     "output_type": "execute_result"
    }
   ],
   "source": [
    "y_train.shape"
   ]
  },
  {
   "cell_type": "code",
   "execution_count": 213,
   "metadata": {},
   "outputs": [
    {
     "data": {
      "text/plain": [
       "(3333,)"
      ]
     },
     "execution_count": 213,
     "metadata": {},
     "output_type": "execute_result"
    }
   ],
   "source": [
    "y_test.shape"
   ]
  },
  {
   "cell_type": "code",
   "execution_count": 212,
   "metadata": {},
   "outputs": [
    {
     "data": {
      "text/plain": [
       "(3333, 22)"
      ]
     },
     "execution_count": 212,
     "metadata": {},
     "output_type": "execute_result"
    }
   ],
   "source": [
    "X_test.shape"
   ]
  },
  {
   "cell_type": "code",
   "execution_count": null,
   "metadata": {},
   "outputs": [],
   "source": []
  },
  {
   "cell_type": "code",
   "execution_count": null,
   "metadata": {},
   "outputs": [],
   "source": []
  },
  {
   "cell_type": "code",
   "execution_count": null,
   "metadata": {},
   "outputs": [],
   "source": []
  },
  {
   "cell_type": "code",
   "execution_count": 214,
   "metadata": {},
   "outputs": [
    {
     "data": {
      "text/plain": [
       "2015    2189\n",
       "2014    1699\n",
       "2013    1215\n",
       "2012     964\n",
       "2016     600\n",
       "Name: fecha, dtype: int64"
      ]
     },
     "execution_count": 214,
     "metadata": {},
     "output_type": "execute_result"
    }
   ],
   "source": [
    "X_train.fecha.dt.year.value_counts()"
   ]
  },
  {
   "cell_type": "code",
   "execution_count": 216,
   "metadata": {},
   "outputs": [
    {
     "data": {
      "text/plain": [
       "3    195\n",
       "2    163\n",
       "1    242\n",
       "Name: fecha, dtype: int64"
      ]
     },
     "execution_count": 216,
     "metadata": {},
     "output_type": "execute_result"
    }
   ],
   "source": [
    "X_train[X_train.fecha.dt.year == 2016].fecha.dt.month.value_counts().sort_index(ascending = False)"
   ]
  },
  {
   "cell_type": "code",
   "execution_count": 218,
   "metadata": {},
   "outputs": [
    {
     "data": {
      "text/plain": [
       "2016    3333\n",
       "Name: fecha, dtype: int64"
      ]
     },
     "execution_count": 218,
     "metadata": {},
     "output_type": "execute_result"
    }
   ],
   "source": [
    "X_test.fecha.dt.year.value_counts()"
   ]
  },
  {
   "cell_type": "code",
   "execution_count": 217,
   "metadata": {},
   "outputs": [
    {
     "data": {
      "text/plain": [
       "12    1204\n",
       "4      285\n",
       "6      268\n",
       "10     265\n",
       "11     261\n",
       "7      256\n",
       "9      255\n",
       "8      250\n",
       "5      240\n",
       "3       49\n",
       "Name: fecha, dtype: int64"
      ]
     },
     "execution_count": 217,
     "metadata": {},
     "output_type": "execute_result"
    }
   ],
   "source": [
    "X_test.fecha.dt.month.value_counts()"
   ]
  },
  {
   "cell_type": "code",
   "execution_count": 138,
   "metadata": {},
   "outputs": [
    {
     "data": {
      "text/plain": [
       "(6667, 22)"
      ]
     },
     "execution_count": 138,
     "metadata": {},
     "output_type": "execute_result"
    }
   ],
   "source": [
    "X_train.shape"
   ]
  },
  {
   "cell_type": "code",
   "execution_count": 139,
   "metadata": {},
   "outputs": [
    {
     "data": {
      "text/plain": [
       "(6667,)"
      ]
     },
     "execution_count": 139,
     "metadata": {},
     "output_type": "execute_result"
    }
   ],
   "source": [
    "y_train.shape"
   ]
  },
  {
   "cell_type": "code",
   "execution_count": 140,
   "metadata": {},
   "outputs": [
    {
     "data": {
      "text/plain": [
       "0.3333"
      ]
     },
     "execution_count": 140,
     "metadata": {},
     "output_type": "execute_result"
    }
   ],
   "source": [
    "len(X_test)/10000"
   ]
  },
  {
   "cell_type": "code",
   "execution_count": null,
   "metadata": {},
   "outputs": [],
   "source": []
  }
 ],
 "metadata": {
  "kernelspec": {
   "display_name": "Python 3",
   "language": "python",
   "name": "python3"
  },
  "language_info": {
   "codemirror_mode": {
    "name": "ipython",
    "version": 3
   },
   "file_extension": ".py",
   "mimetype": "text/x-python",
   "name": "python",
   "nbconvert_exporter": "python",
   "pygments_lexer": "ipython3",
   "version": "3.7.1"
  }
 },
 "nbformat": 4,
 "nbformat_minor": 2
}
