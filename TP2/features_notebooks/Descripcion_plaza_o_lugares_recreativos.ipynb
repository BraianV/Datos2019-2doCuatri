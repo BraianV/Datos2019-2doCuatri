{
 "cells": [
  {
   "cell_type": "markdown",
   "metadata": {},
   "source": [
    "#### Se busca palabras que relacionen a la propiedad con algun tipo de plaza o derivados que modifique su precio"
   ]
  },
  {
   "cell_type": "code",
   "execution_count": 1,
   "metadata": {},
   "outputs": [],
   "source": [
    "%matplotlib inline\n",
    "%load_ext autoreload\n",
    "%autoreload 2\n",
    "\n",
    "import pandas as pd\n",
    "import numpy as np\n",
    "import filter_feature_string as clean\n",
    "import getTopicos as getTopicos"
   ]
  },
  {
   "cell_type": "code",
   "execution_count": 2,
   "metadata": {},
   "outputs": [],
   "source": [
    "path_features_train = \"features_csvs/train_descripcion_con_plazas.csv\"\n",
    "path_features_test = \"features_csvs/test_descripcion_con_plazas.csv\""
   ]
  },
  {
   "cell_type": "code",
   "execution_count": 3,
   "metadata": {},
   "outputs": [],
   "source": [
    "train = pd.read_csv(\"../data/train.csv\")\n",
    "test = pd.read_csv(\"../data/test.csv\")"
   ]
  },
  {
   "cell_type": "code",
   "execution_count": 4,
   "metadata": {},
   "outputs": [],
   "source": [
    "#palabras relacionadas con plazas y lugares abiertos\n",
    "topicos = ['plazas','plaza','plazoleta','plazoletas','parque','parques' ,'bosque', 'bosques', 'plazuelas', 'plazuela', 'glorieta', 'glorietas', 'rotonda', 'rotondas', 'plazuela', 'plazuelas', 'explanada' , 'explanada']"
   ]
  },
  {
   "cell_type": "code",
   "execution_count": 5,
   "metadata": {},
   "outputs": [
    {
     "data": {
      "text/plain": [
       "Index(['id', 'titulo', 'descripcion', 'tipodepropiedad', 'direccion', 'ciudad',\n",
       "       'provincia', 'antiguedad', 'habitaciones', 'garages', 'banos',\n",
       "       'metroscubiertos', 'metrostotales', 'idzona', 'lat', 'lng', 'fecha',\n",
       "       'gimnasio', 'usosmultiples', 'piscina', 'escuelascercanas',\n",
       "       'centroscomercialescercanos', 'precio'],\n",
       "      dtype='object')"
      ]
     },
     "execution_count": 5,
     "metadata": {},
     "output_type": "execute_result"
    }
   ],
   "source": [
    "train.columns"
   ]
  },
  {
   "cell_type": "code",
   "execution_count": 6,
   "metadata": {},
   "outputs": [
    {
     "name": "stdout",
     "output_type": "stream",
     "text": [
      "Distribucion del feature : plazas_y_derivados\n",
      "0    0.867633\n",
      "1    0.132367\n",
      "Name: plazas_y_derivados, dtype: float64\n"
     ]
    }
   ],
   "source": [
    "df_con_plaza_train = getTopicos.get_topicos_in_column(train,topicos,'descripcion',\"plazas_y_derivados\")"
   ]
  },
  {
   "cell_type": "code",
   "execution_count": 7,
   "metadata": {},
   "outputs": [
    {
     "name": "stdout",
     "output_type": "stream",
     "text": [
      "Distribucion del feature : plazas_y_derivados\n",
      "0    0.866867\n",
      "1    0.133133\n",
      "Name: plazas_y_derivados, dtype: float64\n"
     ]
    }
   ],
   "source": [
    "df_con_plaza_test = getTopicos.get_topicos_in_column(test,topicos,'descripcion',\"plazas_y_derivados\")"
   ]
  },
  {
   "cell_type": "code",
   "execution_count": 8,
   "metadata": {},
   "outputs": [],
   "source": [
    "df_con_plaza_train.to_csv(path_features_train, index=False)\n",
    "df_con_plaza_test.to_csv(path_features_test, index=False)"
   ]
  },
  {
   "cell_type": "code",
   "execution_count": null,
   "metadata": {},
   "outputs": [],
   "source": []
  }
 ],
 "metadata": {
  "kernelspec": {
   "display_name": "Python 3",
   "language": "python",
   "name": "python3"
  },
  "language_info": {
   "codemirror_mode": {
    "name": "ipython",
    "version": 3
   },
   "file_extension": ".py",
   "mimetype": "text/x-python",
   "name": "python",
   "nbconvert_exporter": "python",
   "pygments_lexer": "ipython3",
   "version": "3.7.1"
  }
 },
 "nbformat": 4,
 "nbformat_minor": 2
}
