{
 "cells": [
  {
   "cell_type": "code",
   "execution_count": 77,
   "metadata": {},
   "outputs": [],
   "source": [
    "import pandas as pd\n",
    "import numpy as np"
   ]
  },
  {
   "cell_type": "code",
   "execution_count": 78,
   "metadata": {},
   "outputs": [],
   "source": [
    "train = pd.read_csv(\"../data/train.csv\")\n",
    "test = pd.read_csv(\"../data/test.csv\")"
   ]
  },
  {
   "cell_type": "code",
   "execution_count": 79,
   "metadata": {},
   "outputs": [],
   "source": [
    "path_features_train = \"features_csvs/train_con_fechas_features_v2.csv\"\n",
    "path_features_test = \"features_csvs/test_con_fechas_features_v2.csv\""
   ]
  },
  {
   "cell_type": "code",
   "execution_count": 80,
   "metadata": {},
   "outputs": [],
   "source": [
    "train.fecha = pd.to_datetime(train.fecha)\n",
    "test.fecha = pd.to_datetime(test.fecha)"
   ]
  },
  {
   "cell_type": "code",
   "execution_count": 81,
   "metadata": {},
   "outputs": [],
   "source": [
    "train['month'] = train.fecha.dt.month\n",
    "test['month'] = test.fecha.dt.month"
   ]
  },
  {
   "cell_type": "code",
   "execution_count": 82,
   "metadata": {},
   "outputs": [],
   "source": [
    "train['es_principio_de_anio'] = train.month.apply(lambda x: 1 if x in (1,2,3) else 0)\n",
    "test['es_principio_de_anio'] = test.month.apply(lambda x: 1 if x in (1,2,3) else 0)"
   ]
  },
  {
   "cell_type": "code",
   "execution_count": 83,
   "metadata": {},
   "outputs": [],
   "source": [
    "train['es_fin_de_anio'] = train.month.apply(lambda x: 1 if x in (10,11,12) else 0)\n",
    "test['es_fin_de_anio'] = test.month.apply(lambda x: 1 if x in (10,11,12) else 0)"
   ]
  },
  {
   "cell_type": "code",
   "execution_count": 84,
   "metadata": {},
   "outputs": [],
   "source": [
    "train['day_in_month'] = train.fecha.dt.day\n",
    "test['day_in_month'] = test.fecha.dt.day"
   ]
  },
  {
   "cell_type": "code",
   "execution_count": 85,
   "metadata": {},
   "outputs": [],
   "source": [
    "train['size_day_in_month'] = train.fecha.dt.daysinmonth\n",
    "test['size_day_in_month'] = test.fecha.dt.daysinmonth"
   ]
  },
  {
   "cell_type": "code",
   "execution_count": 86,
   "metadata": {},
   "outputs": [],
   "source": [
    "train['es_principio_de_mes'] = train.day_in_month.apply(lambda x : 1 if x in range(0,8) else 0)\n",
    "test['es_principio_de_mes'] = test.day_in_month.apply(lambda x : 1 if x in range(0,8) else 0)"
   ]
  },
  {
   "cell_type": "code",
   "execution_count": 87,
   "metadata": {},
   "outputs": [],
   "source": [
    "train['es_fin_de_mes'] = train.day_in_month.apply(lambda x : 1 if x in range(30-7,30) else 0)\n",
    "test['es_fin_de_mes'] = test.day_in_month.apply(lambda x : 1 if x in range(30-7,30) else 0)"
   ]
  },
  {
   "cell_type": "code",
   "execution_count": 88,
   "metadata": {},
   "outputs": [],
   "source": [
    "train_feature = train.loc[:,['id','es_principio_de_anio','es_fin_de_anio','es_principio_de_mes','es_fin_de_mes']]\n",
    "test_feature = test.loc[:,['id','es_principio_de_anio','es_fin_de_anio','es_principio_de_mes','es_fin_de_mes']]"
   ]
  },
  {
   "cell_type": "code",
   "execution_count": 89,
   "metadata": {},
   "outputs": [],
   "source": [
    "train_feature.to_csv(path_features_train)\n",
    "test_feature.to_csv(path_features_test)"
   ]
  },
  {
   "cell_type": "code",
   "execution_count": null,
   "metadata": {},
   "outputs": [],
   "source": []
  }
 ],
 "metadata": {
  "kernelspec": {
   "display_name": "Python 3",
   "language": "python",
   "name": "python3"
  },
  "language_info": {
   "codemirror_mode": {
    "name": "ipython",
    "version": 3
   },
   "file_extension": ".py",
   "mimetype": "text/x-python",
   "name": "python",
   "nbconvert_exporter": "python",
   "pygments_lexer": "ipython3",
   "version": "3.7.1"
  }
 },
 "nbformat": 4,
 "nbformat_minor": 2
}
