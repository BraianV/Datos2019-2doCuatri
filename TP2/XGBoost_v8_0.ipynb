{
 "cells": [
  {
   "cell_type": "markdown",
   "metadata": {},
   "source": [
    "#### Usando randomsearch para buscar los mejores hiperparametros en xgboost"
   ]
  },
  {
   "cell_type": "code",
   "execution_count": 2,
   "metadata": {},
   "outputs": [],
   "source": [
    "%matplotlib inline\n",
    "%load_ext autoreload\n",
    "%autoreload 2\n",
    "\n",
    "import pandas as pd\n",
    "import numpy as np\n",
    "from sklearn.model_selection import train_test_split\n",
    "from xgboost.sklearn import XGBRegressor\n",
    "from sklearn.model_selection import GridSearchCV\n",
    "from sklearn.model_selection import RandomizedSearchCV\n",
    "from sklearn.metrics import mean_absolute_error\n",
    "from sklearn.preprocessing import Imputer\n",
    "\n",
    "import matplotlib.pyplot as plt\n",
    "import utils.encodeador as my_encoder\n",
    "import utils.featurizerV2 as ft_v2\n",
    "\n",
    "import re\n",
    "\n",
    "from math import sqrt"
   ]
  },
  {
   "cell_type": "code",
   "execution_count": 3,
   "metadata": {},
   "outputs": [],
   "source": [
    "train = pd.read_csv(\"data/train.csv\")\n",
    "test = pd.read_csv(\"data/test.csv\")\n"
   ]
  },
  {
   "cell_type": "code",
   "execution_count": 4,
   "metadata": {},
   "outputs": [],
   "source": [
    "df_test = pd.read_csv(\"data/test.csv\")"
   ]
  },
  {
   "cell_type": "code",
   "execution_count": 5,
   "metadata": {},
   "outputs": [],
   "source": [
    "train = ft_v2.featurizerv2(train,\"train\")\n",
    "test = ft_v2.featurizerv2(test,\"test\")"
   ]
  },
  {
   "cell_type": "code",
   "execution_count": 6,
   "metadata": {},
   "outputs": [
    {
     "data": {
      "text/plain": [
       "(240000, 56)"
      ]
     },
     "execution_count": 6,
     "metadata": {},
     "output_type": "execute_result"
    }
   ],
   "source": [
    "train.shape"
   ]
  },
  {
   "cell_type": "code",
   "execution_count": 7,
   "metadata": {},
   "outputs": [
    {
     "data": {
      "text/plain": [
       "(60000, 55)"
      ]
     },
     "execution_count": 7,
     "metadata": {},
     "output_type": "execute_result"
    }
   ],
   "source": [
    "test.shape"
   ]
  },
  {
   "cell_type": "code",
   "execution_count": 8,
   "metadata": {},
   "outputs": [],
   "source": [
    "drop_cols = ['id','titulo','descripcion','direccion','fecha']"
   ]
  },
  {
   "cell_type": "code",
   "execution_count": 9,
   "metadata": {},
   "outputs": [],
   "source": [
    "X = train.drop(['precio'] + drop_cols, axis=1)\n",
    "test = test.drop(drop_cols, axis=1)\n",
    "y = train['precio']"
   ]
  },
  {
   "cell_type": "code",
   "execution_count": 10,
   "metadata": {},
   "outputs": [
    {
     "data": {
      "text/plain": [
       "Index(['tipodepropiedad', 'ciudad', 'provincia', 'antiguedad', 'habitaciones',\n",
       "       'garages', 'banos', 'metroscubiertos', 'metrostotales', 'idzona', 'lat',\n",
       "       'lng', 'gimnasio', 'usosmultiples', 'piscina', 'escuelascercanas',\n",
       "       'centroscomercialescercanos', 'seguridad', 'plazas_y_derivados',\n",
       "       'patio_o_jardin', 'en_avenida', 'con_referencias_acuaticas',\n",
       "       'cantidad_de_beneficios', 'con_referencias_turisticas', 'es_habitable',\n",
       "       'dolar', 'devaluacion_acumulada', 'year', 'mes', 'dia_del_mes',\n",
       "       'dia_del_anio', 'quarter', 'dia_de_semana', 'es_finde', 'aire_libre',\n",
       "       'is_DF', 'x', 'y', 'z', 'mean_metroscubiertos_tipodepropiedad',\n",
       "       'mean_metrostotales_tipodepropiedad', 'mean_gimnasio_tipodepropiedad',\n",
       "       'mean_usosmultiples_tipodepropiedad', 'mean_piscina_tipodepropiedad',\n",
       "       'mean_escuelascercanas_tipodepropiedad',\n",
       "       'mean_centroscomercialescercanos_tipodepropiedad',\n",
       "       'mean_garages_tipodepropiedad', 'mean_banos_tipodepropiedad',\n",
       "       'diff_dias_a_la_ultima_compra_del_mismo_tipo', 'es_de_lujo'],\n",
       "      dtype='object')"
      ]
     },
     "execution_count": 10,
     "metadata": {},
     "output_type": "execute_result"
    }
   ],
   "source": [
    "X.columns"
   ]
  },
  {
   "cell_type": "code",
   "execution_count": 11,
   "metadata": {},
   "outputs": [],
   "source": [
    "X,test = my_encoder.oneHotEncoder(X,test)"
   ]
  },
  {
   "cell_type": "code",
   "execution_count": 12,
   "metadata": {},
   "outputs": [
    {
     "data": {
      "text/plain": [
       "(240000, 632)"
      ]
     },
     "execution_count": 12,
     "metadata": {},
     "output_type": "execute_result"
    }
   ],
   "source": [
    "X.shape"
   ]
  },
  {
   "cell_type": "code",
   "execution_count": 13,
   "metadata": {},
   "outputs": [],
   "source": [
    "X_train, X_test, y_train, y_test = train_test_split(X, y, test_size=0.25, random_state=42)"
   ]
  },
  {
   "cell_type": "code",
   "execution_count": 14,
   "metadata": {},
   "outputs": [],
   "source": [
    "hyper_param = { 'objective' :'reg:squarederror', \n",
    "                'colsample_bytree' : 0.3, \n",
    "               'learning_rate' : 0.1,\n",
    "                'max_depth' : 15,\n",
    "               'alpha' : 10,\n",
    "               'n_estimators' : 300,\n",
    "               'eval_metric' : 'mae'\n",
    "              }"
   ]
  },
  {
   "cell_type": "code",
   "execution_count": 15,
   "metadata": {},
   "outputs": [],
   "source": [
    "xgb = XGBRegressor(**hyper_param)"
   ]
  },
  {
   "cell_type": "code",
   "execution_count": 16,
   "metadata": {},
   "outputs": [],
   "source": [
    "parameters = {\n",
    "    'max_depth': [5, 10, 15, 20],\n",
    "    'n_estimators': [100, 300, 500],\n",
    "    'min_child_weight': [1, 5, 10, 25],\n",
    "    'learning_rate': [0.1, 0.01, 0.05],\n",
    "    'subsample': [0.5,0.8,1],\n",
    "    'colsample_bytree': [0.5,0.8,1],\n",
    "    'gamma': [0.5, 1, 2, 5],\n",
    "    'colsample_bytree': [0.5, 0.75, 1]\n",
    "}\n"
   ]
  },
  {
   "cell_type": "code",
   "execution_count": 17,
   "metadata": {},
   "outputs": [],
   "source": [
    "xgb_gs = GridSearchCV(xgb, param_grid= parameters, scoring='neg_median_absolute_error',n_jobs=6, verbose = 15 )\n"
   ]
  },
  {
   "cell_type": "code",
   "execution_count": null,
   "metadata": {},
   "outputs": [],
   "source": []
  },
  {
   "cell_type": "code",
   "execution_count": 68,
   "metadata": {},
   "outputs": [
    {
     "name": "stdout",
     "output_type": "stream",
     "text": [
      "Fitting 3 folds for each of 5184 candidates, totalling 15552 fits\n"
     ]
    },
    {
     "name": "stderr",
     "output_type": "stream",
     "text": [
      "[Parallel(n_jobs=6)]: Using backend LokyBackend with 6 concurrent workers.\n",
      "[Parallel(n_jobs=6)]: Done   1 tasks      | elapsed:  3.1min\n",
      "[Parallel(n_jobs=6)]: Done   2 tasks      | elapsed:  3.2min\n",
      "[Parallel(n_jobs=6)]: Done   3 tasks      | elapsed:  4.0min\n",
      "[Parallel(n_jobs=6)]: Done   4 tasks      | elapsed:  4.0min\n",
      "[Parallel(n_jobs=6)]: Done   5 tasks      | elapsed:  4.3min\n",
      "[Parallel(n_jobs=6)]: Done   6 tasks      | elapsed:  4.7min\n",
      "[Parallel(n_jobs=6)]: Done   7 tasks      | elapsed:  6.4min\n",
      "[Parallel(n_jobs=6)]: Done   8 tasks      | elapsed:  6.7min\n",
      "[Parallel(n_jobs=6)]: Done   9 tasks      | elapsed:  6.8min\n",
      "[Parallel(n_jobs=6)]: Done  10 tasks      | elapsed: 13.7min\n",
      "[Parallel(n_jobs=6)]: Done  11 tasks      | elapsed: 14.3min\n",
      "[Parallel(n_jobs=6)]: Done  12 tasks      | elapsed: 17.8min\n",
      "[Parallel(n_jobs=6)]: Done  13 tasks      | elapsed: 18.0min\n",
      "[Parallel(n_jobs=6)]: Done  14 tasks      | elapsed: 18.4min\n",
      "[Parallel(n_jobs=6)]: Done  15 tasks      | elapsed: 19.0min\n",
      "[Parallel(n_jobs=6)]: Done  16 tasks      | elapsed: 20.4min\n",
      "[Parallel(n_jobs=6)]: Done  17 tasks      | elapsed: 23.8min\n",
      "[Parallel(n_jobs=6)]: Done  18 tasks      | elapsed: 27.2min\n",
      "[Parallel(n_jobs=6)]: Done  19 tasks      | elapsed: 35.0min\n",
      "[Parallel(n_jobs=6)]: Done  20 tasks      | elapsed: 35.5min\n",
      "[Parallel(n_jobs=6)]: Done  21 tasks      | elapsed: 38.2min\n",
      "[Parallel(n_jobs=6)]: Done  22 tasks      | elapsed: 40.5min\n",
      "[Parallel(n_jobs=6)]: Done  23 tasks      | elapsed: 43.2min\n",
      "[Parallel(n_jobs=6)]: Done  24 tasks      | elapsed: 44.0min\n",
      "[Parallel(n_jobs=6)]: Done  25 tasks      | elapsed: 47.4min\n",
      "[Parallel(n_jobs=6)]: Done  26 tasks      | elapsed: 47.5min\n",
      "[Parallel(n_jobs=6)]: Done  27 tasks      | elapsed: 48.2min\n",
      "[Parallel(n_jobs=6)]: Done  28 tasks      | elapsed: 49.2min\n",
      "[Parallel(n_jobs=6)]: Done  29 tasks      | elapsed: 50.2min\n",
      "[Parallel(n_jobs=6)]: Done  30 tasks      | elapsed: 50.3min\n",
      "[Parallel(n_jobs=6)]: Done  31 tasks      | elapsed: 51.6min\n",
      "[Parallel(n_jobs=6)]: Done  32 tasks      | elapsed: 51.9min\n",
      "[Parallel(n_jobs=6)]: Done  33 tasks      | elapsed: 52.6min\n",
      "[Parallel(n_jobs=6)]: Done  34 tasks      | elapsed: 52.6min\n",
      "[Parallel(n_jobs=6)]: Done  35 tasks      | elapsed: 52.7min\n",
      "[Parallel(n_jobs=6)]: Done  36 tasks      | elapsed: 53.8min\n",
      "[Parallel(n_jobs=6)]: Done  37 tasks      | elapsed: 61.3min\n",
      "[Parallel(n_jobs=6)]: Done  38 tasks      | elapsed: 61.7min\n",
      "[Parallel(n_jobs=6)]: Done  39 tasks      | elapsed: 64.4min\n",
      "[Parallel(n_jobs=6)]: Done  40 tasks      | elapsed: 64.8min\n",
      "[Parallel(n_jobs=6)]: Done  41 tasks      | elapsed: 65.4min\n",
      "[Parallel(n_jobs=6)]: Done  42 tasks      | elapsed: 65.8min\n",
      "[Parallel(n_jobs=6)]: Done  43 tasks      | elapsed: 68.0min\n",
      "[Parallel(n_jobs=6)]: Done  44 tasks      | elapsed: 71.4min\n",
      "[Parallel(n_jobs=6)]: Done  45 tasks      | elapsed: 74.8min\n",
      "[Parallel(n_jobs=6)]: Done  46 tasks      | elapsed: 81.2min\n",
      "[Parallel(n_jobs=6)]: Done  47 tasks      | elapsed: 81.4min\n",
      "[Parallel(n_jobs=6)]: Done  48 tasks      | elapsed: 87.6min\n",
      "[Parallel(n_jobs=6)]: Done  49 tasks      | elapsed: 88.2min\n",
      "[Parallel(n_jobs=6)]: Done  50 tasks      | elapsed: 91.8min\n",
      "[Parallel(n_jobs=6)]: Done  51 tasks      | elapsed: 92.6min\n",
      "[Parallel(n_jobs=6)]: Done  52 tasks      | elapsed: 93.1min\n",
      "[Parallel(n_jobs=6)]: Done  53 tasks      | elapsed: 93.5min\n",
      "[Parallel(n_jobs=6)]: Done  54 tasks      | elapsed: 95.3min\n",
      "[Parallel(n_jobs=6)]: Done  55 tasks      | elapsed: 95.5min\n",
      "[Parallel(n_jobs=6)]: Done  56 tasks      | elapsed: 96.0min\n",
      "[Parallel(n_jobs=6)]: Done  57 tasks      | elapsed: 97.6min\n",
      "[Parallel(n_jobs=6)]: Done  58 tasks      | elapsed: 97.9min\n",
      "[Parallel(n_jobs=6)]: Done  59 tasks      | elapsed: 97.9min\n",
      "[Parallel(n_jobs=6)]: Done  60 tasks      | elapsed: 98.4min\n",
      "[Parallel(n_jobs=6)]: Done  61 tasks      | elapsed: 99.7min\n",
      "[Parallel(n_jobs=6)]: Done  62 tasks      | elapsed: 101.2min\n",
      "[Parallel(n_jobs=6)]: Done  63 tasks      | elapsed: 104.2min\n",
      "[Parallel(n_jobs=6)]: Done  64 tasks      | elapsed: 107.5min\n",
      "[Parallel(n_jobs=6)]: Done  65 tasks      | elapsed: 107.9min\n",
      "[Parallel(n_jobs=6)]: Done  66 tasks      | elapsed: 111.7min\n",
      "[Parallel(n_jobs=6)]: Done  67 tasks      | elapsed: 111.9min\n",
      "[Parallel(n_jobs=6)]: Done  68 tasks      | elapsed: 113.6min\n",
      "[Parallel(n_jobs=6)]: Done  69 tasks      | elapsed: 114.3min\n",
      "[Parallel(n_jobs=6)]: Done  70 tasks      | elapsed: 114.6min\n",
      "[Parallel(n_jobs=6)]: Done  71 tasks      | elapsed: 116.6min\n",
      "[Parallel(n_jobs=6)]: Done  72 tasks      | elapsed: 121.9min\n",
      "[Parallel(n_jobs=6)]: Done  73 tasks      | elapsed: 127.6min\n",
      "[Parallel(n_jobs=6)]: Done  74 tasks      | elapsed: 130.3min\n",
      "[Parallel(n_jobs=6)]: Done  75 tasks      | elapsed: 133.4min\n",
      "[Parallel(n_jobs=6)]: Done  76 tasks      | elapsed: 136.3min\n",
      "[Parallel(n_jobs=6)]: Done  77 tasks      | elapsed: 136.9min\n",
      "[Parallel(n_jobs=6)]: Done  78 tasks      | elapsed: 140.4min\n",
      "[Parallel(n_jobs=6)]: Done  79 tasks      | elapsed: 141.3min\n",
      "[Parallel(n_jobs=6)]: Done  80 tasks      | elapsed: 141.4min\n",
      "[Parallel(n_jobs=6)]: Done  81 tasks      | elapsed: 141.6min\n",
      "[Parallel(n_jobs=6)]: Done  82 tasks      | elapsed: 141.9min\n",
      "[Parallel(n_jobs=6)]: Done  83 tasks      | elapsed: 143.9min\n",
      "[Parallel(n_jobs=6)]: Done  84 tasks      | elapsed: 144.3min\n",
      "[Parallel(n_jobs=6)]: Done  85 tasks      | elapsed: 145.6min\n",
      "[Parallel(n_jobs=6)]: Done  86 tasks      | elapsed: 145.6min\n",
      "[Parallel(n_jobs=6)]: Done  87 tasks      | elapsed: 146.0min\n",
      "[Parallel(n_jobs=6)]: Done  88 tasks      | elapsed: 146.4min\n",
      "[Parallel(n_jobs=6)]: Done  89 tasks      | elapsed: 146.7min\n",
      "[Parallel(n_jobs=6)]: Done  90 tasks      | elapsed: 150.2min\n",
      "[Parallel(n_jobs=6)]: Done  91 tasks      | elapsed: 155.9min\n",
      "[Parallel(n_jobs=6)]: Done  92 tasks      | elapsed: 157.2min\n",
      "[Parallel(n_jobs=6)]: Done  93 tasks      | elapsed: 157.5min\n",
      "[Parallel(n_jobs=6)]: Done  94 tasks      | elapsed: 158.0min\n",
      "[Parallel(n_jobs=6)]: Done  95 tasks      | elapsed: 159.1min\n",
      "[Parallel(n_jobs=6)]: Done  96 tasks      | elapsed: 162.6min\n",
      "[Parallel(n_jobs=6)]: Done  97 tasks      | elapsed: 162.6min\n",
      "[Parallel(n_jobs=6)]: Done  98 tasks      | elapsed: 167.2min\n",
      "[Parallel(n_jobs=6)]: Done  99 tasks      | elapsed: 167.7min\n",
      "[Parallel(n_jobs=6)]: Done 100 tasks      | elapsed: 175.5min\n",
      "[Parallel(n_jobs=6)]: Done 101 tasks      | elapsed: 175.7min\n",
      "[Parallel(n_jobs=6)]: Done 102 tasks      | elapsed: 179.6min\n",
      "[Parallel(n_jobs=6)]: Done 103 tasks      | elapsed: 183.8min\n",
      "[Parallel(n_jobs=6)]: Done 104 tasks      | elapsed: 185.3min\n",
      "[Parallel(n_jobs=6)]: Done 105 tasks      | elapsed: 186.7min\n",
      "[Parallel(n_jobs=6)]: Done 106 tasks      | elapsed: 187.4min\n",
      "[Parallel(n_jobs=6)]: Done 107 tasks      | elapsed: 190.2min\n",
      "[Parallel(n_jobs=6)]: Done 108 tasks      | elapsed: 192.3min\n",
      "[Parallel(n_jobs=6)]: Done 109 tasks      | elapsed: 193.1min\n",
      "[Parallel(n_jobs=6)]: Done 110 tasks      | elapsed: 194.4min\n",
      "[Parallel(n_jobs=6)]: Done 111 tasks      | elapsed: 195.5min\n",
      "[Parallel(n_jobs=6)]: Done 112 tasks      | elapsed: 195.5min\n",
      "[Parallel(n_jobs=6)]: Done 113 tasks      | elapsed: 196.9min\n",
      "[Parallel(n_jobs=6)]: Done 114 tasks      | elapsed: 197.4min\n",
      "[Parallel(n_jobs=6)]: Done 115 tasks      | elapsed: 200.4min\n",
      "[Parallel(n_jobs=6)]: Done 116 tasks      | elapsed: 201.3min\n",
      "[Parallel(n_jobs=6)]: Done 117 tasks      | elapsed: 201.6min\n",
      "[Parallel(n_jobs=6)]: Done 118 tasks      | elapsed: 215.4min\n",
      "[Parallel(n_jobs=6)]: Done 119 tasks      | elapsed: 218.0min\n",
      "[Parallel(n_jobs=6)]: Done 120 tasks      | elapsed: 219.6min\n",
      "[Parallel(n_jobs=6)]: Done 121 tasks      | elapsed: 220.2min\n",
      "[Parallel(n_jobs=6)]: Done 122 tasks      | elapsed: 223.4min\n",
      "[Parallel(n_jobs=6)]: Done 123 tasks      | elapsed: 224.6min\n",
      "[Parallel(n_jobs=6)]: Done 124 tasks      | elapsed: 227.5min\n",
      "[Parallel(n_jobs=6)]: Done 125 tasks      | elapsed: 235.2min\n",
      "[Parallel(n_jobs=6)]: Done 126 tasks      | elapsed: 237.7min\n",
      "[Parallel(n_jobs=6)]: Done 127 tasks      | elapsed: 251.7min\n",
      "[Parallel(n_jobs=6)]: Done 128 tasks      | elapsed: 252.5min\n",
      "[Parallel(n_jobs=6)]: Done 129 tasks      | elapsed: 266.5min\n",
      "[Parallel(n_jobs=6)]: Done 130 tasks      | elapsed: 267.2min\n",
      "[Parallel(n_jobs=6)]: Done 131 tasks      | elapsed: 268.1min\n",
      "[Parallel(n_jobs=6)]: Done 132 tasks      | elapsed: 271.8min\n"
     ]
    },
    {
     "name": "stderr",
     "output_type": "stream",
     "text": [
      "[Parallel(n_jobs=6)]: Done 133 tasks      | elapsed: 275.1min\n",
      "[Parallel(n_jobs=6)]: Done 134 tasks      | elapsed: 276.5min\n",
      "[Parallel(n_jobs=6)]: Done 135 tasks      | elapsed: 277.3min\n",
      "[Parallel(n_jobs=6)]: Done 136 tasks      | elapsed: 278.2min\n",
      "[Parallel(n_jobs=6)]: Done 137 tasks      | elapsed: 280.3min\n",
      "[Parallel(n_jobs=6)]: Done 138 tasks      | elapsed: 282.5min\n",
      "[Parallel(n_jobs=6)]: Done 139 tasks      | elapsed: 284.7min\n",
      "[Parallel(n_jobs=6)]: Done 140 tasks      | elapsed: 284.8min\n",
      "[Parallel(n_jobs=6)]: Done 141 tasks      | elapsed: 284.9min\n",
      "[Parallel(n_jobs=6)]: Done 142 tasks      | elapsed: 285.5min\n",
      "[Parallel(n_jobs=6)]: Done 143 tasks      | elapsed: 286.8min\n",
      "[Parallel(n_jobs=6)]: Done 144 tasks      | elapsed: 295.3min\n",
      "[Parallel(n_jobs=6)]: Done 145 tasks      | elapsed: 301.5min\n",
      "[Parallel(n_jobs=6)]: Done 146 tasks      | elapsed: 302.9min\n",
      "/home/braianvillalba/.local/lib/python3.7/site-packages/joblib/externals/loky/process_executor.py:706: UserWarning: A worker stopped while some jobs were given to the executor. This can be caused by a too short worker timeout or by a memory leak.\n",
      "  \"timeout or by a memory leak.\", UserWarning\n",
      "[Parallel(n_jobs=6)]: Done 147 tasks      | elapsed: 308.3min\n",
      "[Parallel(n_jobs=6)]: Done 148 tasks      | elapsed: 308.4min\n",
      "[Parallel(n_jobs=6)]: Done 149 tasks      | elapsed: 311.1min\n",
      "[Parallel(n_jobs=6)]: Done 150 tasks      | elapsed: 313.6min\n",
      "[Parallel(n_jobs=6)]: Done 151 tasks      | elapsed: 318.6min\n",
      "[Parallel(n_jobs=6)]: Done 152 tasks      | elapsed: 320.5min\n",
      "[Parallel(n_jobs=6)]: Done 153 tasks      | elapsed: 322.6min\n",
      "[Parallel(n_jobs=6)]: Done 154 tasks      | elapsed: 343.7min\n",
      "[Parallel(n_jobs=6)]: Done 155 tasks      | elapsed: 347.4min\n",
      "[Parallel(n_jobs=6)]: Done 156 tasks      | elapsed: 351.2min\n",
      "[Parallel(n_jobs=6)]: Done 157 tasks      | elapsed: 352.4min\n",
      "[Parallel(n_jobs=6)]: Done 158 tasks      | elapsed: 356.3min\n",
      "[Parallel(n_jobs=6)]: Done 159 tasks      | elapsed: 359.5min\n",
      "[Parallel(n_jobs=6)]: Done 160 tasks      | elapsed: 361.6min\n",
      "[Parallel(n_jobs=6)]: Done 161 tasks      | elapsed: 363.6min\n",
      "[Parallel(n_jobs=6)]: Done 162 tasks      | elapsed: 365.4min\n",
      "[Parallel(n_jobs=6)]: Done 163 tasks      | elapsed: 365.9min\n",
      "[Parallel(n_jobs=6)]: Done 164 tasks      | elapsed: 368.9min\n",
      "[Parallel(n_jobs=6)]: Done 165 tasks      | elapsed: 369.6min\n",
      "[Parallel(n_jobs=6)]: Done 166 tasks      | elapsed: 370.1min\n",
      "[Parallel(n_jobs=6)]: Done 167 tasks      | elapsed: 372.4min\n",
      "[Parallel(n_jobs=6)]: Done 168 tasks      | elapsed: 373.2min\n",
      "[Parallel(n_jobs=6)]: Done 169 tasks      | elapsed: 373.5min\n",
      "[Parallel(n_jobs=6)]: Done 170 tasks      | elapsed: 376.2min\n",
      "[Parallel(n_jobs=6)]: Done 171 tasks      | elapsed: 383.1min\n",
      "[Parallel(n_jobs=6)]: Done 172 tasks      | elapsed: 391.1min\n",
      "[Parallel(n_jobs=6)]: Done 173 tasks      | elapsed: 393.3min\n",
      "[Parallel(n_jobs=6)]: Done 174 tasks      | elapsed: 393.5min\n",
      "[Parallel(n_jobs=6)]: Done 175 tasks      | elapsed: 396.2min\n",
      "[Parallel(n_jobs=6)]: Done 176 tasks      | elapsed: 396.4min\n",
      "[Parallel(n_jobs=6)]: Done 177 tasks      | elapsed: 402.9min\n",
      "[Parallel(n_jobs=6)]: Done 178 tasks      | elapsed: 403.1min\n",
      "[Parallel(n_jobs=6)]: Done 179 tasks      | elapsed: 406.8min\n",
      "[Parallel(n_jobs=6)]: Done 180 tasks      | elapsed: 412.8min\n",
      "[Parallel(n_jobs=6)]: Done 181 tasks      | elapsed: 427.3min\n",
      "[Parallel(n_jobs=6)]: Done 182 tasks      | elapsed: 430.8min\n",
      "[Parallel(n_jobs=6)]: Done 183 tasks      | elapsed: 438.9min\n",
      "[Parallel(n_jobs=6)]: Done 184 tasks      | elapsed: 439.3min\n",
      "[Parallel(n_jobs=6)]: Done 185 tasks      | elapsed: 445.9min\n",
      "[Parallel(n_jobs=6)]: Done 186 tasks      | elapsed: 447.0min\n",
      "[Parallel(n_jobs=6)]: Done 187 tasks      | elapsed: 448.4min\n",
      "[Parallel(n_jobs=6)]: Done 188 tasks      | elapsed: 450.6min\n",
      "[Parallel(n_jobs=6)]: Done 189 tasks      | elapsed: 451.1min\n",
      "[Parallel(n_jobs=6)]: Done 190 tasks      | elapsed: 453.3min\n",
      "[Parallel(n_jobs=6)]: Done 191 tasks      | elapsed: 454.9min\n",
      "[Parallel(n_jobs=6)]: Done 192 tasks      | elapsed: 456.4min\n",
      "[Parallel(n_jobs=6)]: Done 193 tasks      | elapsed: 457.0min\n",
      "[Parallel(n_jobs=6)]: Done 194 tasks      | elapsed: 457.4min\n",
      "[Parallel(n_jobs=6)]: Done 195 tasks      | elapsed: 457.5min\n",
      "[Parallel(n_jobs=6)]: Done 196 tasks      | elapsed: 461.7min\n",
      "[Parallel(n_jobs=6)]: Done 197 tasks      | elapsed: 463.0min\n",
      "[Parallel(n_jobs=6)]: Done 198 tasks      | elapsed: 470.3min\n",
      "[Parallel(n_jobs=6)]: Done 199 tasks      | elapsed: 474.7min\n",
      "[Parallel(n_jobs=6)]: Done 200 tasks      | elapsed: 475.3min\n",
      "[Parallel(n_jobs=6)]: Done 201 tasks      | elapsed: 483.2min\n",
      "[Parallel(n_jobs=6)]: Done 202 tasks      | elapsed: 484.8min\n",
      "[Parallel(n_jobs=6)]: Done 203 tasks      | elapsed: 485.8min\n",
      "[Parallel(n_jobs=6)]: Done 204 tasks      | elapsed: 486.8min\n",
      "[Parallel(n_jobs=6)]: Done 205 tasks      | elapsed: 487.4min\n",
      "[Parallel(n_jobs=6)]: Done 206 tasks      | elapsed: 493.3min\n",
      "[Parallel(n_jobs=6)]: Done 207 tasks      | elapsed: 502.4min\n",
      "[Parallel(n_jobs=6)]: Done 208 tasks      | elapsed: 515.5min\n",
      "[Parallel(n_jobs=6)]: Done 209 tasks      | elapsed: 520.7min\n",
      "[Parallel(n_jobs=6)]: Done 210 tasks      | elapsed: 521.0min\n",
      "[Parallel(n_jobs=6)]: Done 211 tasks      | elapsed: 521.4min\n",
      "[Parallel(n_jobs=6)]: Done 212 tasks      | elapsed: 526.3min\n",
      "[Parallel(n_jobs=6)]: Done 213 tasks      | elapsed: 534.1min\n",
      "[Parallel(n_jobs=6)]: Done 214 tasks      | elapsed: 536.0min\n",
      "[Parallel(n_jobs=6)]: Done 215 tasks      | elapsed: 537.2min\n",
      "[Parallel(n_jobs=6)]: Done 216 tasks      | elapsed: 540.5min\n",
      "[Parallel(n_jobs=6)]: Done 217 tasks      | elapsed: 544.0min\n",
      "[Parallel(n_jobs=6)]: Done 218 tasks      | elapsed: 545.2min\n",
      "[Parallel(n_jobs=6)]: Done 219 tasks      | elapsed: 546.8min\n",
      "[Parallel(n_jobs=6)]: Done 220 tasks      | elapsed: 551.9min\n",
      "[Parallel(n_jobs=6)]: Done 221 tasks      | elapsed: 552.1min\n",
      "[Parallel(n_jobs=6)]: Done 222 tasks      | elapsed: 552.4min\n",
      "[Parallel(n_jobs=6)]: Done 223 tasks      | elapsed: 553.2min\n",
      "[Parallel(n_jobs=6)]: Done 224 tasks      | elapsed: 553.6min\n",
      "[Parallel(n_jobs=6)]: Done 225 tasks      | elapsed: 554.5min\n",
      "[Parallel(n_jobs=6)]: Done 226 tasks      | elapsed: 582.3min\n",
      "[Parallel(n_jobs=6)]: Done 227 tasks      | elapsed: 583.0min\n",
      "[Parallel(n_jobs=6)]: Done 228 tasks      | elapsed: 584.2min\n",
      "[Parallel(n_jobs=6)]: Done 229 tasks      | elapsed: 584.2min\n",
      "[Parallel(n_jobs=6)]: Done 230 tasks      | elapsed: 585.1min\n",
      "[Parallel(n_jobs=6)]: Done 231 tasks      | elapsed: 588.6min\n",
      "[Parallel(n_jobs=6)]: Done 232 tasks      | elapsed: 600.1min\n",
      "[Parallel(n_jobs=6)]: Done 233 tasks      | elapsed: 611.1min\n",
      "[Parallel(n_jobs=6)]: Done 234 tasks      | elapsed: 612.5min\n",
      "[Parallel(n_jobs=6)]: Done 235 tasks      | elapsed: 636.3min\n",
      "[Parallel(n_jobs=6)]: Done 236 tasks      | elapsed: 640.8min\n",
      "[Parallel(n_jobs=6)]: Done 237 tasks      | elapsed: 646.0min\n",
      "[Parallel(n_jobs=6)]: Done 238 tasks      | elapsed: 648.9min\n",
      "[Parallel(n_jobs=6)]: Done 239 tasks      | elapsed: 657.9min\n",
      "[Parallel(n_jobs=6)]: Done 240 tasks      | elapsed: 659.0min\n",
      "[Parallel(n_jobs=6)]: Done 241 tasks      | elapsed: 669.4min\n",
      "[Parallel(n_jobs=6)]: Done 242 tasks      | elapsed: 669.7min\n",
      "[Parallel(n_jobs=6)]: Done 243 tasks      | elapsed: 670.6min\n",
      "[Parallel(n_jobs=6)]: Done 244 tasks      | elapsed: 673.6min\n",
      "[Parallel(n_jobs=6)]: Done 245 tasks      | elapsed: 680.2min\n",
      "[Parallel(n_jobs=6)]: Done 246 tasks      | elapsed: 680.6min\n",
      "[Parallel(n_jobs=6)]: Done 247 tasks      | elapsed: 681.7min\n",
      "[Parallel(n_jobs=6)]: Done 248 tasks      | elapsed: 682.2min\n",
      "[Parallel(n_jobs=6)]: Done 249 tasks      | elapsed: 683.2min\n",
      "[Parallel(n_jobs=6)]: Done 250 tasks      | elapsed: 684.7min\n",
      "[Parallel(n_jobs=6)]: Done 251 tasks      | elapsed: 687.2min\n",
      "[Parallel(n_jobs=6)]: Done 252 tasks      | elapsed: 691.2min\n",
      "[Parallel(n_jobs=6)]: Done 253 tasks      | elapsed: 711.8min\n",
      "[Parallel(n_jobs=6)]: Done 254 tasks      | elapsed: 713.9min\n",
      "[Parallel(n_jobs=6)]: Done 255 tasks      | elapsed: 717.6min\n",
      "[Parallel(n_jobs=6)]: Done 256 tasks      | elapsed: 718.2min\n",
      "[Parallel(n_jobs=6)]: Done 257 tasks      | elapsed: 722.8min\n",
      "[Parallel(n_jobs=6)]: Done 258 tasks      | elapsed: 723.1min\n",
      "[Parallel(n_jobs=6)]: Done 259 tasks      | elapsed: 733.7min\n",
      "[Parallel(n_jobs=6)]: Done 260 tasks      | elapsed: 742.3min\n"
     ]
    },
    {
     "name": "stderr",
     "output_type": "stream",
     "text": [
      "[Parallel(n_jobs=6)]: Done 261 tasks      | elapsed: 743.2min\n",
      "[Parallel(n_jobs=6)]: Done 262 tasks      | elapsed: 774.2min\n",
      "[Parallel(n_jobs=6)]: Done 263 tasks      | elapsed: 781.1min\n",
      "[Parallel(n_jobs=6)]: Done 264 tasks      | elapsed: 783.1min\n",
      "[Parallel(n_jobs=6)]: Done 265 tasks      | elapsed: 786.2min\n",
      "[Parallel(n_jobs=6)]: Done 266 tasks      | elapsed: 788.5min\n",
      "[Parallel(n_jobs=6)]: Done 267 tasks      | elapsed: 796.0min\n",
      "[Parallel(n_jobs=6)]: Done 268 tasks      | elapsed: 799.0min\n",
      "[Parallel(n_jobs=6)]: Done 269 tasks      | elapsed: 800.9min\n",
      "[Parallel(n_jobs=6)]: Done 270 tasks      | elapsed: 805.5min\n",
      "[Parallel(n_jobs=6)]: Done 271 tasks      | elapsed: 807.1min\n",
      "[Parallel(n_jobs=6)]: Done 272 tasks      | elapsed: 812.8min\n",
      "[Parallel(n_jobs=6)]: Done 273 tasks      | elapsed: 813.7min\n",
      "[Parallel(n_jobs=6)]: Done 274 tasks      | elapsed: 814.5min\n",
      "[Parallel(n_jobs=6)]: Done 275 tasks      | elapsed: 819.7min\n",
      "[Parallel(n_jobs=6)]: Done 276 tasks      | elapsed: 820.7min\n",
      "[Parallel(n_jobs=6)]: Done 277 tasks      | elapsed: 821.0min\n",
      "[Parallel(n_jobs=6)]: Done 278 tasks      | elapsed: 822.2min\n",
      "[Parallel(n_jobs=6)]: Done 279 tasks      | elapsed: 831.7min\n",
      "[Parallel(n_jobs=6)]: Done 280 tasks      | elapsed: 843.9min\n",
      "[Parallel(n_jobs=6)]: Done 281 tasks      | elapsed: 847.2min\n",
      "[Parallel(n_jobs=6)]: Done 282 tasks      | elapsed: 852.5min\n",
      "[Parallel(n_jobs=6)]: Done 283 tasks      | elapsed: 853.0min\n",
      "[Parallel(n_jobs=6)]: Done 284 tasks      | elapsed: 856.5min\n",
      "[Parallel(n_jobs=6)]: Done 285 tasks      | elapsed: 865.8min\n",
      "[Parallel(n_jobs=6)]: Done 286 tasks      | elapsed: 866.1min\n",
      "[Parallel(n_jobs=6)]: Done 287 tasks      | elapsed: 872.2min\n",
      "[Parallel(n_jobs=6)]: Done 288 tasks      | elapsed: 874.0min\n",
      "[Parallel(n_jobs=6)]: Done 289 tasks      | elapsed: 908.0min\n",
      "[Parallel(n_jobs=6)]: Done 290 tasks      | elapsed: 910.1min\n",
      "[Parallel(n_jobs=6)]: Done 291 tasks      | elapsed: 915.8min\n",
      "[Parallel(n_jobs=6)]: Done 292 tasks      | elapsed: 917.1min\n",
      "[Parallel(n_jobs=6)]: Done 293 tasks      | elapsed: 919.4min\n",
      "[Parallel(n_jobs=6)]: Done 294 tasks      | elapsed: 925.5min\n",
      "[Parallel(n_jobs=6)]: Done 295 tasks      | elapsed: 929.5min\n",
      "[Parallel(n_jobs=6)]: Done 296 tasks      | elapsed: 930.3min\n",
      "[Parallel(n_jobs=6)]: Done 297 tasks      | elapsed: 937.9min\n",
      "[Parallel(n_jobs=6)]: Done 298 tasks      | elapsed: 938.1min\n",
      "[Parallel(n_jobs=6)]: Done 299 tasks      | elapsed: 938.6min\n",
      "[Parallel(n_jobs=6)]: Done 300 tasks      | elapsed: 945.7min\n",
      "[Parallel(n_jobs=6)]: Done 301 tasks      | elapsed: 945.8min\n",
      "[Parallel(n_jobs=6)]: Done 302 tasks      | elapsed: 946.8min\n",
      "[Parallel(n_jobs=6)]: Done 303 tasks      | elapsed: 947.6min\n",
      "[Parallel(n_jobs=6)]: Done 304 tasks      | elapsed: 948.0min\n",
      "[Parallel(n_jobs=6)]: Done 305 tasks      | elapsed: 955.9min\n",
      "[Parallel(n_jobs=6)]: Done 306 tasks      | elapsed: 956.3min\n",
      "[Parallel(n_jobs=6)]: Done 307 tasks      | elapsed: 974.6min\n",
      "[Parallel(n_jobs=6)]: Done 308 tasks      | elapsed: 977.5min\n",
      "[Parallel(n_jobs=6)]: Done 309 tasks      | elapsed: 978.8min\n",
      "[Parallel(n_jobs=6)]: Done 310 tasks      | elapsed: 981.5min\n",
      "[Parallel(n_jobs=6)]: Done 311 tasks      | elapsed: 985.3min\n",
      "[Parallel(n_jobs=6)]: Done 312 tasks      | elapsed: 990.2min\n",
      "[Parallel(n_jobs=6)]: Done 313 tasks      | elapsed: 995.4min\n",
      "[Parallel(n_jobs=6)]: Done 314 tasks      | elapsed: 996.1min\n",
      "[Parallel(n_jobs=6)]: Done 315 tasks      | elapsed: 1004.3min\n",
      "[Parallel(n_jobs=6)]: Done 316 tasks      | elapsed: 1035.8min\n",
      "[Parallel(n_jobs=6)]: Done 317 tasks      | elapsed: 1037.6min\n",
      "[Parallel(n_jobs=6)]: Done 318 tasks      | elapsed: 1038.6min\n",
      "[Parallel(n_jobs=6)]: Done 319 tasks      | elapsed: 1044.0min\n",
      "[Parallel(n_jobs=6)]: Done 320 tasks      | elapsed: 1047.8min\n",
      "[Parallel(n_jobs=6)]: Done 321 tasks      | elapsed: 1058.9min\n",
      "[Parallel(n_jobs=6)]: Done 322 tasks      | elapsed: 1062.9min\n",
      "[Parallel(n_jobs=6)]: Done 323 tasks      | elapsed: 1065.5min\n",
      "[Parallel(n_jobs=6)]: Done 324 tasks      | elapsed: 1070.7min\n",
      "[Parallel(n_jobs=6)]: Done 325 tasks      | elapsed: 1070.7min\n",
      "[Parallel(n_jobs=6)]: Done 326 tasks      | elapsed: 1070.7min\n",
      "[Parallel(n_jobs=6)]: Done 327 tasks      | elapsed: 1070.7min\n",
      "[Parallel(n_jobs=6)]: Done 328 tasks      | elapsed: 1070.7min\n",
      "[Parallel(n_jobs=6)]: Done 329 tasks      | elapsed: 1070.7min\n",
      "[Parallel(n_jobs=6)]: Done 330 tasks      | elapsed: 1070.7min\n",
      "[Parallel(n_jobs=6)]: Done 331 tasks      | elapsed: 1070.7min\n",
      "[Parallel(n_jobs=6)]: Done 332 tasks      | elapsed: 1070.7min\n",
      "[Parallel(n_jobs=6)]: Done 333 tasks      | elapsed: 1070.7min\n",
      "[Parallel(n_jobs=6)]: Done 334 tasks      | elapsed: 1070.7min\n",
      "[Parallel(n_jobs=6)]: Done 335 tasks      | elapsed: 1070.7min\n"
     ]
    },
    {
     "ename": "KeyboardInterrupt",
     "evalue": "",
     "output_type": "error",
     "traceback": [
      "\u001b[0;31m---------------------------------------------------------------------------\u001b[0m",
      "\u001b[0;31mKeyboardInterrupt\u001b[0m                         Traceback (most recent call last)",
      "\u001b[0;32m<timed eval>\u001b[0m in \u001b[0;36m<module>\u001b[0;34m\u001b[0m\n",
      "\u001b[0;32m~/.local/lib/python3.7/site-packages/sklearn/model_selection/_search.py\u001b[0m in \u001b[0;36mfit\u001b[0;34m(self, X, y, groups, **fit_params)\u001b[0m\n\u001b[1;32m    686\u001b[0m                 \u001b[0;32mreturn\u001b[0m \u001b[0mresults\u001b[0m\u001b[0;34m\u001b[0m\u001b[0;34m\u001b[0m\u001b[0m\n\u001b[1;32m    687\u001b[0m \u001b[0;34m\u001b[0m\u001b[0m\n\u001b[0;32m--> 688\u001b[0;31m             \u001b[0mself\u001b[0m\u001b[0;34m.\u001b[0m\u001b[0m_run_search\u001b[0m\u001b[0;34m(\u001b[0m\u001b[0mevaluate_candidates\u001b[0m\u001b[0;34m)\u001b[0m\u001b[0;34m\u001b[0m\u001b[0;34m\u001b[0m\u001b[0m\n\u001b[0m\u001b[1;32m    689\u001b[0m \u001b[0;34m\u001b[0m\u001b[0m\n\u001b[1;32m    690\u001b[0m         \u001b[0;31m# For multi-metric evaluation, store the best_index_, best_params_ and\u001b[0m\u001b[0;34m\u001b[0m\u001b[0;34m\u001b[0m\u001b[0;34m\u001b[0m\u001b[0m\n",
      "\u001b[0;32m~/.local/lib/python3.7/site-packages/sklearn/model_selection/_search.py\u001b[0m in \u001b[0;36m_run_search\u001b[0;34m(self, evaluate_candidates)\u001b[0m\n\u001b[1;32m   1147\u001b[0m     \u001b[0;32mdef\u001b[0m \u001b[0m_run_search\u001b[0m\u001b[0;34m(\u001b[0m\u001b[0mself\u001b[0m\u001b[0;34m,\u001b[0m \u001b[0mevaluate_candidates\u001b[0m\u001b[0;34m)\u001b[0m\u001b[0;34m:\u001b[0m\u001b[0;34m\u001b[0m\u001b[0;34m\u001b[0m\u001b[0m\n\u001b[1;32m   1148\u001b[0m         \u001b[0;34m\"\"\"Search all candidates in param_grid\"\"\"\u001b[0m\u001b[0;34m\u001b[0m\u001b[0;34m\u001b[0m\u001b[0m\n\u001b[0;32m-> 1149\u001b[0;31m         \u001b[0mevaluate_candidates\u001b[0m\u001b[0;34m(\u001b[0m\u001b[0mParameterGrid\u001b[0m\u001b[0;34m(\u001b[0m\u001b[0mself\u001b[0m\u001b[0;34m.\u001b[0m\u001b[0mparam_grid\u001b[0m\u001b[0;34m)\u001b[0m\u001b[0;34m)\u001b[0m\u001b[0;34m\u001b[0m\u001b[0;34m\u001b[0m\u001b[0m\n\u001b[0m\u001b[1;32m   1150\u001b[0m \u001b[0;34m\u001b[0m\u001b[0m\n\u001b[1;32m   1151\u001b[0m \u001b[0;34m\u001b[0m\u001b[0m\n",
      "\u001b[0;32m~/.local/lib/python3.7/site-packages/sklearn/model_selection/_search.py\u001b[0m in \u001b[0;36mevaluate_candidates\u001b[0;34m(candidate_params)\u001b[0m\n\u001b[1;32m    665\u001b[0m                                \u001b[0;32mfor\u001b[0m \u001b[0mparameters\u001b[0m\u001b[0;34m,\u001b[0m \u001b[0;34m(\u001b[0m\u001b[0mtrain\u001b[0m\u001b[0;34m,\u001b[0m \u001b[0mtest\u001b[0m\u001b[0;34m)\u001b[0m\u001b[0;34m\u001b[0m\u001b[0;34m\u001b[0m\u001b[0m\n\u001b[1;32m    666\u001b[0m                                in product(candidate_params,\n\u001b[0;32m--> 667\u001b[0;31m                                           cv.split(X, y, groups)))\n\u001b[0m\u001b[1;32m    668\u001b[0m \u001b[0;34m\u001b[0m\u001b[0m\n\u001b[1;32m    669\u001b[0m                 \u001b[0;32mif\u001b[0m \u001b[0mlen\u001b[0m\u001b[0;34m(\u001b[0m\u001b[0mout\u001b[0m\u001b[0;34m)\u001b[0m \u001b[0;34m<\u001b[0m \u001b[0;36m1\u001b[0m\u001b[0;34m:\u001b[0m\u001b[0;34m\u001b[0m\u001b[0;34m\u001b[0m\u001b[0m\n",
      "\u001b[0;32m~/.local/lib/python3.7/site-packages/joblib/parallel.py\u001b[0m in \u001b[0;36m__call__\u001b[0;34m(self, iterable)\u001b[0m\n\u001b[1;32m    932\u001b[0m \u001b[0;34m\u001b[0m\u001b[0m\n\u001b[1;32m    933\u001b[0m             \u001b[0;32mwith\u001b[0m \u001b[0mself\u001b[0m\u001b[0;34m.\u001b[0m\u001b[0m_backend\u001b[0m\u001b[0;34m.\u001b[0m\u001b[0mretrieval_context\u001b[0m\u001b[0;34m(\u001b[0m\u001b[0;34m)\u001b[0m\u001b[0;34m:\u001b[0m\u001b[0;34m\u001b[0m\u001b[0;34m\u001b[0m\u001b[0m\n\u001b[0;32m--> 934\u001b[0;31m                 \u001b[0mself\u001b[0m\u001b[0;34m.\u001b[0m\u001b[0mretrieve\u001b[0m\u001b[0;34m(\u001b[0m\u001b[0;34m)\u001b[0m\u001b[0;34m\u001b[0m\u001b[0;34m\u001b[0m\u001b[0m\n\u001b[0m\u001b[1;32m    935\u001b[0m             \u001b[0;31m# Make sure that we get a last message telling us we are done\u001b[0m\u001b[0;34m\u001b[0m\u001b[0;34m\u001b[0m\u001b[0;34m\u001b[0m\u001b[0m\n\u001b[1;32m    936\u001b[0m             \u001b[0melapsed_time\u001b[0m \u001b[0;34m=\u001b[0m \u001b[0mtime\u001b[0m\u001b[0;34m.\u001b[0m\u001b[0mtime\u001b[0m\u001b[0;34m(\u001b[0m\u001b[0;34m)\u001b[0m \u001b[0;34m-\u001b[0m \u001b[0mself\u001b[0m\u001b[0;34m.\u001b[0m\u001b[0m_start_time\u001b[0m\u001b[0;34m\u001b[0m\u001b[0;34m\u001b[0m\u001b[0m\n",
      "\u001b[0;32m~/.local/lib/python3.7/site-packages/joblib/parallel.py\u001b[0m in \u001b[0;36mretrieve\u001b[0;34m(self)\u001b[0m\n\u001b[1;32m    831\u001b[0m             \u001b[0;32mtry\u001b[0m\u001b[0;34m:\u001b[0m\u001b[0;34m\u001b[0m\u001b[0;34m\u001b[0m\u001b[0m\n\u001b[1;32m    832\u001b[0m                 \u001b[0;32mif\u001b[0m \u001b[0mgetattr\u001b[0m\u001b[0;34m(\u001b[0m\u001b[0mself\u001b[0m\u001b[0;34m.\u001b[0m\u001b[0m_backend\u001b[0m\u001b[0;34m,\u001b[0m \u001b[0;34m'supports_timeout'\u001b[0m\u001b[0;34m,\u001b[0m \u001b[0;32mFalse\u001b[0m\u001b[0;34m)\u001b[0m\u001b[0;34m:\u001b[0m\u001b[0;34m\u001b[0m\u001b[0;34m\u001b[0m\u001b[0m\n\u001b[0;32m--> 833\u001b[0;31m                     \u001b[0mself\u001b[0m\u001b[0;34m.\u001b[0m\u001b[0m_output\u001b[0m\u001b[0;34m.\u001b[0m\u001b[0mextend\u001b[0m\u001b[0;34m(\u001b[0m\u001b[0mjob\u001b[0m\u001b[0;34m.\u001b[0m\u001b[0mget\u001b[0m\u001b[0;34m(\u001b[0m\u001b[0mtimeout\u001b[0m\u001b[0;34m=\u001b[0m\u001b[0mself\u001b[0m\u001b[0;34m.\u001b[0m\u001b[0mtimeout\u001b[0m\u001b[0;34m)\u001b[0m\u001b[0;34m)\u001b[0m\u001b[0;34m\u001b[0m\u001b[0;34m\u001b[0m\u001b[0m\n\u001b[0m\u001b[1;32m    834\u001b[0m                 \u001b[0;32melse\u001b[0m\u001b[0;34m:\u001b[0m\u001b[0;34m\u001b[0m\u001b[0;34m\u001b[0m\u001b[0m\n\u001b[1;32m    835\u001b[0m                     \u001b[0mself\u001b[0m\u001b[0;34m.\u001b[0m\u001b[0m_output\u001b[0m\u001b[0;34m.\u001b[0m\u001b[0mextend\u001b[0m\u001b[0;34m(\u001b[0m\u001b[0mjob\u001b[0m\u001b[0;34m.\u001b[0m\u001b[0mget\u001b[0m\u001b[0;34m(\u001b[0m\u001b[0;34m)\u001b[0m\u001b[0;34m)\u001b[0m\u001b[0;34m\u001b[0m\u001b[0;34m\u001b[0m\u001b[0m\n",
      "\u001b[0;32m~/.local/lib/python3.7/site-packages/joblib/_parallel_backends.py\u001b[0m in \u001b[0;36mwrap_future_result\u001b[0;34m(future, timeout)\u001b[0m\n\u001b[1;32m    519\u001b[0m         AsyncResults.get from multiprocessing.\"\"\"\n\u001b[1;32m    520\u001b[0m         \u001b[0;32mtry\u001b[0m\u001b[0;34m:\u001b[0m\u001b[0;34m\u001b[0m\u001b[0;34m\u001b[0m\u001b[0m\n\u001b[0;32m--> 521\u001b[0;31m             \u001b[0;32mreturn\u001b[0m \u001b[0mfuture\u001b[0m\u001b[0;34m.\u001b[0m\u001b[0mresult\u001b[0m\u001b[0;34m(\u001b[0m\u001b[0mtimeout\u001b[0m\u001b[0;34m=\u001b[0m\u001b[0mtimeout\u001b[0m\u001b[0;34m)\u001b[0m\u001b[0;34m\u001b[0m\u001b[0;34m\u001b[0m\u001b[0m\n\u001b[0m\u001b[1;32m    522\u001b[0m         \u001b[0;32mexcept\u001b[0m \u001b[0mLokyTimeoutError\u001b[0m\u001b[0;34m:\u001b[0m\u001b[0;34m\u001b[0m\u001b[0;34m\u001b[0m\u001b[0m\n\u001b[1;32m    523\u001b[0m             \u001b[0;32mraise\u001b[0m \u001b[0mTimeoutError\u001b[0m\u001b[0;34m(\u001b[0m\u001b[0;34m)\u001b[0m\u001b[0;34m\u001b[0m\u001b[0;34m\u001b[0m\u001b[0m\n",
      "\u001b[0;32m~/anaconda3/lib/python3.7/concurrent/futures/_base.py\u001b[0m in \u001b[0;36mresult\u001b[0;34m(self, timeout)\u001b[0m\n\u001b[1;32m    425\u001b[0m                 \u001b[0;32mreturn\u001b[0m \u001b[0mself\u001b[0m\u001b[0;34m.\u001b[0m\u001b[0m__get_result\u001b[0m\u001b[0;34m(\u001b[0m\u001b[0;34m)\u001b[0m\u001b[0;34m\u001b[0m\u001b[0;34m\u001b[0m\u001b[0m\n\u001b[1;32m    426\u001b[0m \u001b[0;34m\u001b[0m\u001b[0m\n\u001b[0;32m--> 427\u001b[0;31m             \u001b[0mself\u001b[0m\u001b[0;34m.\u001b[0m\u001b[0m_condition\u001b[0m\u001b[0;34m.\u001b[0m\u001b[0mwait\u001b[0m\u001b[0;34m(\u001b[0m\u001b[0mtimeout\u001b[0m\u001b[0;34m)\u001b[0m\u001b[0;34m\u001b[0m\u001b[0;34m\u001b[0m\u001b[0m\n\u001b[0m\u001b[1;32m    428\u001b[0m \u001b[0;34m\u001b[0m\u001b[0m\n\u001b[1;32m    429\u001b[0m             \u001b[0;32mif\u001b[0m \u001b[0mself\u001b[0m\u001b[0;34m.\u001b[0m\u001b[0m_state\u001b[0m \u001b[0;32min\u001b[0m \u001b[0;34m[\u001b[0m\u001b[0mCANCELLED\u001b[0m\u001b[0;34m,\u001b[0m \u001b[0mCANCELLED_AND_NOTIFIED\u001b[0m\u001b[0;34m]\u001b[0m\u001b[0;34m:\u001b[0m\u001b[0;34m\u001b[0m\u001b[0;34m\u001b[0m\u001b[0m\n",
      "\u001b[0;32m~/anaconda3/lib/python3.7/threading.py\u001b[0m in \u001b[0;36mwait\u001b[0;34m(self, timeout)\u001b[0m\n\u001b[1;32m    294\u001b[0m         \u001b[0;32mtry\u001b[0m\u001b[0;34m:\u001b[0m    \u001b[0;31m# restore state no matter what (e.g., KeyboardInterrupt)\u001b[0m\u001b[0;34m\u001b[0m\u001b[0;34m\u001b[0m\u001b[0m\n\u001b[1;32m    295\u001b[0m             \u001b[0;32mif\u001b[0m \u001b[0mtimeout\u001b[0m \u001b[0;32mis\u001b[0m \u001b[0;32mNone\u001b[0m\u001b[0;34m:\u001b[0m\u001b[0;34m\u001b[0m\u001b[0;34m\u001b[0m\u001b[0m\n\u001b[0;32m--> 296\u001b[0;31m                 \u001b[0mwaiter\u001b[0m\u001b[0;34m.\u001b[0m\u001b[0macquire\u001b[0m\u001b[0;34m(\u001b[0m\u001b[0;34m)\u001b[0m\u001b[0;34m\u001b[0m\u001b[0;34m\u001b[0m\u001b[0m\n\u001b[0m\u001b[1;32m    297\u001b[0m                 \u001b[0mgotit\u001b[0m \u001b[0;34m=\u001b[0m \u001b[0;32mTrue\u001b[0m\u001b[0;34m\u001b[0m\u001b[0;34m\u001b[0m\u001b[0m\n\u001b[1;32m    298\u001b[0m             \u001b[0;32melse\u001b[0m\u001b[0;34m:\u001b[0m\u001b[0;34m\u001b[0m\u001b[0;34m\u001b[0m\u001b[0m\n",
      "\u001b[0;31mKeyboardInterrupt\u001b[0m: "
     ]
    }
   ],
   "source": [
    "%%time\n",
    "xgb_gs.fit(X_train,y_train)\n"
   ]
  },
  {
   "cell_type": "code",
   "execution_count": null,
   "metadata": {},
   "outputs": [],
   "source": [
    "gs.best_score"
   ]
  },
  {
   "cell_type": "code",
   "execution_count": 19,
   "metadata": {},
   "outputs": [],
   "source": [
    "hyper_op_before_gs = {\n",
    "    'colsample_bytree' :0.5, \n",
    "    'gamma' : 0.5, \n",
    "    'learning_rate' : 0.1,\n",
    "    'max_depth' : 20, \n",
    "    'min_child_weight' : 1, \n",
    "    'n_estimators' : 100, \n",
    "    'subsample' : 0.5\n",
    "}"
   ]
  },
  {
   "cell_type": "code",
   "execution_count": null,
   "metadata": {},
   "outputs": [],
   "source": []
  },
  {
   "cell_type": "code",
   "execution_count": 20,
   "metadata": {},
   "outputs": [],
   "source": [
    "# hyperOpt = {\n",
    "#     'objective' :'reg:squarederror', \n",
    "#     'colsample_bytree' : 0.5, \n",
    "#     'learning_rate' : 0.1,\n",
    "#     'max_depth' : 15,\n",
    "#     'alpha' : 10,\n",
    "#     'n_estimators' : 300,\n",
    "#     'eval_metric' : 'mae',\n",
    "#     'subsample' : 1,\n",
    "#     'min_child_weight' : 25,\n",
    "#     'gamma' : 5\n",
    "# }"
   ]
  },
  {
   "cell_type": "code",
   "execution_count": 21,
   "metadata": {},
   "outputs": [
    {
     "data": {
      "text/plain": [
       "{'objective': 'reg:squarederror',\n",
       " 'colsample_bytree': 0.3,\n",
       " 'learning_rate': 0.1,\n",
       " 'max_depth': 15,\n",
       " 'alpha': 10,\n",
       " 'n_estimators': 300,\n",
       " 'eval_metric': 'mae'}"
      ]
     },
     "execution_count": 21,
     "metadata": {},
     "output_type": "execute_result"
    }
   ],
   "source": [
    "hyper_param"
   ]
  },
  {
   "cell_type": "code",
   "execution_count": 22,
   "metadata": {},
   "outputs": [],
   "source": [
    "hyper_param.update(hyper_op_before_gs)"
   ]
  },
  {
   "cell_type": "code",
   "execution_count": 23,
   "metadata": {},
   "outputs": [
    {
     "data": {
      "text/plain": [
       "{'objective': 'reg:squarederror',\n",
       " 'colsample_bytree': 0.5,\n",
       " 'learning_rate': 0.1,\n",
       " 'max_depth': 20,\n",
       " 'alpha': 10,\n",
       " 'n_estimators': 100,\n",
       " 'eval_metric': 'mae',\n",
       " 'gamma': 0.5,\n",
       " 'min_child_weight': 1,\n",
       " 'subsample': 0.5}"
      ]
     },
     "execution_count": 23,
     "metadata": {},
     "output_type": "execute_result"
    }
   ],
   "source": [
    "hyper_param"
   ]
  },
  {
   "cell_type": "code",
   "execution_count": 51,
   "metadata": {},
   "outputs": [],
   "source": [
    "xgb = XGBRegressor(**hyperOpt)"
   ]
  },
  {
   "cell_type": "code",
   "execution_count": 24,
   "metadata": {},
   "outputs": [],
   "source": [
    "from datetime import datetime\n",
    "datetime.now()"
   ]
  },
  {
   "cell_type": "code",
   "execution_count": 25,
   "metadata": {},
   "outputs": [
    {
     "name": "stderr",
     "output_type": "stream",
     "text": [
      "/home/braianvillalba/.local/lib/python3.7/site-packages/xgboost/core.py:587: FutureWarning: Series.base is deprecated and will be removed in a future version\n",
      "  if getattr(data, 'base', None) is not None and \\\n"
     ]
    },
    {
     "name": "stdout",
     "output_type": "stream",
     "text": [
      "CPU times: user 13min 21s, sys: 1.98 s, total: 13min 23s\n",
      "Wall time: 13min 23s\n"
     ]
    },
    {
     "data": {
      "text/plain": [
       "XGBRegressor(alpha=10, base_score=0.5, booster='gbtree', colsample_bylevel=1,\n",
       "             colsample_bynode=1, colsample_bytree=0.3, eval_metric='mae',\n",
       "             gamma=0, importance_type='gain', learning_rate=0.1,\n",
       "             max_delta_step=0, max_depth=15, min_child_weight=1, missing=None,\n",
       "             n_estimators=300, n_jobs=1, nthread=None,\n",
       "             objective='reg:squarederror', random_state=0, reg_alpha=0,\n",
       "             reg_lambda=1, scale_pos_weight=1, seed=None, silent=None,\n",
       "             subsample=1, verbosity=1)"
      ]
     },
     "execution_count": 25,
     "metadata": {},
     "output_type": "execute_result"
    }
   ],
   "source": [
    "%%time\n",
    "xgb.fit(X_train, y_train)"
   ]
  },
  {
   "cell_type": "code",
   "execution_count": 28,
   "metadata": {},
   "outputs": [],
   "source": [
    "pred = xgb.predict(X_test)"
   ]
  },
  {
   "cell_type": "code",
   "execution_count": 29,
   "metadata": {},
   "outputs": [
    {
     "data": {
      "text/plain": [
       "538715.6543642741"
      ]
     },
     "execution_count": 29,
     "metadata": {},
     "output_type": "execute_result"
    }
   ],
   "source": [
    "mean_absolute_error(y_test,pred)"
   ]
  },
  {
   "cell_type": "code",
   "execution_count": 32,
   "metadata": {},
   "outputs": [],
   "source": [
    "predicion = xgb.predict(test)"
   ]
  },
  {
   "cell_type": "code",
   "execution_count": 33,
   "metadata": {},
   "outputs": [
    {
     "data": {
      "text/html": [
       "<div>\n",
       "<style scoped>\n",
       "    .dataframe tbody tr th:only-of-type {\n",
       "        vertical-align: middle;\n",
       "    }\n",
       "\n",
       "    .dataframe tbody tr th {\n",
       "        vertical-align: top;\n",
       "    }\n",
       "\n",
       "    .dataframe thead th {\n",
       "        text-align: right;\n",
       "    }\n",
       "</style>\n",
       "<table border=\"1\" class=\"dataframe\">\n",
       "  <thead>\n",
       "    <tr style=\"text-align: right;\">\n",
       "      <th></th>\n",
       "      <th>target</th>\n",
       "    </tr>\n",
       "    <tr>\n",
       "      <th>id</th>\n",
       "      <th></th>\n",
       "    </tr>\n",
       "  </thead>\n",
       "  <tbody>\n",
       "    <tr>\n",
       "      <th>4941</th>\n",
       "      <td>6.171820e+06</td>\n",
       "    </tr>\n",
       "    <tr>\n",
       "      <th>51775</th>\n",
       "      <td>1.067168e+06</td>\n",
       "    </tr>\n",
       "    <tr>\n",
       "      <th>115253</th>\n",
       "      <td>2.284632e+06</td>\n",
       "    </tr>\n",
       "    <tr>\n",
       "      <th>299321</th>\n",
       "      <td>1.428522e+06</td>\n",
       "    </tr>\n",
       "    <tr>\n",
       "      <th>173570</th>\n",
       "      <td>5.903374e+05</td>\n",
       "    </tr>\n",
       "  </tbody>\n",
       "</table>\n",
       "</div>"
      ],
      "text/plain": [
       "              target\n",
       "id                  \n",
       "4941    6.171820e+06\n",
       "51775   1.067168e+06\n",
       "115253  2.284632e+06\n",
       "299321  1.428522e+06\n",
       "173570  5.903374e+05"
      ]
     },
     "metadata": {},
     "output_type": "display_data"
    }
   ],
   "source": [
    "resultado = pd.DataFrame(predicion, index=df_test.id, columns=['target'])\n",
    "display(resultado.head())\n",
    "resultado.to_csv(\"data/workshop-xgboost-v8_0.csv\", header=True) "
   ]
  },
  {
   "cell_type": "code",
   "execution_count": 36,
   "metadata": {},
   "outputs": [
    {
     "data": {
      "image/png": "[encoded data removed]",
      "text/plain": [
       "<Figure size 432x288 with 1 Axes>"
      ]
     },
     "metadata": {
      "needs_background": "light"
     },
     "output_type": "display_data"
    }
   ],
   "source": [
    "import matplotlib.pylab as plt\n",
    "from matplotlib import pyplot\n",
    "from xgboost import plot_importance\n",
    "plot_importance(xgb, max_num_features=10) # top 10 most important features\n",
    "plt.show()"
   ]
  },
  {
   "cell_type": "code",
   "execution_count": null,
   "metadata": {},
   "outputs": [],
   "source": []
  }
 ],
 "metadata": {
  "kernelspec": {
   "display_name": "Python 3",
   "language": "python",
   "name": "python3"
  },
  "language_info": {
   "codemirror_mode": {
    "name": "ipython",
    "version": 3
   },
   "file_extension": ".py",
   "mimetype": "text/x-python",
   "name": "python",
   "nbconvert_exporter": "python",
   "pygments_lexer": "ipython3",
   "version": "3.7.1"
  }
 },
 "nbformat": 4,
 "nbformat_minor": 2
}
