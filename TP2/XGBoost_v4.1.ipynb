{
 "cells": [
  {
   "cell_type": "code",
   "execution_count": 1,
   "metadata": {},
   "outputs": [],
   "source": [
    "import pandas as pd\n",
    "import numpy as np\n",
    "from sklearn.model_selection import train_test_split\n",
    "from xgboost.sklearn import XGBRegressor\n",
    "from sklearn.model_selection import GridSearchCV\n",
    "from sklearn.model_selection import RandomizedSearchCV\n",
    "from sklearn.metrics import mean_absolute_error\n",
    "from sklearn.preprocessing import Imputer\n",
    "\n",
    "import matplotlib.pyplot as plt\n",
    "\n",
    "\n",
    "import re\n",
    "\n",
    "from math import sqrt"
   ]
  },
  {
   "cell_type": "code",
   "execution_count": 2,
   "metadata": {},
   "outputs": [],
   "source": [
    "df = pd.read_csv(\"train.csv\")"
   ]
  },
  {
   "cell_type": "code",
   "execution_count": 3,
   "metadata": {},
   "outputs": [],
   "source": [
    "df.fecha = pd.to_datetime(df.fecha)"
   ]
  },
  {
   "cell_type": "code",
   "execution_count": 4,
   "metadata": {},
   "outputs": [],
   "source": [
    "df['year'] = df.fecha.dt.year\n",
    "df['mes'] = df.fecha.dt.month\n",
    "df['dia_del_mes'] = df.fecha.dt.day\n",
    "df['dia_del_anio'] = df.fecha.dt.dayofyear\n",
    "df['quarter'] = df.fecha.dt.quarter"
   ]
  },
  {
   "cell_type": "code",
   "execution_count": null,
   "metadata": {},
   "outputs": [],
   "source": []
  },
  {
   "cell_type": "code",
   "execution_count": 5,
   "metadata": {},
   "outputs": [
    {
     "data": {
      "text/plain": [
       "4    0.361492\n",
       "3    0.245954\n",
       "2    0.207288\n",
       "1    0.185267\n",
       "Name: quarter, dtype: float64"
      ]
     },
     "execution_count": 5,
     "metadata": {},
     "output_type": "execute_result"
    }
   ],
   "source": [
    "df.quarter.value_counts(normalize = True)"
   ]
  },
  {
   "cell_type": "code",
   "execution_count": 6,
   "metadata": {},
   "outputs": [
    {
     "data": {
      "text/plain": [
       "8     0.038429\n",
       "3     0.037021\n",
       "2     0.036554\n",
       "17    0.036217\n",
       "25    0.034821\n",
       "14    0.034629\n",
       "5     0.034550\n",
       "6     0.034138\n",
       "7     0.033771\n",
       "4     0.033275\n",
       "1     0.033208\n",
       "10    0.033113\n",
       "28    0.032992\n",
       "24    0.032992\n",
       "13    0.032933\n",
       "9     0.032804\n",
       "27    0.032783\n",
       "23    0.032654\n",
       "11    0.032279\n",
       "18    0.031975\n",
       "19    0.031846\n",
       "12    0.031688\n",
       "22    0.031567\n",
       "20    0.030521\n",
       "21    0.030250\n",
       "26    0.029404\n",
       "29    0.029212\n",
       "30    0.029075\n",
       "16    0.029008\n",
       "15    0.028242\n",
       "31    0.018050\n",
       "Name: dia_del_mes, dtype: float64"
      ]
     },
     "execution_count": 6,
     "metadata": {},
     "output_type": "execute_result"
    }
   ],
   "source": [
    "df.dia_del_mes.value_counts(normalize = True)"
   ]
  },
  {
   "cell_type": "code",
   "execution_count": 7,
   "metadata": {},
   "outputs": [
    {
     "data": {
      "text/plain": [
       "12    0.175946\n",
       "10    0.097108\n",
       "11    0.088438\n",
       "8     0.087071\n",
       "9     0.085925\n",
       "7     0.072958\n",
       "6     0.071754\n",
       "4     0.068608\n",
       "5     0.066925\n",
       "1     0.066704\n",
       "3     0.061383\n",
       "2     0.057179\n",
       "Name: mes, dtype: float64"
      ]
     },
     "execution_count": 7,
     "metadata": {},
     "output_type": "execute_result"
    }
   ],
   "source": [
    "df.mes.value_counts(normalize = True)"
   ]
  },
  {
   "cell_type": "code",
   "execution_count": 8,
   "metadata": {},
   "outputs": [
    {
     "data": {
      "text/plain": [
       "2016    0.391825\n",
       "2015    0.214458\n",
       "2014    0.169050\n",
       "2013    0.126608\n",
       "2012    0.098058\n",
       "Name: year, dtype: float64"
      ]
     },
     "execution_count": 8,
     "metadata": {},
     "output_type": "execute_result"
    }
   ],
   "source": [
    "df.year.value_counts(normalize = True)"
   ]
  },
  {
   "cell_type": "code",
   "execution_count": 9,
   "metadata": {},
   "outputs": [
    {
     "data": {
      "text/html": [
       "<div>\n",
       "<style scoped>\n",
       "    .dataframe tbody tr th:only-of-type {\n",
       "        vertical-align: middle;\n",
       "    }\n",
       "\n",
       "    .dataframe tbody tr th {\n",
       "        vertical-align: top;\n",
       "    }\n",
       "\n",
       "    .dataframe thead th {\n",
       "        text-align: right;\n",
       "    }\n",
       "</style>\n",
       "<table border=\"1\" class=\"dataframe\">\n",
       "  <thead>\n",
       "    <tr style=\"text-align: right;\">\n",
       "      <th></th>\n",
       "      <th>id</th>\n",
       "      <th>titulo</th>\n",
       "      <th>descripcion</th>\n",
       "      <th>tipodepropiedad</th>\n",
       "      <th>direccion</th>\n",
       "      <th>ciudad</th>\n",
       "      <th>provincia</th>\n",
       "      <th>antiguedad</th>\n",
       "      <th>habitaciones</th>\n",
       "      <th>garages</th>\n",
       "      <th>...</th>\n",
       "      <th>usosmultiples</th>\n",
       "      <th>piscina</th>\n",
       "      <th>escuelascercanas</th>\n",
       "      <th>centroscomercialescercanos</th>\n",
       "      <th>precio</th>\n",
       "      <th>year</th>\n",
       "      <th>mes</th>\n",
       "      <th>dia_del_mes</th>\n",
       "      <th>dia_del_anio</th>\n",
       "      <th>quarter</th>\n",
       "    </tr>\n",
       "  </thead>\n",
       "  <tbody>\n",
       "    <tr>\n",
       "      <th>0</th>\n",
       "      <td>254099</td>\n",
       "      <td>depto. tipo a-402</td>\n",
       "      <td>depto. interior de 80.15m2, consta de sala com...</td>\n",
       "      <td>Apartamento</td>\n",
       "      <td>Avenida Division del Norte 2005</td>\n",
       "      <td>Benito Juárez</td>\n",
       "      <td>Distrito Federal</td>\n",
       "      <td>NaN</td>\n",
       "      <td>2.0</td>\n",
       "      <td>1.0</td>\n",
       "      <td>...</td>\n",
       "      <td>0.0</td>\n",
       "      <td>0.0</td>\n",
       "      <td>0.0</td>\n",
       "      <td>0.0</td>\n",
       "      <td>2273000.0</td>\n",
       "      <td>2015</td>\n",
       "      <td>8</td>\n",
       "      <td>23</td>\n",
       "      <td>235</td>\n",
       "      <td>3</td>\n",
       "    </tr>\n",
       "    <tr>\n",
       "      <th>1</th>\n",
       "      <td>53461</td>\n",
       "      <td>condominio horizontal en venta</td>\n",
       "      <td>&lt;p&gt;entre sonora y guerrero, atr&amp;aacute;s del h...</td>\n",
       "      <td>Casa en condominio</td>\n",
       "      <td>AV. MEXICO</td>\n",
       "      <td>La Magdalena Contreras</td>\n",
       "      <td>Distrito Federal</td>\n",
       "      <td>10.0</td>\n",
       "      <td>3.0</td>\n",
       "      <td>2.0</td>\n",
       "      <td>...</td>\n",
       "      <td>0.0</td>\n",
       "      <td>0.0</td>\n",
       "      <td>1.0</td>\n",
       "      <td>1.0</td>\n",
       "      <td>3600000.0</td>\n",
       "      <td>2013</td>\n",
       "      <td>6</td>\n",
       "      <td>28</td>\n",
       "      <td>179</td>\n",
       "      <td>2</td>\n",
       "    </tr>\n",
       "    <tr>\n",
       "      <th>2</th>\n",
       "      <td>247984</td>\n",
       "      <td>casa en venta urbi 3 recamaras tonala</td>\n",
       "      <td>descripcion \\nla mejor ubicacion residencial e...</td>\n",
       "      <td>Casa</td>\n",
       "      <td>Urbi Tonala</td>\n",
       "      <td>Tonalá</td>\n",
       "      <td>Jalisco</td>\n",
       "      <td>5.0</td>\n",
       "      <td>3.0</td>\n",
       "      <td>2.0</td>\n",
       "      <td>...</td>\n",
       "      <td>0.0</td>\n",
       "      <td>0.0</td>\n",
       "      <td>0.0</td>\n",
       "      <td>0.0</td>\n",
       "      <td>1200000.0</td>\n",
       "      <td>2015</td>\n",
       "      <td>10</td>\n",
       "      <td>17</td>\n",
       "      <td>290</td>\n",
       "      <td>4</td>\n",
       "    </tr>\n",
       "    <tr>\n",
       "      <th>3</th>\n",
       "      <td>209067</td>\n",
       "      <td>casa sola en toluca zinacantepec con credito i...</td>\n",
       "      <td>casa en privada con caseta de vigilancia casas...</td>\n",
       "      <td>Casa</td>\n",
       "      <td>IGNACIO MANUEL ALTAMIRANO 128</td>\n",
       "      <td>Zinacantepec</td>\n",
       "      <td>Edo. de México</td>\n",
       "      <td>1.0</td>\n",
       "      <td>2.0</td>\n",
       "      <td>1.0</td>\n",
       "      <td>...</td>\n",
       "      <td>0.0</td>\n",
       "      <td>0.0</td>\n",
       "      <td>1.0</td>\n",
       "      <td>1.0</td>\n",
       "      <td>650000.0</td>\n",
       "      <td>2012</td>\n",
       "      <td>3</td>\n",
       "      <td>9</td>\n",
       "      <td>69</td>\n",
       "      <td>1</td>\n",
       "    </tr>\n",
       "    <tr>\n",
       "      <th>4</th>\n",
       "      <td>185997</td>\n",
       "      <td>paseos del sol</td>\n",
       "      <td>bonito departamento en excelentes condiciones ...</td>\n",
       "      <td>Apartamento</td>\n",
       "      <td>PASEOS DEL SOL</td>\n",
       "      <td>Zapopan</td>\n",
       "      <td>Jalisco</td>\n",
       "      <td>10.0</td>\n",
       "      <td>2.0</td>\n",
       "      <td>1.0</td>\n",
       "      <td>...</td>\n",
       "      <td>0.0</td>\n",
       "      <td>0.0</td>\n",
       "      <td>0.0</td>\n",
       "      <td>0.0</td>\n",
       "      <td>1150000.0</td>\n",
       "      <td>2016</td>\n",
       "      <td>6</td>\n",
       "      <td>7</td>\n",
       "      <td>159</td>\n",
       "      <td>2</td>\n",
       "    </tr>\n",
       "  </tbody>\n",
       "</table>\n",
       "<p>5 rows × 28 columns</p>\n",
       "</div>"
      ],
      "text/plain": [
       "       id                                             titulo  \\\n",
       "0  254099                                  depto. tipo a-402   \n",
       "1   53461                     condominio horizontal en venta   \n",
       "2  247984              casa en venta urbi 3 recamaras tonala   \n",
       "3  209067  casa sola en toluca zinacantepec con credito i...   \n",
       "4  185997                                     paseos del sol   \n",
       "\n",
       "                                         descripcion     tipodepropiedad  \\\n",
       "0  depto. interior de 80.15m2, consta de sala com...         Apartamento   \n",
       "1  <p>entre sonora y guerrero, atr&aacute;s del h...  Casa en condominio   \n",
       "2  descripcion \\nla mejor ubicacion residencial e...                Casa   \n",
       "3  casa en privada con caseta de vigilancia casas...                Casa   \n",
       "4  bonito departamento en excelentes condiciones ...         Apartamento   \n",
       "\n",
       "                         direccion                  ciudad         provincia  \\\n",
       "0  Avenida Division del Norte 2005           Benito Juárez  Distrito Federal   \n",
       "1                       AV. MEXICO  La Magdalena Contreras  Distrito Federal   \n",
       "2                      Urbi Tonala                  Tonalá           Jalisco   \n",
       "3    IGNACIO MANUEL ALTAMIRANO 128            Zinacantepec    Edo. de México   \n",
       "4                  PASEOS DEL SOL                  Zapopan           Jalisco   \n",
       "\n",
       "   antiguedad  habitaciones  garages   ...     usosmultiples  piscina  \\\n",
       "0         NaN           2.0      1.0   ...               0.0      0.0   \n",
       "1        10.0           3.0      2.0   ...               0.0      0.0   \n",
       "2         5.0           3.0      2.0   ...               0.0      0.0   \n",
       "3         1.0           2.0      1.0   ...               0.0      0.0   \n",
       "4        10.0           2.0      1.0   ...               0.0      0.0   \n",
       "\n",
       "   escuelascercanas  centroscomercialescercanos     precio  year mes  \\\n",
       "0               0.0                         0.0  2273000.0  2015   8   \n",
       "1               1.0                         1.0  3600000.0  2013   6   \n",
       "2               0.0                         0.0  1200000.0  2015  10   \n",
       "3               1.0                         1.0   650000.0  2012   3   \n",
       "4               0.0                         0.0  1150000.0  2016   6   \n",
       "\n",
       "   dia_del_mes  dia_del_anio  quarter  \n",
       "0           23           235        3  \n",
       "1           28           179        2  \n",
       "2           17           290        4  \n",
       "3            9            69        1  \n",
       "4            7           159        2  \n",
       "\n",
       "[5 rows x 28 columns]"
      ]
     },
     "execution_count": 9,
     "metadata": {},
     "output_type": "execute_result"
    }
   ],
   "source": [
    "df.head()"
   ]
  },
  {
   "cell_type": "code",
   "execution_count": 10,
   "metadata": {},
   "outputs": [
    {
     "data": {
      "text/plain": [
       "Index(['id', 'titulo', 'descripcion', 'tipodepropiedad', 'direccion', 'ciudad',\n",
       "       'provincia', 'antiguedad', 'habitaciones', 'garages', 'banos',\n",
       "       'metroscubiertos', 'metrostotales', 'idzona', 'lat', 'lng', 'fecha',\n",
       "       'gimnasio', 'usosmultiples', 'piscina', 'escuelascercanas',\n",
       "       'centroscomercialescercanos', 'precio', 'year', 'mes', 'dia_del_mes',\n",
       "       'dia_del_anio', 'quarter'],\n",
       "      dtype='object')"
      ]
     },
     "execution_count": 10,
     "metadata": {},
     "output_type": "execute_result"
    }
   ],
   "source": [
    "df.columns"
   ]
  },
  {
   "cell_type": "code",
   "execution_count": 11,
   "metadata": {},
   "outputs": [
    {
     "data": {
      "text/plain": [
       "(240000, 28)"
      ]
     },
     "execution_count": 11,
     "metadata": {},
     "output_type": "execute_result"
    }
   ],
   "source": [
    "df.shape"
   ]
  },
  {
   "cell_type": "code",
   "execution_count": 12,
   "metadata": {},
   "outputs": [
    {
     "data": {
      "text/plain": [
       "id                                 0\n",
       "titulo                          5387\n",
       "descripcion                     1619\n",
       "tipodepropiedad                   46\n",
       "direccion                      53072\n",
       "ciudad                           372\n",
       "provincia                        155\n",
       "antiguedad                     43555\n",
       "habitaciones                   22471\n",
       "garages                        37765\n",
       "banos                          26221\n",
       "metroscubiertos                17400\n",
       "metrostotales                  51467\n",
       "idzona                         28621\n",
       "lat                           123488\n",
       "lng                           123488\n",
       "fecha                              0\n",
       "gimnasio                           0\n",
       "usosmultiples                      0\n",
       "piscina                            0\n",
       "escuelascercanas                   0\n",
       "centroscomercialescercanos         0\n",
       "precio                             0\n",
       "year                               0\n",
       "mes                                0\n",
       "dia_del_mes                        0\n",
       "dia_del_anio                       0\n",
       "quarter                            0\n",
       "dtype: int64"
      ]
     },
     "execution_count": 12,
     "metadata": {},
     "output_type": "execute_result"
    }
   ],
   "source": [
    "df.isnull().sum()"
   ]
  },
  {
   "cell_type": "code",
   "execution_count": 13,
   "metadata": {},
   "outputs": [
    {
     "data": {
      "text/plain": [
       "Casa                             0.590601\n",
       "Apartamento                      0.238967\n",
       "Casa en condominio               0.080420\n",
       "Terreno                          0.041445\n",
       "Local Comercial                  0.012732\n",
       "Oficina comercial                0.007256\n",
       "Bodega comercial                 0.005859\n",
       "Edificio                         0.005818\n",
       "Terreno comercial                0.005526\n",
       "Casa uso de suelo                0.002951\n",
       "Quinta Vacacional                0.001646\n",
       "Duplex                           0.001429\n",
       "Villa                            0.001417\n",
       "Inmuebles productivos urbanos    0.000833\n",
       "Rancho                           0.000708\n",
       "Local en centro comercial        0.000688\n",
       "Departamento Compartido          0.000588\n",
       "Otros                            0.000558\n",
       "Nave industrial                  0.000317\n",
       "Terreno industrial               0.000129\n",
       "Huerta                           0.000083\n",
       "Lote                             0.000021\n",
       "Hospedaje                        0.000004\n",
       "Garage                           0.000004\n",
       "Name: tipodepropiedad, dtype: float64"
      ]
     },
     "execution_count": 13,
     "metadata": {},
     "output_type": "execute_result"
    }
   ],
   "source": [
    "df.tipodepropiedad.value_counts(normalize = True)"
   ]
  },
  {
   "cell_type": "code",
   "execution_count": 14,
   "metadata": {},
   "outputs": [
    {
     "data": {
      "text/plain": [
       "Index(['id', 'titulo', 'descripcion', 'tipodepropiedad', 'direccion', 'ciudad',\n",
       "       'provincia', 'antiguedad', 'habitaciones', 'garages', 'banos',\n",
       "       'metroscubiertos', 'metrostotales', 'idzona', 'lat', 'lng', 'fecha',\n",
       "       'gimnasio', 'usosmultiples', 'piscina', 'escuelascercanas',\n",
       "       'centroscomercialescercanos', 'precio', 'year', 'mes', 'dia_del_mes',\n",
       "       'dia_del_anio', 'quarter'],\n",
       "      dtype='object')"
      ]
     },
     "execution_count": 14,
     "metadata": {},
     "output_type": "execute_result"
    }
   ],
   "source": [
    "df.columns"
   ]
  },
  {
   "cell_type": "code",
   "execution_count": 15,
   "metadata": {},
   "outputs": [],
   "source": [
    "mean_met = df.groupby(df.tipodepropiedad).agg({'metroscubiertos': 'mean','metrostotales': 'mean','gimnasio':'mean','usosmultiples':'mean','piscina':'mean','escuelascercanas':'mean','centroscomercialescercanos':'mean','garages':'mean', 'banos':'mean'})"
   ]
  },
  {
   "cell_type": "code",
   "execution_count": 16,
   "metadata": {},
   "outputs": [
    {
     "data": {
      "text/plain": [
       "pandas.core.frame.DataFrame"
      ]
     },
     "execution_count": 16,
     "metadata": {},
     "output_type": "execute_result"
    }
   ],
   "source": [
    "type(mean_met)"
   ]
  },
  {
   "cell_type": "code",
   "execution_count": 17,
   "metadata": {},
   "outputs": [],
   "source": [
    "mean_met.metroscubiertos.fillna(0, inplace=True)\n",
    "mean_met.banos.fillna(0,inplace=True)"
   ]
  },
  {
   "cell_type": "code",
   "execution_count": 18,
   "metadata": {},
   "outputs": [
    {
     "data": {
      "text/html": [
       "<div>\n",
       "<style scoped>\n",
       "    .dataframe tbody tr th:only-of-type {\n",
       "        vertical-align: middle;\n",
       "    }\n",
       "\n",
       "    .dataframe tbody tr th {\n",
       "        vertical-align: top;\n",
       "    }\n",
       "\n",
       "    .dataframe thead th {\n",
       "        text-align: right;\n",
       "    }\n",
       "</style>\n",
       "<table border=\"1\" class=\"dataframe\">\n",
       "  <thead>\n",
       "    <tr style=\"text-align: right;\">\n",
       "      <th></th>\n",
       "      <th>metroscubiertos</th>\n",
       "      <th>metrostotales</th>\n",
       "      <th>gimnasio</th>\n",
       "      <th>usosmultiples</th>\n",
       "      <th>piscina</th>\n",
       "      <th>escuelascercanas</th>\n",
       "      <th>centroscomercialescercanos</th>\n",
       "      <th>garages</th>\n",
       "      <th>banos</th>\n",
       "    </tr>\n",
       "    <tr>\n",
       "      <th>tipodepropiedad</th>\n",
       "      <th></th>\n",
       "      <th></th>\n",
       "      <th></th>\n",
       "      <th></th>\n",
       "      <th></th>\n",
       "      <th></th>\n",
       "      <th></th>\n",
       "      <th></th>\n",
       "      <th></th>\n",
       "    </tr>\n",
       "  </thead>\n",
       "  <tbody>\n",
       "    <tr>\n",
       "      <th>Apartamento</th>\n",
       "      <td>117.048657</td>\n",
       "      <td>117.907762</td>\n",
       "      <td>0.132383</td>\n",
       "      <td>0.107898</td>\n",
       "      <td>0.141173</td>\n",
       "      <td>0.458921</td>\n",
       "      <td>0.450847</td>\n",
       "      <td>1.410242</td>\n",
       "      <td>1.816817</td>\n",
       "    </tr>\n",
       "    <tr>\n",
       "      <th>Bodega comercial</th>\n",
       "      <td>251.153639</td>\n",
       "      <td>261.715040</td>\n",
       "      <td>0.000000</td>\n",
       "      <td>0.000000</td>\n",
       "      <td>0.000000</td>\n",
       "      <td>0.156472</td>\n",
       "      <td>0.168563</td>\n",
       "      <td>0.484677</td>\n",
       "      <td>1.847185</td>\n",
       "    </tr>\n",
       "    <tr>\n",
       "      <th>Casa</th>\n",
       "      <td>194.026911</td>\n",
       "      <td>183.767889</td>\n",
       "      <td>0.043079</td>\n",
       "      <td>0.035980</td>\n",
       "      <td>0.064276</td>\n",
       "      <td>0.455506</td>\n",
       "      <td>0.385564</td>\n",
       "      <td>1.705926</td>\n",
       "      <td>2.240429</td>\n",
       "    </tr>\n",
       "    <tr>\n",
       "      <th>Casa en condominio</th>\n",
       "      <td>187.697231</td>\n",
       "      <td>169.728656</td>\n",
       "      <td>0.065399</td>\n",
       "      <td>0.098824</td>\n",
       "      <td>0.154065</td>\n",
       "      <td>0.498730</td>\n",
       "      <td>0.459605</td>\n",
       "      <td>1.908157</td>\n",
       "      <td>2.366065</td>\n",
       "    </tr>\n",
       "    <tr>\n",
       "      <th>Casa uso de suelo</th>\n",
       "      <td>254.068966</td>\n",
       "      <td>228.425710</td>\n",
       "      <td>0.000000</td>\n",
       "      <td>0.000000</td>\n",
       "      <td>0.000000</td>\n",
       "      <td>0.326271</td>\n",
       "      <td>0.316384</td>\n",
       "      <td>1.427350</td>\n",
       "      <td>2.404719</td>\n",
       "    </tr>\n",
       "  </tbody>\n",
       "</table>\n",
       "</div>"
      ],
      "text/plain": [
       "                    metroscubiertos  metrostotales  gimnasio  usosmultiples  \\\n",
       "tipodepropiedad                                                               \n",
       "Apartamento              117.048657     117.907762  0.132383       0.107898   \n",
       "Bodega comercial         251.153639     261.715040  0.000000       0.000000   \n",
       "Casa                     194.026911     183.767889  0.043079       0.035980   \n",
       "Casa en condominio       187.697231     169.728656  0.065399       0.098824   \n",
       "Casa uso de suelo        254.068966     228.425710  0.000000       0.000000   \n",
       "\n",
       "                     piscina  escuelascercanas  centroscomercialescercanos  \\\n",
       "tipodepropiedad                                                              \n",
       "Apartamento         0.141173          0.458921                    0.450847   \n",
       "Bodega comercial    0.000000          0.156472                    0.168563   \n",
       "Casa                0.064276          0.455506                    0.385564   \n",
       "Casa en condominio  0.154065          0.498730                    0.459605   \n",
       "Casa uso de suelo   0.000000          0.326271                    0.316384   \n",
       "\n",
       "                     garages     banos  \n",
       "tipodepropiedad                         \n",
       "Apartamento         1.410242  1.816817  \n",
       "Bodega comercial    0.484677  1.847185  \n",
       "Casa                1.705926  2.240429  \n",
       "Casa en condominio  1.908157  2.366065  \n",
       "Casa uso de suelo   1.427350  2.404719  "
      ]
     },
     "execution_count": 18,
     "metadata": {},
     "output_type": "execute_result"
    }
   ],
   "source": [
    "mean_met.head()"
   ]
  },
  {
   "cell_type": "code",
   "execution_count": 19,
   "metadata": {},
   "outputs": [],
   "source": [
    "mean_met = mean_met.rename(columns = {\"metroscubiertos\": \"mean_metroscubiertos\", \"metrostotales\": \"mean_metrostotales\",\"gimnasio\":\"mean_gimnasio\", \"usosmultiples\":\"mean_usosmultiples\",\"piscina\":\"mean_piscina\",\"escuelascercanas\":\"mean_escuelascercanas\",\"centroscomercialescercanos\":\"mean_centroscomercialescercanos\",\"garages\":\"mean_garages\",\"banos\":\"mean_banos\"})"
   ]
  },
  {
   "cell_type": "code",
   "execution_count": 20,
   "metadata": {},
   "outputs": [
    {
     "data": {
      "text/html": [
       "<div>\n",
       "<style scoped>\n",
       "    .dataframe tbody tr th:only-of-type {\n",
       "        vertical-align: middle;\n",
       "    }\n",
       "\n",
       "    .dataframe tbody tr th {\n",
       "        vertical-align: top;\n",
       "    }\n",
       "\n",
       "    .dataframe thead th {\n",
       "        text-align: right;\n",
       "    }\n",
       "</style>\n",
       "<table border=\"1\" class=\"dataframe\">\n",
       "  <thead>\n",
       "    <tr style=\"text-align: right;\">\n",
       "      <th></th>\n",
       "      <th>tipodepropiedad</th>\n",
       "      <th>mean_metroscubiertos</th>\n",
       "      <th>mean_metrostotales</th>\n",
       "      <th>mean_gimnasio</th>\n",
       "      <th>mean_usosmultiples</th>\n",
       "      <th>mean_piscina</th>\n",
       "      <th>mean_escuelascercanas</th>\n",
       "      <th>mean_centroscomercialescercanos</th>\n",
       "      <th>mean_garages</th>\n",
       "      <th>mean_banos</th>\n",
       "    </tr>\n",
       "  </thead>\n",
       "  <tbody>\n",
       "    <tr>\n",
       "      <th>0</th>\n",
       "      <td>Apartamento</td>\n",
       "      <td>117.048657</td>\n",
       "      <td>117.907762</td>\n",
       "      <td>0.132383</td>\n",
       "      <td>0.107898</td>\n",
       "      <td>0.141173</td>\n",
       "      <td>0.458921</td>\n",
       "      <td>0.450847</td>\n",
       "      <td>1.410242</td>\n",
       "      <td>1.816817</td>\n",
       "    </tr>\n",
       "    <tr>\n",
       "      <th>1</th>\n",
       "      <td>Bodega comercial</td>\n",
       "      <td>251.153639</td>\n",
       "      <td>261.715040</td>\n",
       "      <td>0.000000</td>\n",
       "      <td>0.000000</td>\n",
       "      <td>0.000000</td>\n",
       "      <td>0.156472</td>\n",
       "      <td>0.168563</td>\n",
       "      <td>0.484677</td>\n",
       "      <td>1.847185</td>\n",
       "    </tr>\n",
       "    <tr>\n",
       "      <th>2</th>\n",
       "      <td>Casa</td>\n",
       "      <td>194.026911</td>\n",
       "      <td>183.767889</td>\n",
       "      <td>0.043079</td>\n",
       "      <td>0.035980</td>\n",
       "      <td>0.064276</td>\n",
       "      <td>0.455506</td>\n",
       "      <td>0.385564</td>\n",
       "      <td>1.705926</td>\n",
       "      <td>2.240429</td>\n",
       "    </tr>\n",
       "    <tr>\n",
       "      <th>3</th>\n",
       "      <td>Casa en condominio</td>\n",
       "      <td>187.697231</td>\n",
       "      <td>169.728656</td>\n",
       "      <td>0.065399</td>\n",
       "      <td>0.098824</td>\n",
       "      <td>0.154065</td>\n",
       "      <td>0.498730</td>\n",
       "      <td>0.459605</td>\n",
       "      <td>1.908157</td>\n",
       "      <td>2.366065</td>\n",
       "    </tr>\n",
       "    <tr>\n",
       "      <th>4</th>\n",
       "      <td>Casa uso de suelo</td>\n",
       "      <td>254.068966</td>\n",
       "      <td>228.425710</td>\n",
       "      <td>0.000000</td>\n",
       "      <td>0.000000</td>\n",
       "      <td>0.000000</td>\n",
       "      <td>0.326271</td>\n",
       "      <td>0.316384</td>\n",
       "      <td>1.427350</td>\n",
       "      <td>2.404719</td>\n",
       "    </tr>\n",
       "    <tr>\n",
       "      <th>5</th>\n",
       "      <td>Departamento Compartido</td>\n",
       "      <td>127.654676</td>\n",
       "      <td>130.405941</td>\n",
       "      <td>0.241135</td>\n",
       "      <td>0.184397</td>\n",
       "      <td>0.184397</td>\n",
       "      <td>0.609929</td>\n",
       "      <td>0.666667</td>\n",
       "      <td>1.401460</td>\n",
       "      <td>1.791045</td>\n",
       "    </tr>\n",
       "    <tr>\n",
       "      <th>6</th>\n",
       "      <td>Duplex</td>\n",
       "      <td>100.215976</td>\n",
       "      <td>100.283019</td>\n",
       "      <td>0.000000</td>\n",
       "      <td>0.000000</td>\n",
       "      <td>0.000000</td>\n",
       "      <td>0.011662</td>\n",
       "      <td>0.008746</td>\n",
       "      <td>1.181548</td>\n",
       "      <td>1.360947</td>\n",
       "    </tr>\n",
       "    <tr>\n",
       "      <th>7</th>\n",
       "      <td>Edificio</td>\n",
       "      <td>291.231944</td>\n",
       "      <td>231.461169</td>\n",
       "      <td>0.000000</td>\n",
       "      <td>0.000716</td>\n",
       "      <td>0.000716</td>\n",
       "      <td>0.305874</td>\n",
       "      <td>0.313754</td>\n",
       "      <td>0.725086</td>\n",
       "      <td>2.626703</td>\n",
       "    </tr>\n",
       "    <tr>\n",
       "      <th>8</th>\n",
       "      <td>Garage</td>\n",
       "      <td>40.000000</td>\n",
       "      <td>NaN</td>\n",
       "      <td>0.000000</td>\n",
       "      <td>0.000000</td>\n",
       "      <td>0.000000</td>\n",
       "      <td>0.000000</td>\n",
       "      <td>0.000000</td>\n",
       "      <td>0.000000</td>\n",
       "      <td>0.000000</td>\n",
       "    </tr>\n",
       "    <tr>\n",
       "      <th>9</th>\n",
       "      <td>Hospedaje</td>\n",
       "      <td>288.000000</td>\n",
       "      <td>NaN</td>\n",
       "      <td>0.000000</td>\n",
       "      <td>0.000000</td>\n",
       "      <td>0.000000</td>\n",
       "      <td>0.000000</td>\n",
       "      <td>0.000000</td>\n",
       "      <td>0.000000</td>\n",
       "      <td>0.000000</td>\n",
       "    </tr>\n",
       "    <tr>\n",
       "      <th>10</th>\n",
       "      <td>Huerta</td>\n",
       "      <td>139.400000</td>\n",
       "      <td>27.000000</td>\n",
       "      <td>0.000000</td>\n",
       "      <td>0.000000</td>\n",
       "      <td>0.000000</td>\n",
       "      <td>0.100000</td>\n",
       "      <td>0.150000</td>\n",
       "      <td>0.000000</td>\n",
       "      <td>1.625000</td>\n",
       "    </tr>\n",
       "    <tr>\n",
       "      <th>11</th>\n",
       "      <td>Inmuebles productivos urbanos</td>\n",
       "      <td>256.612121</td>\n",
       "      <td>239.781457</td>\n",
       "      <td>0.000000</td>\n",
       "      <td>0.000000</td>\n",
       "      <td>0.000000</td>\n",
       "      <td>0.495000</td>\n",
       "      <td>0.440000</td>\n",
       "      <td>0.480000</td>\n",
       "      <td>2.388889</td>\n",
       "    </tr>\n",
       "    <tr>\n",
       "      <th>12</th>\n",
       "      <td>Local Comercial</td>\n",
       "      <td>153.943693</td>\n",
       "      <td>165.258050</td>\n",
       "      <td>0.000000</td>\n",
       "      <td>0.000000</td>\n",
       "      <td>0.000000</td>\n",
       "      <td>0.229133</td>\n",
       "      <td>0.239607</td>\n",
       "      <td>0.545256</td>\n",
       "      <td>1.808801</td>\n",
       "    </tr>\n",
       "    <tr>\n",
       "      <th>13</th>\n",
       "      <td>Local en centro comercial</td>\n",
       "      <td>92.681250</td>\n",
       "      <td>92.796610</td>\n",
       "      <td>0.000000</td>\n",
       "      <td>0.000000</td>\n",
       "      <td>0.000000</td>\n",
       "      <td>0.406061</td>\n",
       "      <td>0.484848</td>\n",
       "      <td>0.383333</td>\n",
       "      <td>1.697674</td>\n",
       "    </tr>\n",
       "    <tr>\n",
       "      <th>14</th>\n",
       "      <td>Lote</td>\n",
       "      <td>0.000000</td>\n",
       "      <td>263.800000</td>\n",
       "      <td>0.000000</td>\n",
       "      <td>0.000000</td>\n",
       "      <td>0.000000</td>\n",
       "      <td>0.000000</td>\n",
       "      <td>0.000000</td>\n",
       "      <td>0.000000</td>\n",
       "      <td>0.000000</td>\n",
       "    </tr>\n",
       "    <tr>\n",
       "      <th>15</th>\n",
       "      <td>Nave industrial</td>\n",
       "      <td>261.937500</td>\n",
       "      <td>284.111111</td>\n",
       "      <td>0.000000</td>\n",
       "      <td>0.000000</td>\n",
       "      <td>0.000000</td>\n",
       "      <td>0.000000</td>\n",
       "      <td>0.000000</td>\n",
       "      <td>0.857143</td>\n",
       "      <td>2.204545</td>\n",
       "    </tr>\n",
       "    <tr>\n",
       "      <th>16</th>\n",
       "      <td>Oficina comercial</td>\n",
       "      <td>155.455385</td>\n",
       "      <td>163.987513</td>\n",
       "      <td>0.000574</td>\n",
       "      <td>0.001149</td>\n",
       "      <td>0.000574</td>\n",
       "      <td>0.240666</td>\n",
       "      <td>0.291786</td>\n",
       "      <td>0.991681</td>\n",
       "      <td>1.975535</td>\n",
       "    </tr>\n",
       "    <tr>\n",
       "      <th>17</th>\n",
       "      <td>Otros</td>\n",
       "      <td>170.500000</td>\n",
       "      <td>166.742857</td>\n",
       "      <td>0.000000</td>\n",
       "      <td>0.000000</td>\n",
       "      <td>0.000000</td>\n",
       "      <td>0.000000</td>\n",
       "      <td>0.000000</td>\n",
       "      <td>1.673077</td>\n",
       "      <td>2.000000</td>\n",
       "    </tr>\n",
       "    <tr>\n",
       "      <th>18</th>\n",
       "      <td>Quinta Vacacional</td>\n",
       "      <td>229.065445</td>\n",
       "      <td>214.346939</td>\n",
       "      <td>0.000000</td>\n",
       "      <td>0.000000</td>\n",
       "      <td>0.293671</td>\n",
       "      <td>0.144304</td>\n",
       "      <td>0.101266</td>\n",
       "      <td>0.980769</td>\n",
       "      <td>2.299120</td>\n",
       "    </tr>\n",
       "    <tr>\n",
       "      <th>19</th>\n",
       "      <td>Rancho</td>\n",
       "      <td>205.108434</td>\n",
       "      <td>135.444444</td>\n",
       "      <td>0.000000</td>\n",
       "      <td>0.000000</td>\n",
       "      <td>0.082353</td>\n",
       "      <td>0.088235</td>\n",
       "      <td>0.058824</td>\n",
       "      <td>0.573333</td>\n",
       "      <td>1.861314</td>\n",
       "    </tr>\n",
       "    <tr>\n",
       "      <th>20</th>\n",
       "      <td>Terreno</td>\n",
       "      <td>210.054908</td>\n",
       "      <td>261.586859</td>\n",
       "      <td>0.000101</td>\n",
       "      <td>0.000000</td>\n",
       "      <td>0.049170</td>\n",
       "      <td>0.352941</td>\n",
       "      <td>0.309201</td>\n",
       "      <td>0.045611</td>\n",
       "      <td>1.692161</td>\n",
       "    </tr>\n",
       "    <tr>\n",
       "      <th>21</th>\n",
       "      <td>Terreno comercial</td>\n",
       "      <td>189.913684</td>\n",
       "      <td>268.237736</td>\n",
       "      <td>0.000000</td>\n",
       "      <td>0.000000</td>\n",
       "      <td>0.001508</td>\n",
       "      <td>0.142534</td>\n",
       "      <td>0.143288</td>\n",
       "      <td>0.109397</td>\n",
       "      <td>1.810345</td>\n",
       "    </tr>\n",
       "    <tr>\n",
       "      <th>22</th>\n",
       "      <td>Terreno industrial</td>\n",
       "      <td>164.590909</td>\n",
       "      <td>283.466667</td>\n",
       "      <td>0.000000</td>\n",
       "      <td>0.000000</td>\n",
       "      <td>0.000000</td>\n",
       "      <td>0.000000</td>\n",
       "      <td>0.000000</td>\n",
       "      <td>1.000000</td>\n",
       "      <td>1.666667</td>\n",
       "    </tr>\n",
       "    <tr>\n",
       "      <th>23</th>\n",
       "      <td>Villa</td>\n",
       "      <td>202.564565</td>\n",
       "      <td>192.595588</td>\n",
       "      <td>0.000000</td>\n",
       "      <td>0.000000</td>\n",
       "      <td>0.426471</td>\n",
       "      <td>0.223529</td>\n",
       "      <td>0.247059</td>\n",
       "      <td>1.651934</td>\n",
       "      <td>2.216667</td>\n",
       "    </tr>\n",
       "  </tbody>\n",
       "</table>\n",
       "</div>"
      ],
      "text/plain": [
       "                  tipodepropiedad  mean_metroscubiertos  mean_metrostotales  \\\n",
       "0                     Apartamento            117.048657          117.907762   \n",
       "1                Bodega comercial            251.153639          261.715040   \n",
       "2                            Casa            194.026911          183.767889   \n",
       "3              Casa en condominio            187.697231          169.728656   \n",
       "4               Casa uso de suelo            254.068966          228.425710   \n",
       "5         Departamento Compartido            127.654676          130.405941   \n",
       "6                          Duplex            100.215976          100.283019   \n",
       "7                        Edificio            291.231944          231.461169   \n",
       "8                          Garage             40.000000                 NaN   \n",
       "9                       Hospedaje            288.000000                 NaN   \n",
       "10                         Huerta            139.400000           27.000000   \n",
       "11  Inmuebles productivos urbanos            256.612121          239.781457   \n",
       "12                Local Comercial            153.943693          165.258050   \n",
       "13      Local en centro comercial             92.681250           92.796610   \n",
       "14                           Lote              0.000000          263.800000   \n",
       "15                Nave industrial            261.937500          284.111111   \n",
       "16              Oficina comercial            155.455385          163.987513   \n",
       "17                          Otros            170.500000          166.742857   \n",
       "18              Quinta Vacacional            229.065445          214.346939   \n",
       "19                         Rancho            205.108434          135.444444   \n",
       "20                        Terreno            210.054908          261.586859   \n",
       "21              Terreno comercial            189.913684          268.237736   \n",
       "22             Terreno industrial            164.590909          283.466667   \n",
       "23                          Villa            202.564565          192.595588   \n",
       "\n",
       "    mean_gimnasio  mean_usosmultiples  mean_piscina  mean_escuelascercanas  \\\n",
       "0        0.132383            0.107898      0.141173               0.458921   \n",
       "1        0.000000            0.000000      0.000000               0.156472   \n",
       "2        0.043079            0.035980      0.064276               0.455506   \n",
       "3        0.065399            0.098824      0.154065               0.498730   \n",
       "4        0.000000            0.000000      0.000000               0.326271   \n",
       "5        0.241135            0.184397      0.184397               0.609929   \n",
       "6        0.000000            0.000000      0.000000               0.011662   \n",
       "7        0.000000            0.000716      0.000716               0.305874   \n",
       "8        0.000000            0.000000      0.000000               0.000000   \n",
       "9        0.000000            0.000000      0.000000               0.000000   \n",
       "10       0.000000            0.000000      0.000000               0.100000   \n",
       "11       0.000000            0.000000      0.000000               0.495000   \n",
       "12       0.000000            0.000000      0.000000               0.229133   \n",
       "13       0.000000            0.000000      0.000000               0.406061   \n",
       "14       0.000000            0.000000      0.000000               0.000000   \n",
       "15       0.000000            0.000000      0.000000               0.000000   \n",
       "16       0.000574            0.001149      0.000574               0.240666   \n",
       "17       0.000000            0.000000      0.000000               0.000000   \n",
       "18       0.000000            0.000000      0.293671               0.144304   \n",
       "19       0.000000            0.000000      0.082353               0.088235   \n",
       "20       0.000101            0.000000      0.049170               0.352941   \n",
       "21       0.000000            0.000000      0.001508               0.142534   \n",
       "22       0.000000            0.000000      0.000000               0.000000   \n",
       "23       0.000000            0.000000      0.426471               0.223529   \n",
       "\n",
       "    mean_centroscomercialescercanos  mean_garages  mean_banos  \n",
       "0                          0.450847      1.410242    1.816817  \n",
       "1                          0.168563      0.484677    1.847185  \n",
       "2                          0.385564      1.705926    2.240429  \n",
       "3                          0.459605      1.908157    2.366065  \n",
       "4                          0.316384      1.427350    2.404719  \n",
       "5                          0.666667      1.401460    1.791045  \n",
       "6                          0.008746      1.181548    1.360947  \n",
       "7                          0.313754      0.725086    2.626703  \n",
       "8                          0.000000      0.000000    0.000000  \n",
       "9                          0.000000      0.000000    0.000000  \n",
       "10                         0.150000      0.000000    1.625000  \n",
       "11                         0.440000      0.480000    2.388889  \n",
       "12                         0.239607      0.545256    1.808801  \n",
       "13                         0.484848      0.383333    1.697674  \n",
       "14                         0.000000      0.000000    0.000000  \n",
       "15                         0.000000      0.857143    2.204545  \n",
       "16                         0.291786      0.991681    1.975535  \n",
       "17                         0.000000      1.673077    2.000000  \n",
       "18                         0.101266      0.980769    2.299120  \n",
       "19                         0.058824      0.573333    1.861314  \n",
       "20                         0.309201      0.045611    1.692161  \n",
       "21                         0.143288      0.109397    1.810345  \n",
       "22                         0.000000      1.000000    1.666667  \n",
       "23                         0.247059      1.651934    2.216667  "
      ]
     },
     "execution_count": 20,
     "metadata": {},
     "output_type": "execute_result"
    }
   ],
   "source": [
    "mean_met.reset_index()"
   ]
  },
  {
   "cell_type": "code",
   "execution_count": 21,
   "metadata": {},
   "outputs": [
    {
     "data": {
      "text/plain": [
       "(24, 9)"
      ]
     },
     "execution_count": 21,
     "metadata": {},
     "output_type": "execute_result"
    }
   ],
   "source": [
    "mean_met.shape"
   ]
  },
  {
   "cell_type": "code",
   "execution_count": 22,
   "metadata": {},
   "outputs": [
    {
     "data": {
      "text/plain": [
       "(240000, 28)"
      ]
     },
     "execution_count": 22,
     "metadata": {},
     "output_type": "execute_result"
    }
   ],
   "source": [
    "df.shape"
   ]
  },
  {
   "cell_type": "code",
   "execution_count": 23,
   "metadata": {},
   "outputs": [],
   "source": [
    "df = pd.merge(df, mean_met, on='tipodepropiedad', how='outer')"
   ]
  },
  {
   "cell_type": "code",
   "execution_count": 24,
   "metadata": {},
   "outputs": [
    {
     "data": {
      "text/plain": [
       "(240000, 37)"
      ]
     },
     "execution_count": 24,
     "metadata": {},
     "output_type": "execute_result"
    }
   ],
   "source": [
    "df.shape"
   ]
  },
  {
   "cell_type": "code",
   "execution_count": 25,
   "metadata": {},
   "outputs": [
    {
     "data": {
      "text/plain": [
       "Index(['id', 'titulo', 'descripcion', 'tipodepropiedad', 'direccion', 'ciudad',\n",
       "       'provincia', 'antiguedad', 'habitaciones', 'garages', 'banos',\n",
       "       'metroscubiertos', 'metrostotales', 'idzona', 'lat', 'lng', 'fecha',\n",
       "       'gimnasio', 'usosmultiples', 'piscina', 'escuelascercanas',\n",
       "       'centroscomercialescercanos', 'precio', 'year', 'mes', 'dia_del_mes',\n",
       "       'dia_del_anio', 'quarter', 'mean_metroscubiertos', 'mean_metrostotales',\n",
       "       'mean_gimnasio', 'mean_usosmultiples', 'mean_piscina',\n",
       "       'mean_escuelascercanas', 'mean_centroscomercialescercanos',\n",
       "       'mean_garages', 'mean_banos'],\n",
       "      dtype='object')"
      ]
     },
     "execution_count": 25,
     "metadata": {},
     "output_type": "execute_result"
    }
   ],
   "source": [
    "df.columns"
   ]
  },
  {
   "cell_type": "code",
   "execution_count": 26,
   "metadata": {},
   "outputs": [
    {
     "data": {
      "text/html": [
       "<div>\n",
       "<style scoped>\n",
       "    .dataframe tbody tr th:only-of-type {\n",
       "        vertical-align: middle;\n",
       "    }\n",
       "\n",
       "    .dataframe tbody tr th {\n",
       "        vertical-align: top;\n",
       "    }\n",
       "\n",
       "    .dataframe thead th {\n",
       "        text-align: right;\n",
       "    }\n",
       "</style>\n",
       "<table border=\"1\" class=\"dataframe\">\n",
       "  <thead>\n",
       "    <tr style=\"text-align: right;\">\n",
       "      <th></th>\n",
       "      <th>id</th>\n",
       "      <th>titulo</th>\n",
       "      <th>descripcion</th>\n",
       "      <th>tipodepropiedad</th>\n",
       "      <th>direccion</th>\n",
       "      <th>ciudad</th>\n",
       "      <th>provincia</th>\n",
       "      <th>antiguedad</th>\n",
       "      <th>habitaciones</th>\n",
       "      <th>garages</th>\n",
       "      <th>...</th>\n",
       "      <th>quarter</th>\n",
       "      <th>mean_metroscubiertos</th>\n",
       "      <th>mean_metrostotales</th>\n",
       "      <th>mean_gimnasio</th>\n",
       "      <th>mean_usosmultiples</th>\n",
       "      <th>mean_piscina</th>\n",
       "      <th>mean_escuelascercanas</th>\n",
       "      <th>mean_centroscomercialescercanos</th>\n",
       "      <th>mean_garages</th>\n",
       "      <th>mean_banos</th>\n",
       "    </tr>\n",
       "  </thead>\n",
       "  <tbody>\n",
       "    <tr>\n",
       "      <th>0</th>\n",
       "      <td>254099</td>\n",
       "      <td>depto. tipo a-402</td>\n",
       "      <td>depto. interior de 80.15m2, consta de sala com...</td>\n",
       "      <td>Apartamento</td>\n",
       "      <td>Avenida Division del Norte 2005</td>\n",
       "      <td>Benito Juárez</td>\n",
       "      <td>Distrito Federal</td>\n",
       "      <td>NaN</td>\n",
       "      <td>2.0</td>\n",
       "      <td>1.0</td>\n",
       "      <td>...</td>\n",
       "      <td>3</td>\n",
       "      <td>117.048657</td>\n",
       "      <td>117.907762</td>\n",
       "      <td>0.132383</td>\n",
       "      <td>0.107898</td>\n",
       "      <td>0.141173</td>\n",
       "      <td>0.458921</td>\n",
       "      <td>0.450847</td>\n",
       "      <td>1.410242</td>\n",
       "      <td>1.816817</td>\n",
       "    </tr>\n",
       "    <tr>\n",
       "      <th>1</th>\n",
       "      <td>185997</td>\n",
       "      <td>paseos del sol</td>\n",
       "      <td>bonito departamento en excelentes condiciones ...</td>\n",
       "      <td>Apartamento</td>\n",
       "      <td>PASEOS DEL SOL</td>\n",
       "      <td>Zapopan</td>\n",
       "      <td>Jalisco</td>\n",
       "      <td>10.0</td>\n",
       "      <td>2.0</td>\n",
       "      <td>1.0</td>\n",
       "      <td>...</td>\n",
       "      <td>2</td>\n",
       "      <td>117.048657</td>\n",
       "      <td>117.907762</td>\n",
       "      <td>0.132383</td>\n",
       "      <td>0.107898</td>\n",
       "      <td>0.141173</td>\n",
       "      <td>0.458921</td>\n",
       "      <td>0.450847</td>\n",
       "      <td>1.410242</td>\n",
       "      <td>1.816817</td>\n",
       "    </tr>\n",
       "    <tr>\n",
       "      <th>2</th>\n",
       "      <td>126147</td>\n",
       "      <td>departamento en venta taxqueña</td>\n",
       "      <td>amplio departamento, estancia de sala y comedo...</td>\n",
       "      <td>Apartamento</td>\n",
       "      <td>Condominio Tlalpan 2B</td>\n",
       "      <td>Coyoacán</td>\n",
       "      <td>Distrito Federal</td>\n",
       "      <td>5.0</td>\n",
       "      <td>2.0</td>\n",
       "      <td>1.0</td>\n",
       "      <td>...</td>\n",
       "      <td>1</td>\n",
       "      <td>117.048657</td>\n",
       "      <td>117.907762</td>\n",
       "      <td>0.132383</td>\n",
       "      <td>0.107898</td>\n",
       "      <td>0.141173</td>\n",
       "      <td>0.458921</td>\n",
       "      <td>0.450847</td>\n",
       "      <td>1.410242</td>\n",
       "      <td>1.816817</td>\n",
       "    </tr>\n",
       "    <tr>\n",
       "      <th>3</th>\n",
       "      <td>44962</td>\n",
       "      <td>pre- venta preciosos depas 2 recamaras con sub...</td>\n",
       "      <td>&lt;p&gt;pre-venta de preciosos departamento ecologi...</td>\n",
       "      <td>Apartamento</td>\n",
       "      <td>BUENAVISTA DEPTOS CON SUBSIDIO</td>\n",
       "      <td>Villa de Alvarez</td>\n",
       "      <td>Colima</td>\n",
       "      <td>1.0</td>\n",
       "      <td>2.0</td>\n",
       "      <td>1.0</td>\n",
       "      <td>...</td>\n",
       "      <td>1</td>\n",
       "      <td>117.048657</td>\n",
       "      <td>117.907762</td>\n",
       "      <td>0.132383</td>\n",
       "      <td>0.107898</td>\n",
       "      <td>0.141173</td>\n",
       "      <td>0.458921</td>\n",
       "      <td>0.450847</td>\n",
       "      <td>1.410242</td>\n",
       "      <td>1.816817</td>\n",
       "    </tr>\n",
       "    <tr>\n",
       "      <th>4</th>\n",
       "      <td>103293</td>\n",
       "      <td>departamento en venta, san pedro garza garcia,...</td>\n",
       "      <td>departamento nuevo ,256 m2 de construccion,un ...</td>\n",
       "      <td>Apartamento</td>\n",
       "      <td>NaN</td>\n",
       "      <td>San Pedro Garza García</td>\n",
       "      <td>Nuevo León</td>\n",
       "      <td>NaN</td>\n",
       "      <td>3.0</td>\n",
       "      <td>2.0</td>\n",
       "      <td>...</td>\n",
       "      <td>4</td>\n",
       "      <td>117.048657</td>\n",
       "      <td>117.907762</td>\n",
       "      <td>0.132383</td>\n",
       "      <td>0.107898</td>\n",
       "      <td>0.141173</td>\n",
       "      <td>0.458921</td>\n",
       "      <td>0.450847</td>\n",
       "      <td>1.410242</td>\n",
       "      <td>1.816817</td>\n",
       "    </tr>\n",
       "  </tbody>\n",
       "</table>\n",
       "<p>5 rows × 37 columns</p>\n",
       "</div>"
      ],
      "text/plain": [
       "       id                                             titulo  \\\n",
       "0  254099                                  depto. tipo a-402   \n",
       "1  185997                                     paseos del sol   \n",
       "2  126147                     departamento en venta taxqueña   \n",
       "3   44962  pre- venta preciosos depas 2 recamaras con sub...   \n",
       "4  103293  departamento en venta, san pedro garza garcia,...   \n",
       "\n",
       "                                         descripcion tipodepropiedad  \\\n",
       "0  depto. interior de 80.15m2, consta de sala com...     Apartamento   \n",
       "1  bonito departamento en excelentes condiciones ...     Apartamento   \n",
       "2  amplio departamento, estancia de sala y comedo...     Apartamento   \n",
       "3  <p>pre-venta de preciosos departamento ecologi...     Apartamento   \n",
       "4  departamento nuevo ,256 m2 de construccion,un ...     Apartamento   \n",
       "\n",
       "                         direccion                  ciudad         provincia  \\\n",
       "0  Avenida Division del Norte 2005           Benito Juárez  Distrito Federal   \n",
       "1                  PASEOS DEL SOL                  Zapopan           Jalisco   \n",
       "2            Condominio Tlalpan 2B                Coyoacán  Distrito Federal   \n",
       "3   BUENAVISTA DEPTOS CON SUBSIDIO        Villa de Alvarez            Colima   \n",
       "4                              NaN  San Pedro Garza García        Nuevo León   \n",
       "\n",
       "   antiguedad  habitaciones  garages     ...      quarter  \\\n",
       "0         NaN           2.0      1.0     ...            3   \n",
       "1        10.0           2.0      1.0     ...            2   \n",
       "2         5.0           2.0      1.0     ...            1   \n",
       "3         1.0           2.0      1.0     ...            1   \n",
       "4         NaN           3.0      2.0     ...            4   \n",
       "\n",
       "   mean_metroscubiertos  mean_metrostotales  mean_gimnasio  \\\n",
       "0            117.048657          117.907762       0.132383   \n",
       "1            117.048657          117.907762       0.132383   \n",
       "2            117.048657          117.907762       0.132383   \n",
       "3            117.048657          117.907762       0.132383   \n",
       "4            117.048657          117.907762       0.132383   \n",
       "\n",
       "   mean_usosmultiples  mean_piscina mean_escuelascercanas  \\\n",
       "0            0.107898      0.141173              0.458921   \n",
       "1            0.107898      0.141173              0.458921   \n",
       "2            0.107898      0.141173              0.458921   \n",
       "3            0.107898      0.141173              0.458921   \n",
       "4            0.107898      0.141173              0.458921   \n",
       "\n",
       "   mean_centroscomercialescercanos  mean_garages  mean_banos  \n",
       "0                         0.450847      1.410242    1.816817  \n",
       "1                         0.450847      1.410242    1.816817  \n",
       "2                         0.450847      1.410242    1.816817  \n",
       "3                         0.450847      1.410242    1.816817  \n",
       "4                         0.450847      1.410242    1.816817  \n",
       "\n",
       "[5 rows x 37 columns]"
      ]
     },
     "execution_count": 26,
     "metadata": {},
     "output_type": "execute_result"
    }
   ],
   "source": [
    "df.head()"
   ]
  },
  {
   "cell_type": "code",
   "execution_count": 27,
   "metadata": {},
   "outputs": [],
   "source": [
    "df['metro_promedio_por_habitacion'] = df.metroscubiertos / (df.habitaciones + df.banos +1 - df.garages) #El 1 representa el ambiente en comun"
   ]
  },
  {
   "cell_type": "code",
   "execution_count": 28,
   "metadata": {},
   "outputs": [],
   "source": [
    "df['aire_libre'] = df.metrostotales - df.metroscubiertos"
   ]
  },
  {
   "cell_type": "code",
   "execution_count": 29,
   "metadata": {},
   "outputs": [
    {
     "data": {
      "text/plain": [
       "(240000, 39)"
      ]
     },
     "execution_count": 29,
     "metadata": {},
     "output_type": "execute_result"
    }
   ],
   "source": [
    "df.shape"
   ]
  },
  {
   "cell_type": "code",
   "execution_count": 30,
   "metadata": {},
   "outputs": [],
   "source": [
    "filterCol = ['id','titulo','descripcion','direccion','ciudad','idzona','lat','lng','fecha']"
   ]
  },
  {
   "cell_type": "code",
   "execution_count": 31,
   "metadata": {},
   "outputs": [],
   "source": [
    "X = df.drop(['precio'] + filterCol,axis = 1)\n",
    "y = df['precio']"
   ]
  },
  {
   "cell_type": "code",
   "execution_count": 32,
   "metadata": {},
   "outputs": [
    {
     "data": {
      "text/html": [
       "<div>\n",
       "<style scoped>\n",
       "    .dataframe tbody tr th:only-of-type {\n",
       "        vertical-align: middle;\n",
       "    }\n",
       "\n",
       "    .dataframe tbody tr th {\n",
       "        vertical-align: top;\n",
       "    }\n",
       "\n",
       "    .dataframe thead th {\n",
       "        text-align: right;\n",
       "    }\n",
       "</style>\n",
       "<table border=\"1\" class=\"dataframe\">\n",
       "  <thead>\n",
       "    <tr style=\"text-align: right;\">\n",
       "      <th></th>\n",
       "      <th>tipodepropiedad</th>\n",
       "      <th>provincia</th>\n",
       "      <th>antiguedad</th>\n",
       "      <th>habitaciones</th>\n",
       "      <th>garages</th>\n",
       "      <th>banos</th>\n",
       "      <th>metroscubiertos</th>\n",
       "      <th>metrostotales</th>\n",
       "      <th>gimnasio</th>\n",
       "      <th>usosmultiples</th>\n",
       "      <th>...</th>\n",
       "      <th>mean_metrostotales</th>\n",
       "      <th>mean_gimnasio</th>\n",
       "      <th>mean_usosmultiples</th>\n",
       "      <th>mean_piscina</th>\n",
       "      <th>mean_escuelascercanas</th>\n",
       "      <th>mean_centroscomercialescercanos</th>\n",
       "      <th>mean_garages</th>\n",
       "      <th>mean_banos</th>\n",
       "      <th>metro_promedio_por_habitacion</th>\n",
       "      <th>aire_libre</th>\n",
       "    </tr>\n",
       "  </thead>\n",
       "  <tbody>\n",
       "    <tr>\n",
       "      <th>0</th>\n",
       "      <td>Apartamento</td>\n",
       "      <td>Distrito Federal</td>\n",
       "      <td>NaN</td>\n",
       "      <td>2.0</td>\n",
       "      <td>1.0</td>\n",
       "      <td>2.0</td>\n",
       "      <td>80.0</td>\n",
       "      <td>80.0</td>\n",
       "      <td>0.0</td>\n",
       "      <td>0.0</td>\n",
       "      <td>...</td>\n",
       "      <td>117.907762</td>\n",
       "      <td>0.132383</td>\n",
       "      <td>0.107898</td>\n",
       "      <td>0.141173</td>\n",
       "      <td>0.458921</td>\n",
       "      <td>0.450847</td>\n",
       "      <td>1.410242</td>\n",
       "      <td>1.816817</td>\n",
       "      <td>20.000000</td>\n",
       "      <td>0.0</td>\n",
       "    </tr>\n",
       "    <tr>\n",
       "      <th>1</th>\n",
       "      <td>Apartamento</td>\n",
       "      <td>Jalisco</td>\n",
       "      <td>10.0</td>\n",
       "      <td>2.0</td>\n",
       "      <td>1.0</td>\n",
       "      <td>1.0</td>\n",
       "      <td>95.0</td>\n",
       "      <td>95.0</td>\n",
       "      <td>0.0</td>\n",
       "      <td>0.0</td>\n",
       "      <td>...</td>\n",
       "      <td>117.907762</td>\n",
       "      <td>0.132383</td>\n",
       "      <td>0.107898</td>\n",
       "      <td>0.141173</td>\n",
       "      <td>0.458921</td>\n",
       "      <td>0.450847</td>\n",
       "      <td>1.410242</td>\n",
       "      <td>1.816817</td>\n",
       "      <td>31.666667</td>\n",
       "      <td>0.0</td>\n",
       "    </tr>\n",
       "    <tr>\n",
       "      <th>2</th>\n",
       "      <td>Apartamento</td>\n",
       "      <td>Distrito Federal</td>\n",
       "      <td>5.0</td>\n",
       "      <td>2.0</td>\n",
       "      <td>1.0</td>\n",
       "      <td>1.0</td>\n",
       "      <td>75.0</td>\n",
       "      <td>90.0</td>\n",
       "      <td>0.0</td>\n",
       "      <td>0.0</td>\n",
       "      <td>...</td>\n",
       "      <td>117.907762</td>\n",
       "      <td>0.132383</td>\n",
       "      <td>0.107898</td>\n",
       "      <td>0.141173</td>\n",
       "      <td>0.458921</td>\n",
       "      <td>0.450847</td>\n",
       "      <td>1.410242</td>\n",
       "      <td>1.816817</td>\n",
       "      <td>25.000000</td>\n",
       "      <td>15.0</td>\n",
       "    </tr>\n",
       "    <tr>\n",
       "      <th>3</th>\n",
       "      <td>Apartamento</td>\n",
       "      <td>Colima</td>\n",
       "      <td>1.0</td>\n",
       "      <td>2.0</td>\n",
       "      <td>1.0</td>\n",
       "      <td>1.0</td>\n",
       "      <td>58.0</td>\n",
       "      <td>NaN</td>\n",
       "      <td>0.0</td>\n",
       "      <td>0.0</td>\n",
       "      <td>...</td>\n",
       "      <td>117.907762</td>\n",
       "      <td>0.132383</td>\n",
       "      <td>0.107898</td>\n",
       "      <td>0.141173</td>\n",
       "      <td>0.458921</td>\n",
       "      <td>0.450847</td>\n",
       "      <td>1.410242</td>\n",
       "      <td>1.816817</td>\n",
       "      <td>19.333333</td>\n",
       "      <td>NaN</td>\n",
       "    </tr>\n",
       "    <tr>\n",
       "      <th>4</th>\n",
       "      <td>Apartamento</td>\n",
       "      <td>Nuevo León</td>\n",
       "      <td>NaN</td>\n",
       "      <td>3.0</td>\n",
       "      <td>2.0</td>\n",
       "      <td>4.0</td>\n",
       "      <td>256.0</td>\n",
       "      <td>NaN</td>\n",
       "      <td>0.0</td>\n",
       "      <td>0.0</td>\n",
       "      <td>...</td>\n",
       "      <td>117.907762</td>\n",
       "      <td>0.132383</td>\n",
       "      <td>0.107898</td>\n",
       "      <td>0.141173</td>\n",
       "      <td>0.458921</td>\n",
       "      <td>0.450847</td>\n",
       "      <td>1.410242</td>\n",
       "      <td>1.816817</td>\n",
       "      <td>42.666667</td>\n",
       "      <td>NaN</td>\n",
       "    </tr>\n",
       "  </tbody>\n",
       "</table>\n",
       "<p>5 rows × 29 columns</p>\n",
       "</div>"
      ],
      "text/plain": [
       "  tipodepropiedad         provincia  antiguedad  habitaciones  garages  banos  \\\n",
       "0     Apartamento  Distrito Federal         NaN           2.0      1.0    2.0   \n",
       "1     Apartamento           Jalisco        10.0           2.0      1.0    1.0   \n",
       "2     Apartamento  Distrito Federal         5.0           2.0      1.0    1.0   \n",
       "3     Apartamento            Colima         1.0           2.0      1.0    1.0   \n",
       "4     Apartamento        Nuevo León         NaN           3.0      2.0    4.0   \n",
       "\n",
       "   metroscubiertos  metrostotales  gimnasio  usosmultiples     ...      \\\n",
       "0             80.0           80.0       0.0            0.0     ...       \n",
       "1             95.0           95.0       0.0            0.0     ...       \n",
       "2             75.0           90.0       0.0            0.0     ...       \n",
       "3             58.0            NaN       0.0            0.0     ...       \n",
       "4            256.0            NaN       0.0            0.0     ...       \n",
       "\n",
       "   mean_metrostotales  mean_gimnasio  mean_usosmultiples  mean_piscina  \\\n",
       "0          117.907762       0.132383            0.107898      0.141173   \n",
       "1          117.907762       0.132383            0.107898      0.141173   \n",
       "2          117.907762       0.132383            0.107898      0.141173   \n",
       "3          117.907762       0.132383            0.107898      0.141173   \n",
       "4          117.907762       0.132383            0.107898      0.141173   \n",
       "\n",
       "   mean_escuelascercanas  mean_centroscomercialescercanos  mean_garages  \\\n",
       "0               0.458921                         0.450847      1.410242   \n",
       "1               0.458921                         0.450847      1.410242   \n",
       "2               0.458921                         0.450847      1.410242   \n",
       "3               0.458921                         0.450847      1.410242   \n",
       "4               0.458921                         0.450847      1.410242   \n",
       "\n",
       "   mean_banos  metro_promedio_por_habitacion  aire_libre  \n",
       "0    1.816817                      20.000000         0.0  \n",
       "1    1.816817                      31.666667         0.0  \n",
       "2    1.816817                      25.000000        15.0  \n",
       "3    1.816817                      19.333333         NaN  \n",
       "4    1.816817                      42.666667         NaN  \n",
       "\n",
       "[5 rows x 29 columns]"
      ]
     },
     "execution_count": 32,
     "metadata": {},
     "output_type": "execute_result"
    }
   ],
   "source": [
    "X.head()"
   ]
  },
  {
   "cell_type": "code",
   "execution_count": 33,
   "metadata": {},
   "outputs": [
    {
     "data": {
      "text/plain": [
       "(240000, 29)"
      ]
     },
     "execution_count": 33,
     "metadata": {},
     "output_type": "execute_result"
    }
   ],
   "source": [
    "X.shape"
   ]
  },
  {
   "cell_type": "code",
   "execution_count": 34,
   "metadata": {},
   "outputs": [],
   "source": [
    "X = pd.get_dummies(X, dummy_na=False)"
   ]
  },
  {
   "cell_type": "code",
   "execution_count": 35,
   "metadata": {},
   "outputs": [
    {
     "data": {
      "text/plain": [
       "(240000, 83)"
      ]
     },
     "execution_count": 35,
     "metadata": {},
     "output_type": "execute_result"
    }
   ],
   "source": [
    "X.shape"
   ]
  },
  {
   "cell_type": "code",
   "execution_count": 36,
   "metadata": {},
   "outputs": [
    {
     "data": {
      "text/plain": [
       "(240000,)"
      ]
     },
     "execution_count": 36,
     "metadata": {},
     "output_type": "execute_result"
    }
   ],
   "source": [
    "y.shape"
   ]
  },
  {
   "cell_type": "code",
   "execution_count": 37,
   "metadata": {},
   "outputs": [],
   "source": [
    "X_train, X_test, y_train, y_test = train_test_split(X, y, test_size=0.25, random_state=7)"
   ]
  },
  {
   "cell_type": "code",
   "execution_count": 38,
   "metadata": {},
   "outputs": [],
   "source": [
    "parametros = {'colsample_bytree': 0.8,\n",
    " 'gamma': 0,\n",
    " 'learning_rate': 0.1,\n",
    " 'max_depth': 10,\n",
    " 'min_child_weight': 1,\n",
    " 'n_estimators': 100,\n",
    " 'nthread': 4,\n",
    " 'random_state': 0,\n",
    " 'subsample': 1,\n",
    " #'eval_metric' : 'mae'             \n",
    "}"
   ]
  },
  {
   "cell_type": "code",
   "execution_count": 39,
   "metadata": {},
   "outputs": [],
   "source": [
    "model = XGBRegressor(**parametros)"
   ]
  },
  {
   "cell_type": "code",
   "execution_count": 40,
   "metadata": {},
   "outputs": [
    {
     "name": "stderr",
     "output_type": "stream",
     "text": [
      "/home/braianvillalba/.local/lib/python3.7/site-packages/xgboost/core.py:587: FutureWarning: Series.base is deprecated and will be removed in a future version\n",
      "  if getattr(data, 'base', None) is not None and \\\n"
     ]
    },
    {
     "name": "stdout",
     "output_type": "stream",
     "text": [
      "[13:54:18] WARNING: /workspace/src/objective/regression_obj.cu:152: reg:linear is now deprecated in favor of reg:squarederror.\n",
      "CPU times: user 1min 48s, sys: 2.56 s, total: 1min 51s\n",
      "Wall time: 27.9 s\n"
     ]
    },
    {
     "data": {
      "text/plain": [
       "XGBRegressor(base_score=0.5, booster='gbtree', colsample_bylevel=1,\n",
       "             colsample_bynode=1, colsample_bytree=0.8, gamma=0,\n",
       "             importance_type='gain', learning_rate=0.1, max_delta_step=0,\n",
       "             max_depth=10, min_child_weight=1, missing=None, n_estimators=100,\n",
       "             n_jobs=1, nthread=4, objective='reg:linear', random_state=0,\n",
       "             reg_alpha=0, reg_lambda=1, scale_pos_weight=1, seed=None,\n",
       "             silent=None, subsample=1, verbosity=1)"
      ]
     },
     "execution_count": 40,
     "metadata": {},
     "output_type": "execute_result"
    }
   ],
   "source": [
    "%%time\n",
    "model.fit(X_train, y_train)"
   ]
  },
  {
   "cell_type": "code",
   "execution_count": 41,
   "metadata": {},
   "outputs": [],
   "source": [
    "pred = model.predict(X_test)"
   ]
  },
  {
   "cell_type": "code",
   "execution_count": 42,
   "metadata": {},
   "outputs": [
    {
     "data": {
      "text/plain": [
       "60000"
      ]
     },
     "execution_count": 42,
     "metadata": {},
     "output_type": "execute_result"
    }
   ],
   "source": [
    "len(pred)"
   ]
  },
  {
   "cell_type": "code",
   "execution_count": 43,
   "metadata": {},
   "outputs": [
    {
     "data": {
      "text/plain": [
       "643890.8844751302"
      ]
     },
     "execution_count": 43,
     "metadata": {},
     "output_type": "execute_result"
    }
   ],
   "source": [
    "mean_absolute_error(y_test,pred)"
   ]
  },
  {
   "cell_type": "markdown",
   "metadata": {},
   "source": [
    "#### without metrics in hiper"
   ]
  },
  {
   "cell_type": "code",
   "execution_count": 44,
   "metadata": {},
   "outputs": [],
   "source": [
    "parametros2 = {\n",
    "'objective':'reg:gamma',\n",
    "'colsample_bytree': 0.8,\n",
    "'gamma': 0,\n",
    "'learning_rate': 0.1,\n",
    "'max_depth': 10,\n",
    "'min_child_weight': 1,\n",
    "'n_estimators': 1000,\n",
    "'nthread': 4,\n",
    "'random_state': 0,\n",
    "'subsample': 1,\n",
    "'eval_metric' : 'mae'\n",
    "            \n",
    "}"
   ]
  },
  {
   "cell_type": "code",
   "execution_count": 45,
   "metadata": {},
   "outputs": [],
   "source": [
    "model2 = XGBRegressor(**parametros2)"
   ]
  },
  {
   "cell_type": "code",
   "execution_count": 46,
   "metadata": {},
   "outputs": [
    {
     "name": "stderr",
     "output_type": "stream",
     "text": [
      "/home/braianvillalba/.local/lib/python3.7/site-packages/xgboost/core.py:587: FutureWarning: Series.base is deprecated and will be removed in a future version\n",
      "  if getattr(data, 'base', None) is not None and \\\n"
     ]
    },
    {
     "name": "stdout",
     "output_type": "stream",
     "text": [
      "CPU times: user 18min 1s, sys: 17.4 s, total: 18min 18s\n",
      "Wall time: 4min 35s\n"
     ]
    },
    {
     "data": {
      "text/plain": [
       "XGBRegressor(base_score=0.5, booster='gbtree', colsample_bylevel=1,\n",
       "             colsample_bynode=1, colsample_bytree=0.8, eval_metric='mae',\n",
       "             gamma=0, importance_type='gain', learning_rate=0.1,\n",
       "             max_delta_step=0, max_depth=10, min_child_weight=1, missing=None,\n",
       "             n_estimators=1000, n_jobs=1, nthread=4, objective='reg:gamma',\n",
       "             random_state=0, reg_alpha=0, reg_lambda=1, scale_pos_weight=1,\n",
       "             seed=None, silent=None, subsample=1, verbosity=1)"
      ]
     },
     "execution_count": 46,
     "metadata": {},
     "output_type": "execute_result"
    }
   ],
   "source": [
    "%%time\n",
    "model2.fit(X_train, y_train)"
   ]
  },
  {
   "cell_type": "code",
   "execution_count": 47,
   "metadata": {},
   "outputs": [],
   "source": [
    "pred2 = model2.predict(X_test)"
   ]
  },
  {
   "cell_type": "code",
   "execution_count": 48,
   "metadata": {},
   "outputs": [
    {
     "data": {
      "text/plain": [
       "60000"
      ]
     },
     "execution_count": 48,
     "metadata": {},
     "output_type": "execute_result"
    }
   ],
   "source": [
    "len(pred2)"
   ]
  },
  {
   "cell_type": "code",
   "execution_count": 49,
   "metadata": {},
   "outputs": [
    {
     "data": {
      "text/plain": [
       "array([ 701055.56, 2477766.2 , 2520556.5 , 5248483.5 ], dtype=float32)"
      ]
     },
     "execution_count": 49,
     "metadata": {},
     "output_type": "execute_result"
    }
   ],
   "source": [
    "pred2[:4]"
   ]
  },
  {
   "cell_type": "code",
   "execution_count": 50,
   "metadata": {},
   "outputs": [
    {
     "data": {
      "text/plain": [
       "60000"
      ]
     },
     "execution_count": 50,
     "metadata": {},
     "output_type": "execute_result"
    }
   ],
   "source": [
    "len(y_test)"
   ]
  },
  {
   "cell_type": "code",
   "execution_count": 51,
   "metadata": {},
   "outputs": [
    {
     "data": {
      "text/plain": [
       "191056     690000.0\n",
       "108467    2290000.0\n",
       "8889      2990000.0\n",
       "47055     4206500.0\n",
       "Name: precio, dtype: float64"
      ]
     },
     "execution_count": 51,
     "metadata": {},
     "output_type": "execute_result"
    }
   ],
   "source": [
    "y_test[:4]"
   ]
  },
  {
   "cell_type": "code",
   "execution_count": 52,
   "metadata": {},
   "outputs": [
    {
     "data": {
      "text/plain": [
       "626604.2074635417"
      ]
     },
     "execution_count": 52,
     "metadata": {},
     "output_type": "execute_result"
    }
   ],
   "source": [
    "mean_absolute_error(y_test,pred2)"
   ]
  },
  {
   "cell_type": "code",
   "execution_count": null,
   "metadata": {},
   "outputs": [],
   "source": []
  },
  {
   "cell_type": "code",
   "execution_count": 53,
   "metadata": {},
   "outputs": [],
   "source": [
    "df_submit = pd.read_csv('test.csv')"
   ]
  },
  {
   "cell_type": "code",
   "execution_count": 54,
   "metadata": {},
   "outputs": [
    {
     "data": {
      "text/plain": [
       "(60000, 22)"
      ]
     },
     "execution_count": 54,
     "metadata": {},
     "output_type": "execute_result"
    }
   ],
   "source": [
    "df_submit.shape"
   ]
  },
  {
   "cell_type": "code",
   "execution_count": 55,
   "metadata": {},
   "outputs": [],
   "source": [
    "dataSubmit = pd.DataFrame()\n",
    "dataSubmit['id'] = df_submit['id']\n",
    "dataSubmit['target'] = pred2"
   ]
  },
  {
   "cell_type": "code",
   "execution_count": 56,
   "metadata": {},
   "outputs": [],
   "source": [
    "dataSubmit.to_csv(\"data/workshop-xgboost-v4_1.csv\", index=False, header = True)"
   ]
  },
  {
   "cell_type": "code",
   "execution_count": null,
   "metadata": {},
   "outputs": [],
   "source": []
  }
 ],
 "metadata": {
  "kernelspec": {
   "display_name": "Python 3",
   "language": "python",
   "name": "python3"
  },
  "language_info": {
   "codemirror_mode": {
    "name": "ipython",
    "version": 3
   },
   "file_extension": ".py",
   "mimetype": "text/x-python",
   "name": "python",
   "nbconvert_exporter": "python",
   "pygments_lexer": "ipython3",
   "version": "3.7.1"
  }
 },
 "nbformat": 4,
 "nbformat_minor": 2
}
